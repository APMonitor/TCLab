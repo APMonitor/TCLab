{
 "cells": [
  {
   "cell_type": "code",
   "execution_count": 2,
   "metadata": {},
   "outputs": [],
   "source": [
    "from threading import Timer\n",
    "import time\n",
    "\n",
    "\n",
    "class PeriodicCallback(object):\n",
    "    def __init__(self, lab, function, tfinal, tinterval=1):\n",
    "        self.lab        = lab\n",
    "        self.tfinal     = tfinal\n",
    "        self.tinterval  = tinterval\n",
    "        self.function   = function\n",
    "        self._timer     = None\n",
    "        self.tstart     = time.time()\n",
    "        self.tnow       = self.tstart\n",
    "        self.is_running = False\n",
    "        self.start()\n",
    "\n",
    "    def _run(self):\n",
    "        \"\"\"Run the callback after starting a new Timer.\"\"\"\n",
    "        self.is_running = False\n",
    "        self.start()\n",
    "        self.function(self.lab, self.tnow)\n",
    "\n",
    "    def start(self):\n",
    "        # does nothing if a Timer is already running\n",
    "        # otherwise create and start a new Timer\n",
    "        if not self.is_running:\n",
    "            self.tnow = time.time() - self.tstart\n",
    "            if self.tnow < self.tfinal:\n",
    "                self._timer = Timer(self.tinterval - self.tnow % self.tinterval, self._run)\n",
    "            else:\n",
    "                self._timer = Timer(self.tinterval - self.tnow % self.tinterval, self.stop)\n",
    "            self._timer.start()\n",
    "            self.is_running = True   \n",
    "\n",
    "    def stop(self):\n",
    "        self.lab.close()\n",
    "        self._timer.cancel()\n",
    "        self.is_running = False"
   ]
  },
  {
   "cell_type": "code",
   "execution_count": 3,
   "metadata": {
    "scrolled": false
   },
   "outputs": [
    {
     "name": "stdout",
     "output_type": "stream",
     "text": [
      "NHduino connected on port /dev/cu.wchusbserial1410 at 115200 baud.\n",
      "TCLab Firmware 1.2.3.\n"
     ]
    }
   ],
   "source": [
    "import tclab\n",
    "\n",
    "SP = 90\n",
    "\n",
    "def ControlLoop(lab, t):\n",
    "    PV = lab.T1\n",
    "    MV = 100 if PV < SP else 0\n",
    "    lab.U1 = MV\n",
    "    print(round(t,4), PV, MV)\n",
    "    \n",
    "lab = tclab.TCLab()\n",
    "expt = PeriodicCallback(lab, ControlLoop, 10, 2)"
   ]
  },
  {
   "cell_type": "code",
   "execution_count": 5,
   "metadata": {
    "scrolled": false
   },
   "outputs": [
    {
     "data": {
      "image/png": "[encoded data removed]",
      "text/plain": [
       "<matplotlib.figure.Figure at 0x113e4b898>"
      ]
     },
     "metadata": {},
     "output_type": "display_data"
    },
    {
     "name": "stdout",
     "output_type": "stream",
     "text": [
      "TCLab disconnected successfully.\n"
     ]
    }
   ],
   "source": [
    "import tclab\n",
    "\n",
    "SP = 90\n",
    "\n",
    "def ControlLoop(lab, t):\n",
    "    PV = lab.T1\n",
    "    MV = 100 if PV < SP else 0\n",
    "    lab.U1 = MV\n",
    "    print(round(t,4), PV, MV)\n",
    "    p.update(t)\n",
    "    \n",
    "    \n",
    "lab = tclab.TCLab()\n",
    "h = tclab.Historian(lab.sources, dbfile=None)\n",
    "p = tclab.Plotter(h)\n",
    "expt = PeriodicCallback(lab, ControlLoop, 10, 2)"
   ]
  },
  {
   "cell_type": "code",
   "execution_count": null,
   "metadata": {},
   "outputs": [],
   "source": []
  }
 ],
 "metadata": {
  "kernelspec": {
   "display_name": "Python 3",
   "language": "python",
   "name": "python3"
  },
  "language_info": {
   "codemirror_mode": {
    "name": "ipython",
    "version": 3
   },
   "file_extension": ".py",
   "mimetype": "text/x-python",
   "name": "python",
   "nbconvert_exporter": "python",
   "pygments_lexer": "ipython3",
   "version": "3.6.4"
  }
 },
 "nbformat": 4,
 "nbformat_minor": 2
}
