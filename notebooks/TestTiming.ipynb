{
 "cells": [
  {
   "cell_type": "code",
   "execution_count": 90,
   "metadata": {},
   "outputs": [],
   "source": [
    "from threading import Timer\n",
    "import time\n",
    "\n",
    "\n",
    "class PeriodicCallback(object):\n",
    "    def __init__(self, lab, function, tfinal, tinterval=1):\n",
    "        self.lab        = lab\n",
    "        self.tfinal     = tfinal\n",
    "        self.tinterval  = tinterval\n",
    "        self.function   = function\n",
    "        self._timer     = None\n",
    "        self.tstart     = time.time()\n",
    "        self.tnow       = self.tstart\n",
    "        self.is_running = False\n",
    "        self.start()\n",
    "\n",
    "    def _run(self):\n",
    "        \"\"\"Run the callback after starting a new Timer.\"\"\"\n",
    "        self.is_running = False\n",
    "        self.start()\n",
    "        self.function(self.lab, self.tnow)\n",
    "\n",
    "    def start(self):\n",
    "        # does nothing if a Timer is already running\n",
    "        # otherwise create and start a new Timer\n",
    "        if not self.is_running:\n",
    "            self.tnow = time.time() - self.tstart\n",
    "            if self.tnow < self.tfinal:\n",
    "                self._timer = Timer(self.tinterval - self.tnow % self.tinterval, self._run)\n",
    "            else:\n",
    "                self._timer = Timer(self.tinterval - self.tnow % self.tinterval, self.stop)\n",
    "            self._timer.start()\n",
    "            self.is_running = True   \n",
    "\n",
    "    def stop(self):\n",
    "        self.lab.close()\n",
    "        self._timer.cancel()\n",
    "        self.is_running = False"
   ]
  },
  {
   "cell_type": "code",
   "execution_count": 92,
   "metadata": {
    "scrolled": false
   },
   "outputs": [
    {
     "name": "stdout",
     "output_type": "stream",
     "text": [
      "Arduino Leonardo connected on port /dev/cu.usbmodemWUAR1 at 115200 baud.\n",
      "TCLab Firmware 1.3.0 Arduino Leonardo/Micro.\n",
      "2.0014 27.03 100\n",
      "4.0023 27.03 100\n",
      "6.0038 27.03 100\n",
      "8.0032 27.03 100\n",
      "10.0014 27.03 100\n",
      "TCLab disconnected successfully.\n"
     ]
    }
   ],
   "source": [
    "import tclab\n",
    "\n",
    "SP = 90\n",
    "\n",
    "def ControlLoop(lab, t):\n",
    "    PV = lab.T1\n",
    "    MV = 100 if PV < SP else 0\n",
    "    lab.U1 = MV\n",
    "    print(round(t,4), PV, MV)\n",
    "    \n",
    "lab = tclab.TCLab()\n",
    "expt = PeriodicCallback(lab, ControlLoop, 10, 2)"
   ]
  },
  {
   "cell_type": "code",
   "execution_count": 91,
   "metadata": {
    "scrolled": false
   },
   "outputs": [
    {
     "data": {
      "image/png": "[encoded data removed]",
      "text/plain": [
       "<matplotlib.figure.Figure at 0x10c717668>"
      ]
     },
     "metadata": {},
     "output_type": "display_data"
    },
    {
     "name": "stdout",
     "output_type": "stream",
     "text": [
      "2.0013 26.06 100\n"
     ]
    },
    {
     "name": "stderr",
     "output_type": "stream",
     "text": [
      "Exception in thread Thread-242:\n",
      "Traceback (most recent call last):\n",
      "  File \"/Users/jeff/anaconda3/lib/python3.6/threading.py\", line 916, in _bootstrap_inner\n",
      "    self.run()\n",
      "  File \"/Users/jeff/anaconda3/lib/python3.6/threading.py\", line 1182, in run\n",
      "    self.function(*self.args, **self.kwargs)\n",
      "  File \"<ipython-input-90-cc5d22e8add6>\", line 21, in _run\n",
      "    self.function(self.lab, self.tnow)\n",
      "  File \"<ipython-input-91-afd12f701c94>\", line 11, in ControlLoop\n",
      "    p.update(t)\n",
      "  File \"/Users/jeff/Dropbox/Git/TCLab/tclab/historian.py\", line 186, in update\n",
      "    self.historian.update(tnow)\n",
      "  File \"/Users/jeff/Dropbox/Git/TCLab/tclab/historian.py\", line 100, in update\n",
      "    self.db.record(self.tnow, name, value)\n",
      "  File \"/Users/jeff/Dropbox/Git/TCLab/tclab/historian.py\", line 45, in record\n",
      "    (self.session, timeseconds, name, value))\n",
      "sqlite3.ProgrammingError: SQLite objects created in a thread can only be used in that same thread.The object was created in thread id 140736062968640 and this is thread id 123145552285696\n",
      "\n"
     ]
    },
    {
     "name": "stdout",
     "output_type": "stream",
     "text": [
      "4.0035 26.06 100\n"
     ]
    },
    {
     "name": "stderr",
     "output_type": "stream",
     "text": [
      "Exception in thread Thread-243:\n",
      "Traceback (most recent call last):\n",
      "  File \"/Users/jeff/anaconda3/lib/python3.6/threading.py\", line 916, in _bootstrap_inner\n",
      "    self.run()\n",
      "  File \"/Users/jeff/anaconda3/lib/python3.6/threading.py\", line 1182, in run\n",
      "    self.function(*self.args, **self.kwargs)\n",
      "  File \"<ipython-input-90-cc5d22e8add6>\", line 21, in _run\n",
      "    self.function(self.lab, self.tnow)\n",
      "  File \"<ipython-input-91-afd12f701c94>\", line 11, in ControlLoop\n",
      "    p.update(t)\n",
      "  File \"/Users/jeff/Dropbox/Git/TCLab/tclab/historian.py\", line 186, in update\n",
      "    self.historian.update(tnow)\n",
      "  File \"/Users/jeff/Dropbox/Git/TCLab/tclab/historian.py\", line 100, in update\n",
      "    self.db.record(self.tnow, name, value)\n",
      "  File \"/Users/jeff/Dropbox/Git/TCLab/tclab/historian.py\", line 45, in record\n",
      "    (self.session, timeseconds, name, value))\n",
      "sqlite3.ProgrammingError: SQLite objects created in a thread can only be used in that same thread.The object was created in thread id 140736062968640 and this is thread id 123145557540864\n",
      "\n"
     ]
    },
    {
     "name": "stdout",
     "output_type": "stream",
     "text": [
      "6.001 26.06 100\n"
     ]
    },
    {
     "name": "stderr",
     "output_type": "stream",
     "text": [
      "Exception in thread Thread-244:\n",
      "Traceback (most recent call last):\n",
      "  File \"/Users/jeff/anaconda3/lib/python3.6/threading.py\", line 916, in _bootstrap_inner\n",
      "    self.run()\n",
      "  File \"/Users/jeff/anaconda3/lib/python3.6/threading.py\", line 1182, in run\n",
      "    self.function(*self.args, **self.kwargs)\n",
      "  File \"<ipython-input-90-cc5d22e8add6>\", line 21, in _run\n",
      "    self.function(self.lab, self.tnow)\n",
      "  File \"<ipython-input-91-afd12f701c94>\", line 11, in ControlLoop\n",
      "    p.update(t)\n",
      "  File \"/Users/jeff/Dropbox/Git/TCLab/tclab/historian.py\", line 186, in update\n",
      "    self.historian.update(tnow)\n",
      "  File \"/Users/jeff/Dropbox/Git/TCLab/tclab/historian.py\", line 100, in update\n",
      "    self.db.record(self.tnow, name, value)\n",
      "  File \"/Users/jeff/Dropbox/Git/TCLab/tclab/historian.py\", line 45, in record\n",
      "    (self.session, timeseconds, name, value))\n",
      "sqlite3.ProgrammingError: SQLite objects created in a thread can only be used in that same thread.The object was created in thread id 140736062968640 and this is thread id 123145552285696\n",
      "\n"
     ]
    },
    {
     "name": "stdout",
     "output_type": "stream",
     "text": [
      "8.0019 26.06 100\n"
     ]
    },
    {
     "name": "stderr",
     "output_type": "stream",
     "text": [
      "Exception in thread Thread-245:\n",
      "Traceback (most recent call last):\n",
      "  File \"/Users/jeff/anaconda3/lib/python3.6/threading.py\", line 916, in _bootstrap_inner\n",
      "    self.run()\n",
      "  File \"/Users/jeff/anaconda3/lib/python3.6/threading.py\", line 1182, in run\n",
      "    self.function(*self.args, **self.kwargs)\n",
      "  File \"<ipython-input-90-cc5d22e8add6>\", line 21, in _run\n",
      "    self.function(self.lab, self.tnow)\n",
      "  File \"<ipython-input-91-afd12f701c94>\", line 11, in ControlLoop\n",
      "    p.update(t)\n",
      "  File \"/Users/jeff/Dropbox/Git/TCLab/tclab/historian.py\", line 186, in update\n",
      "    self.historian.update(tnow)\n",
      "  File \"/Users/jeff/Dropbox/Git/TCLab/tclab/historian.py\", line 100, in update\n",
      "    self.db.record(self.tnow, name, value)\n",
      "  File \"/Users/jeff/Dropbox/Git/TCLab/tclab/historian.py\", line 45, in record\n",
      "    (self.session, timeseconds, name, value))\n",
      "sqlite3.ProgrammingError: SQLite objects created in a thread can only be used in that same thread.The object was created in thread id 140736062968640 and this is thread id 123145557540864\n",
      "\n"
     ]
    },
    {
     "name": "stdout",
     "output_type": "stream",
     "text": [
      "10.0019 26.39 100\n"
     ]
    },
    {
     "name": "stderr",
     "output_type": "stream",
     "text": [
      "Exception in thread Thread-246:\n",
      "Traceback (most recent call last):\n",
      "  File \"/Users/jeff/anaconda3/lib/python3.6/threading.py\", line 916, in _bootstrap_inner\n",
      "    self.run()\n",
      "  File \"/Users/jeff/anaconda3/lib/python3.6/threading.py\", line 1182, in run\n",
      "    self.function(*self.args, **self.kwargs)\n",
      "  File \"<ipython-input-90-cc5d22e8add6>\", line 21, in _run\n",
      "    self.function(self.lab, self.tnow)\n",
      "  File \"<ipython-input-91-afd12f701c94>\", line 11, in ControlLoop\n",
      "    p.update(t)\n",
      "  File \"/Users/jeff/Dropbox/Git/TCLab/tclab/historian.py\", line 186, in update\n",
      "    self.historian.update(tnow)\n",
      "  File \"/Users/jeff/Dropbox/Git/TCLab/tclab/historian.py\", line 100, in update\n",
      "    self.db.record(self.tnow, name, value)\n",
      "  File \"/Users/jeff/Dropbox/Git/TCLab/tclab/historian.py\", line 45, in record\n",
      "    (self.session, timeseconds, name, value))\n",
      "sqlite3.ProgrammingError: SQLite objects created in a thread can only be used in that same thread.The object was created in thread id 140736062968640 and this is thread id 123145552285696\n",
      "\n"
     ]
    },
    {
     "name": "stdout",
     "output_type": "stream",
     "text": [
      "TCLab disconnected successfully.\n"
     ]
    }
   ],
   "source": [
    "import tclab\n",
    "\n",
    "SP = 90\n",
    "\n",
    "def ControlLoop(lab, t):\n",
    "    PV = lab.T1\n",
    "    MV = 100 if PV < SP else 0\n",
    "    lab.U1 = MV\n",
    "    print(round(t,4), PV, MV)\n",
    "    p.update(t)\n",
    "    \n",
    "    \n",
    "lab = tclab.TCLab()\n",
    "h = tclab.Historian(lab.sources)\n",
    "p = tclab.Plotter(h)\n",
    "expt = PeriodicCallback(lab, ControlLoop, 10, 2)"
   ]
  },
  {
   "cell_type": "code",
   "execution_count": null,
   "metadata": {},
   "outputs": [],
   "source": []
  }
 ],
 "metadata": {
  "kernelspec": {
   "display_name": "Python 3",
   "language": "python",
   "name": "python3"
  },
  "language_info": {
   "codemirror_mode": {
    "name": "ipython",
    "version": 3
   },
   "file_extension": ".py",
   "mimetype": "text/x-python",
   "name": "python",
   "nbconvert_exporter": "python",
   "pygments_lexer": "ipython3",
   "version": "3.6.3"
  }
 },
 "nbformat": 4,
 "nbformat_minor": 2
}
