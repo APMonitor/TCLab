{
 "cells": [
  {
   "cell_type": "markdown",
   "metadata": {},
   "source": [
    "# The Labtime Class\n",
    "\n",
    "The `Labtime` class is a tool for speeding up the simulation of process control experiments. With this tool you can more quickly develop control algorithms through simulation, then apply the algorithms to the Temperature Control Lab device with minimal changes to your code.\n",
    "\n",
    "In most cases you do not need to directly invoke `Labtime`. For example, `setup` with the optional parameter `speedup` (described in the chapter _TCLab Simulation for Offline Use_) uses `Labtime` to adjust the operation of the `clock` iterator. This is sufficient for many applications."
   ]
  },
  {
   "cell_type": "markdown",
   "metadata": {},
   "source": [
    "## Usage\n",
    "\n",
    "### .time()\n",
    "\n",
    "`Labtime` provides a replacement for the `time.time()` function from the Python standard library. The basic usage is demonstrated in the following cell. Note that `import` brings in an instance of `Labtime`. `labtime.time()` returns the _lab time_ elapsed since first imported into the Python kernal. "
   ]
  },
  {
   "cell_type": "code",
   "execution_count": 3,
   "metadata": {},
   "outputs": [
    {
     "name": "stdout",
     "output_type": "stream",
     "text": [
      "Time since first imported =  3671.47  labtime seconds.\n",
      "Time since first imported =  3673.47  labtime seconds.\n"
     ]
    }
   ],
   "source": [
    "from tclab import labtime\n",
    "\n",
    "tic = labtime.time()\n",
    "labtime.sleep(2)\n",
    "toc = labtime.time()\n",
    "\n",
    "print(\"Time since first imported = \", round(tic, 2), \" labtime seconds.\")\n",
    "print(\"Time since first imported = \", round(toc, 2), \" labtime seconds.\")"
   ]
  },
  {
   "cell_type": "markdown",
   "metadata": {},
   "source": [
    "By default, `labtime.time()` progresses at the same rate at real time as measured by the Python `time` package. The following cell demonstrates the default correspondence of labtime and real time."
   ]
  },
  {
   "cell_type": "code",
   "execution_count": 4,
   "metadata": {},
   "outputs": [
    {
     "name": "stdout",
     "output_type": "stream",
     "text": [
      "real time = 0.00    lab time = 0.00\n",
      "real time = 1.00    lab time = 1.00\n",
      "real time = 2.00    lab time = 2.00\n",
      "real time = 3.01    lab time = 3.01\n",
      "real time = 4.01    lab time = 4.01\n"
     ]
    }
   ],
   "source": [
    "from tclab import labtime\n",
    "import time\n",
    "\n",
    "def do(n):\n",
    "    time_start = time.time()\n",
    "    labtime_start = labtime.time()\n",
    "\n",
    "    for k in range(0,n):\n",
    "        t_real = time.time() - time_start\n",
    "        t_lab  = labtime.time() - labtime_start\n",
    "        print(\"real time = {0:4.2f}    lab time = {1:4.2f}\".format(t_real, t_lab))\n",
    "        time.sleep(1)\n",
    "        \n",
    "do(5)"
   ]
  },
  {
   "cell_type": "markdown",
   "metadata": {},
   "source": [
    "### .set_rate(rate) and .get_rate(rate)\n",
    "\n",
    "Lab time can proceed at a rate faster or slower than real time. The relative rate of lab time to real time is set with the `labtime.set_rate(rate)`. The default value is one.  The current value of the rate is returned by the `get_rate()`."
   ]
  },
  {
   "cell_type": "code",
   "execution_count": 5,
   "metadata": {},
   "outputs": [
    {
     "name": "stdout",
     "output_type": "stream",
     "text": [
      "Ratio of lab time to real time =  2\n",
      "real time = 0.00    lab time = 0.00\n",
      "real time = 1.00    lab time = 2.00\n",
      "real time = 2.00    lab time = 4.00\n",
      "real time = 3.00    lab time = 6.01\n",
      "real time = 4.00    lab time = 8.01\n"
     ]
    },
    {
     "ename": "TypeError",
     "evalue": "set_rate() missing 1 required positional argument: 'rate'",
     "output_type": "error",
     "traceback": [
      "\u001b[0;31m---------------------------------------------------------------------------\u001b[0m",
      "\u001b[0;31mTypeError\u001b[0m                                 Traceback (most recent call last)",
      "\u001b[0;32m<ipython-input-5-1273ae709598>\u001b[0m in \u001b[0;36m<module>\u001b[0;34m()\u001b[0m\n\u001b[1;32m      8\u001b[0m \u001b[0mdo\u001b[0m\u001b[0;34m(\u001b[0m\u001b[0;36m5\u001b[0m\u001b[0;34m)\u001b[0m\u001b[0;34m\u001b[0m\u001b[0m\n\u001b[1;32m      9\u001b[0m \u001b[0;34m\u001b[0m\u001b[0m\n\u001b[0;32m---> 10\u001b[0;31m \u001b[0mlabtime\u001b[0m\u001b[0;34m.\u001b[0m\u001b[0mset_rate\u001b[0m\u001b[0;34m(\u001b[0m\u001b[0;34m)\u001b[0m\u001b[0;34m\u001b[0m\u001b[0m\n\u001b[0m\u001b[1;32m     11\u001b[0m \u001b[0mprint\u001b[0m\u001b[0;34m(\u001b[0m\u001b[0;34m\"\\nRatio of lab time to real time = \"\u001b[0m\u001b[0;34m,\u001b[0m \u001b[0mlabtime\u001b[0m\u001b[0;34m.\u001b[0m\u001b[0mget_rate\u001b[0m\u001b[0;34m(\u001b[0m\u001b[0;34m)\u001b[0m\u001b[0;34m)\u001b[0m\u001b[0;34m\u001b[0m\u001b[0m\n\u001b[1;32m     12\u001b[0m \u001b[0;34m\u001b[0m\u001b[0m\n",
      "\u001b[0;31mTypeError\u001b[0m: set_rate() missing 1 required positional argument: 'rate'"
     ]
    }
   ],
   "source": [
    "from tclab import labtime\n",
    "import time\n",
    "\n",
    "\n",
    "labtime.set_rate(2)\n",
    "print(\"Ratio of lab time to real time = \", labtime.get_rate())\n",
    "\n",
    "do(5)\n",
    "\n",
    "labtime.set_rate()\n",
    "print(\"\\nRatio of lab time to real time = \", labtime.get_rate())\n",
    "\n",
    "for k in range(0,5):\n",
    "    t_real = time.time() - time_start\n",
    "    t_lab = labtime.time() - labtime_start\n",
    "    print(\"real time = {0:4.2f}    lab time = {1:4.2f}\".format(t_real, t_lab))\n",
    "    time.sleep(1)"
   ]
  },
  {
   "cell_type": "markdown",
   "metadata": {},
   "source": [
    "The `labtime.sleep()` method works like the Python `time.sleep()`, except the sleep period is specified in lab time rather than real time."
   ]
  },
  {
   "cell_type": "markdown",
   "metadata": {},
   "source": [
    "`Labtime` is incorporated into `clock` iterator for synchronizing a control loop with real time, and the \n",
    "\n",
    "Labtime shares the following properties with real time:\n",
    "\n",
    "* monotonically increasing\n",
    "* continuous\n",
    "* global \n",
    "\n",
    "Relative to real time, lab time can progress at non-uniform rates, faster or slower than real time, and even come to a stop. "
   ]
  },
  {
   "cell_type": "markdown",
   "metadata": {},
   "source": [
    "\n",
    "\n",
    "### .time()\n",
    "\n",
    "Access to Labtime is obtained by importing an instance `labtime` from `tclab`.  The current value of lab time is given by the `.time()` method."
   ]
  },
  {
   "cell_type": "markdown",
   "metadata": {},
   "source": [
    "### .sleep(delay)\n",
    "\n",
    "The `sleep()` method suspends execution for a period `delay` in lab time units.\n",
    "\n",
    "### .reset(t)\n",
    "\n",
    "The `reset(t)` method resets lab time to `t`. The function `setnow(t)` provides an equivalent service, and is included to provide backward compatibility early versions of `tclab`.\n",
    "\n",
    "### .stop() / .start() / .running"
   ]
  },
  {
   "cell_type": "markdown",
   "metadata": {},
   "source": [
    "## Auxiliary Functions\n",
    "\n",
    "### clock(tperiod, tstep)\n",
    "\n",
    "### setnow(t)"
   ]
  },
  {
   "cell_type": "code",
   "execution_count": null,
   "metadata": {},
   "outputs": [],
   "source": []
  }
 ],
 "metadata": {
  "kernelspec": {
   "display_name": "Python 3",
   "language": "python",
   "name": "python3"
  },
  "language_info": {
   "codemirror_mode": {
    "name": "ipython",
    "version": 3
   },
   "file_extension": ".py",
   "mimetype": "text/x-python",
   "name": "python",
   "nbconvert_exporter": "python",
   "pygments_lexer": "ipython3",
   "version": "3.6.4"
  }
 },
 "nbformat": 4,
 "nbformat_minor": 2
}
