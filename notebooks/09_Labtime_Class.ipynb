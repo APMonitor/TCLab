{
 "cells": [
  {
   "cell_type": "markdown",
   "metadata": {},
   "source": [
    "# The Labtime Class\n",
    "\n",
    "The Labtime class provides a means for emulating process control experiments without being rigidly constrained by real time. Labtime shares the following properties with real time:\n",
    "\n",
    "* monotonically increasing\n",
    "* continuous\n",
    "* global \n",
    "\n",
    "Relative to real time, lab time can progress at non-uniform rates, faster or slower than real time, and even come to a stop. "
   ]
  },
  {
   "cell_type": "markdown",
   "metadata": {},
   "source": [
    "## Basic Use\n",
    "\n",
    "### .time()\n",
    "\n",
    "Access to Labtime is obtained by importing an instance `labtime` from `tclab`.  The current value of lab time is given by the `.time()` method."
   ]
  },
  {
   "cell_type": "code",
   "execution_count": 6,
   "metadata": {},
   "outputs": [
    {
     "name": "stdout",
     "output_type": "stream",
     "text": [
      "701.9317791461945\n"
     ]
    }
   ],
   "source": [
    "from tclab import labtime\n",
    "\n",
    "print(labtime.time())"
   ]
  },
  {
   "cell_type": "markdown",
   "metadata": {},
   "source": [
    "Lab time is measured in seconds beginning at the time the `tclab` instance was created, and is a global value within the current state of the Python kernal.\n",
    "\n",
    "### .set_rate(rate) and .get_rate(rate)\n",
    "\n",
    "By default, `labtime.time()` progresses at the same rate at real time as measured by the Python `time` package. The following cell demonstrates the default correspondence of lab time and real time.\n"
   ]
  },
  {
   "cell_type": "code",
   "execution_count": 16,
   "metadata": {},
   "outputs": [
    {
     "name": "stdout",
     "output_type": "stream",
     "text": [
      "0 0.0001 0.0001\n",
      "1 1.0033 1.0033\n",
      "2 2.0088 2.0087\n",
      "3 3.0126 3.0126\n",
      "4 4.0169 4.0169\n"
     ]
    }
   ],
   "source": [
    "from tclab import labtime\n",
    "import time\n",
    "\n",
    "time_start = time.time()\n",
    "labtime_start = labtime.time()\n",
    "\n",
    "for k in range(0,5):\n",
    "    t_real = time.time() - time_start\n",
    "    t_lab = labtime.time() - labtime_start\n",
    "    print(k, round(t_real,4), round(t_lab,4))\n",
    "    time.sleep(1)"
   ]
  },
  {
   "cell_type": "markdown",
   "metadata": {},
   "source": [
    "Intervals in lab time can proceed faster or slower than real time as determined by a factor `rate`. The value of `rate` adjusts the ratio of lab time to real time, and is set with the `set_rate(rate)` method. The default value is one. The current value of the rate is returned by the `get_rate()` method."
   ]
  },
  {
   "cell_type": "code",
   "execution_count": 15,
   "metadata": {},
   "outputs": [
    {
     "name": "stdout",
     "output_type": "stream",
     "text": [
      "Ratio of lab time to real time =  5\n",
      "0.0007 0.0032\n",
      "1.0016 5.0078\n",
      "2.0058 10.0291\n",
      "3.0079 15.0395\n",
      "4.0107 20.0533\n",
      "\n",
      "Ratio of lab time to real time =  1\n",
      "5.0117 25.0565\n",
      "6.0123 26.0571\n",
      "7.0161 27.0609\n",
      "8.021 28.0658\n",
      "9.0233 29.0681\n"
     ]
    }
   ],
   "source": [
    "from tclab import labtime\n",
    "import time\n",
    "\n",
    "time_start = time.time()\n",
    "labtime_start = labtime.time()\n",
    "\n",
    "labtime.set_rate(5)\n",
    "print(\"Ratio of lab time to real time = \", labtime.get_rate())\n",
    "\n",
    "for k in range(0,5):\n",
    "    t_real = time.time() - time_start\n",
    "    t_lab = labtime.time() - labtime_start\n",
    "    print(round(t_real,4), round(t_lab,4))\n",
    "    time.sleep(1)\n",
    "\n",
    "labtime.set_rate()\n",
    "print(\"\\nRatio of lab time to real time = \", labtime.get_rate())\n",
    "\n",
    "for k in range(0,5):\n",
    "    t_real = time.time() - time_start\n",
    "    t_lab = labtime.time() - labtime_start\n",
    "    print(round(t_real,4), round(t_lab,4))\n",
    "    time.sleep(1)"
   ]
  },
  {
   "cell_type": "markdown",
   "metadata": {},
   "source": [
    "### .sleep(delay)\n",
    "\n",
    "The `sleep()` method suspends execution for a period `delay` in lab time units.\n",
    "\n",
    "### .reset(t)\n",
    "\n",
    "The `reset(t)` method resets lab time to `t`. The function `setnow(t)` provides an equivalent service, and is included to provide backward compatibility early versions of `tclab`.\n",
    "\n",
    "### .stop() / .start() / .running"
   ]
  },
  {
   "cell_type": "markdown",
   "metadata": {},
   "source": [
    "## Auxiliary Functions\n",
    "\n",
    "### clock(tperiod, tstep)\n",
    "\n",
    "### setnow(t)"
   ]
  },
  {
   "cell_type": "code",
   "execution_count": null,
   "metadata": {},
   "outputs": [],
   "source": []
  }
 ],
 "metadata": {
  "kernelspec": {
   "display_name": "Python 3",
   "language": "python",
   "name": "python3"
  },
  "language_info": {
   "codemirror_mode": {
    "name": "ipython",
    "version": 3
   },
   "file_extension": ".py",
   "mimetype": "text/x-python",
   "name": "python",
   "nbconvert_exporter": "python",
   "pygments_lexer": "ipython3",
   "version": "3.6.4"
  }
 },
 "nbformat": 4,
 "nbformat_minor": 2
}
