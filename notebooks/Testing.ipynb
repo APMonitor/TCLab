{
 "cells": [
  {
   "cell_type": "markdown",
   "metadata": {},
   "source": [
    "# Testing"
   ]
  },
  {
   "cell_type": "markdown",
   "metadata": {},
   "source": [
    "## Temperature Sampling Speed"
   ]
  },
  {
   "cell_type": "code",
   "execution_count": 26,
   "metadata": {},
   "outputs": [
    {
     "name": "stdout",
     "output_type": "stream",
     "text": [
      "Connecting to TCLab\n",
      "TCLab Firmware 1.2.3 (NHduino)  on port /dev/cu.wchusbserial1410 at 115200 baud.\n",
      "TCLab disconnected successfully.\n",
      "Reading temperature 41.83228901483323 samples per second.\n"
     ]
    }
   ],
   "source": [
    "import time\n",
    "from tclab import setup, clock\n",
    "\n",
    "lab = setup(connected=True)\n",
    "\n",
    "N = 100\n",
    "meas = []\n",
    "with lab() as a:\n",
    "    tic = time.time()\n",
    "    for k in range(0,N):\n",
    "        meas.append(a.T1)\n",
    "    toc = time.time()\n",
    "\n",
    "print('Reading temperature', N/(toc-tic), 'samples per second.')"
   ]
  },
  {
   "cell_type": "markdown",
   "metadata": {},
   "source": [
    "## Heater Sampling Speed"
   ]
  },
  {
   "cell_type": "code",
   "execution_count": 27,
   "metadata": {},
   "outputs": [
    {
     "name": "stdout",
     "output_type": "stream",
     "text": [
      "Connecting to TCLab\n",
      "TCLab Firmware 1.2.3 (NHduino)  on port /dev/cu.wchusbserial1410 at 115200 baud.\n",
      "TCLab disconnected successfully.\n",
      "Setting heater at  41.245463721176485 samples per second.\n"
     ]
    }
   ],
   "source": [
    "import time\n",
    "from tclab import setup, clock\n",
    "\n",
    "lab = setup(connected=True)\n",
    "\n",
    "N = 100\n",
    "meas = []\n",
    "with lab() as a:\n",
    "    tic = time.time()\n",
    "    for k in range(0,N):\n",
    "        a.Q1(100)\n",
    "    toc = time.time()\n",
    "\n",
    "print('Setting heater at ', N/(toc-tic), 'samples per second.')"
   ]
  },
  {
   "cell_type": "markdown",
   "metadata": {},
   "source": [
    "## Working with Tornado\n",
    "\n",
    "This is an experiment to build a non-blocking event loop for TCLab.  The main idea is to implement the main event loop as a generator, then use Tornando's non-blocking timer to send periodic messages to the generator."
   ]
  },
  {
   "cell_type": "code",
   "execution_count": 15,
   "metadata": {},
   "outputs": [
    {
     "data": {
      "image/png": "[encoded data removed]",
      "text/plain": [
       "<matplotlib.figure.Figure at 0x1129720f0>"
      ]
     },
     "metadata": {},
     "output_type": "display_data"
    }
   ],
   "source": [
    "import tornado\n",
    "import time\n",
    "from tclab import setup, Historian, Plotter\n",
    "\n",
    "SP = 40\n",
    "Kp = 0\n",
    "\n",
    "def update(lab):\n",
    "    t = 0\n",
    "    h = Historian(lab.sources)\n",
    "    p = Plotter(h,120)\n",
    "    while True:\n",
    "        PV = lab.T1\n",
    "        MV = Kp*(SP-PV)\n",
    "        lab.U1 = MV\n",
    "        p.update(t)\n",
    "        yield\n",
    "        t += 1\n",
    "\n",
    "lab = setup(connected=True)\n",
    "a = lab()\n",
    "\n",
    "update_gen = update(a)\n",
    "\n",
    "timer = tornado.ioloop.PeriodicCallback(lambda: next(update_gen), 1000)\n",
    "timer.start()"
   ]
  },
  {
   "cell_type": "code",
   "execution_count": 16,
   "metadata": {},
   "outputs": [
    {
     "data": {
      "image/png": "[encoded data removed]",
      "text/plain": [
       "<matplotlib.figure.Figure at 0x1129720f0>"
      ]
     },
     "metadata": {},
     "output_type": "display_data"
    }
   ],
   "source": [
    "Kp = 10"
   ]
  },
  {
   "cell_type": "code",
   "execution_count": 17,
   "metadata": {},
   "outputs": [
    {
     "name": "stdout",
     "output_type": "stream",
     "text": [
      "TCLab disconnected successfully.\n"
     ]
    }
   ],
   "source": [
    "timer.stop()\n",
    "a.close()"
   ]
  },
  {
   "cell_type": "code",
   "execution_count": null,
   "metadata": {},
   "outputs": [],
   "source": []
  },
  {
   "cell_type": "markdown",
   "metadata": {},
   "source": [
    "## Working with Widgets"
   ]
  },
  {
   "cell_type": "code",
   "execution_count": 39,
   "metadata": {},
   "outputs": [
    {
     "data": {
      "application/vnd.jupyter.widget-view+json": {
       "model_id": "c89b2de7b020411895a3d134de325960",
       "version_major": 2,
       "version_minor": 0
      },
      "text/plain": [
       "A Jupyter Widget"
      ]
     },
     "metadata": {},
     "output_type": "display_data"
    }
   ],
   "source": [
    "from ipywidgets import interactive\n",
    "from tclab import setup, clock, Historian, Plotter\n",
    "\n",
    "def proportional(Kp):\n",
    "    MV = 0\n",
    "    while True:\n",
    "        PV, SP = yield MV\n",
    "        MV = Kp*(SP-PV)\n",
    "\n",
    "def sim(Kp=1, SP=40):\n",
    "    controller = proportional(Kp)\n",
    "    controller.send(None)\n",
    "\n",
    "    lab = setup(connected=False, speedup=20)\n",
    "    with lab() as a:\n",
    "        h = Historian(a.sources)\n",
    "        p = Plotter(h,200)\n",
    "        for t in clock(200):\n",
    "            PV = a.T1\n",
    "            MV = controller.send([PV,SP])\n",
    "            a.U1 = MV\n",
    "            h.update()\n",
    "        p.update()   \n",
    "\n",
    "interactive_plot = interactive(sim, Kp=(0,20,1), SP=(25,60,5), continuous_update=False);\n",
    "output = interactive_plot.children[-1]\n",
    "output.layout.height = '500px'\n",
    "interactive_plot"
   ]
  }
 ],
 "metadata": {
  "kernelspec": {
   "display_name": "Python 3",
   "language": "python",
   "name": "python3"
  },
  "language_info": {
   "codemirror_mode": {
    "name": "ipython",
    "version": 3
   },
   "file_extension": ".py",
   "mimetype": "text/x-python",
   "name": "python",
   "nbconvert_exporter": "python",
   "pygments_lexer": "ipython3",
   "version": "3.6.3"
  }
 },
 "nbformat": 4,
 "nbformat_minor": 2
}
