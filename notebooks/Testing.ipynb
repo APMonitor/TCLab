{
 "cells": [
  {
   "cell_type": "code",
   "execution_count": 1,
   "metadata": {},
   "outputs": [
    {
     "name": "stdout",
     "output_type": "stream",
     "text": [
      "Connecting to TCLab\n",
      "TCLab Firmware 1.2.2 (NHduino)  on port /dev/cu.wchusbserial1410 at 115200 baud.\n",
      "TCLab disconnected successfully.\n",
      "[19.93, 19.93, 20.25, 19.93, 20.25, 19.93, 19.93, 20.25, 19.93, 19.93, 19.93, 19.93, 19.93, 19.93, 19.93, 19.93, 19.61, 20.25, 19.93, 20.25]\n"
     ]
    },
    {
     "data": {
      "text/plain": [
       "0.4791090488433838"
      ]
     },
     "execution_count": 1,
     "metadata": {},
     "output_type": "execute_result"
    }
   ],
   "source": [
    "import time\n",
    "from tclab import setup, clock\n",
    "\n",
    "lab = setup(connected=True)\n",
    "\n",
    "meas = []\n",
    "with lab() as a:\n",
    "    tic = time.time()\n",
    "    for k in range(0,20):\n",
    "        meas.append(a.T1)\n",
    "    toc = time.time()\n",
    "\n",
    "print(meas)\n",
    "toc - tic\n",
    "    "
   ]
  },
  {
   "cell_type": "code",
   "execution_count": null,
   "metadata": {},
   "outputs": [],
   "source": []
  }
 ],
 "metadata": {
  "kernelspec": {
   "display_name": "Python 3",
   "language": "python",
   "name": "python3"
  },
  "language_info": {
   "codemirror_mode": {
    "name": "ipython",
    "version": 3
   },
   "file_extension": ".py",
   "mimetype": "text/x-python",
   "name": "python",
   "nbconvert_exporter": "python",
   "pygments_lexer": "ipython3",
   "version": "3.6.3"
  }
 },
 "nbformat": 4,
 "nbformat_minor": 2
}
