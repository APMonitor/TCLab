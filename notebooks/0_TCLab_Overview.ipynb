{
 "cells": [
  {
   "cell_type": "markdown",
   "metadata": {},
   "source": [
    "# 0 TCLab Overview\n",
    "\n",
    "The following cells in this notebook demonstrate the use of the Temperature Control Lab."
   ]
  },
  {
   "cell_type": "markdown",
   "metadata": {
    "slideshow": {
     "slide_type": "slide"
    }
   },
   "source": [
    "## TCLab Architecture\n",
    "<img src='images/TCLabOverview.png' style=\"float: left;padding-right:30px;\"></img>\n",
    "**_Notebooks:_**\n",
    "Examples, lessons, and student projects.\n",
    "\n",
    "**_tclab.py:_**\n",
    "Provide high-level ccess to sensors, heaters, a pseudo-realtime clock.\n",
    "\n",
    "**_sketch.ino:_**\n",
    "Ensure intrisically safe operation of the Arduino board and shield."
   ]
  },
  {
   "cell_type": "markdown",
   "metadata": {
    "slideshow": {
     "slide_type": "skip"
    }
   },
   "source": [
    "## Connecting TCLab\n",
    "\n",
    "Using TCLab is pretty straightforward. The first step is to import the python module `TCLab.py` which should be located in a top-level directory of the same name.  If it is located somewhere else, then then argument ot `sys.path.append` should be altered accordingly. An alternative is to located the module in the same directory as the notebook in which case the `import sys` and `sys.path.append` commands can be omitted.\n",
    "\n",
    "A TCLab() instance is created with the statement\n",
    "\n",
    "    a = TCLab()\n",
    "\n",
    "Upon creation, the TCLab() instance attempts to find the TCLab device connected to a serial port. An error is generated if no device is connecdted."
   ]
  },
  {
   "cell_type": "code",
   "execution_count": 10,
   "metadata": {
    "slideshow": {
     "slide_type": "skip"
    }
   },
   "outputs": [
    {
     "name": "stdout",
     "output_type": "stream",
     "text": [
      "Connecting to TCLab\n",
      "TCLab connected on port /dev/cu.usbmodem1411\n",
      "TClab Firmware Version 0.1.0\n",
      "TCLab disconnected successfully.\n"
     ]
    }
   ],
   "source": [
    "import sys\n",
    "sys.path.append(\"..\")\n",
    "from TCLab import TCLab\n",
    "\n",
    "with TCLab() as a:\n",
    "    print(a.version)"
   ]
  },
  {
   "cell_type": "markdown",
   "metadata": {},
   "source": [
    "## Reading Temperatures\n",
    "\n",
    "Once a TCLab instance is created and been connected to the device, the temperature sensors on the temperature control lab are acccessed with the `.T1` and `.T2` attributes.\n",
    "\n",
    "    T1 = a.T1\n",
    "    T2 = a.T2\n",
    "\n",
    "Note that `a.T1` and `a.T2` are read-only. Any attempt to set them to a value will return a Python error."
   ]
  },
  {
   "cell_type": "code",
   "execution_count": 11,
   "metadata": {},
   "outputs": [
    {
     "name": "stdout",
     "output_type": "stream",
     "text": [
      "Connecting to TCLab\n",
      "TCLab connected on port /dev/cu.usbmodem1411\n",
      "Temperature 1: 18.96 C\n",
      "Temperature 2: 19.61 C\n",
      "TCLab disconnected successfully.\n"
     ]
    }
   ],
   "source": [
    "import sys\n",
    "sys.path.append(\"..\")\n",
    "from TCLab import TCLab\n",
    "\n",
    "with TCLab() as a:\n",
    "    print(\"Temperature 1: {0:0.2f} C\".format(a.T1))\n",
    "    print(\"Temperature 2: {0:0.2f} C\".format(a.T2))"
   ]
  },
  {
   "cell_type": "markdown",
   "metadata": {
    "slideshow": {
     "slide_type": "skip"
    }
   },
   "source": [
    "## Setting Heaters\n",
    "\n",
    "The heaters are controlled by the `.Q1` and `.Q2` attributes of a TCLab instance. These can be set independently at any time by the statements\n",
    "\n",
    "    a.Q1 = 200\n",
    "    a.Q2 = 100\n",
    "\n",
    "The device firmware limits the heaters to a range of 0 to 150. The attributes may be accessed via\n",
    "\n",
    "    Q1 = a.Q1\n",
    "    Q2 = a.Q2\n",
    "    \n",
    "Note that the retrieved values may be different than the set values due to the range-limiting enforced by the device firmware.\n"
   ]
  },
  {
   "cell_type": "code",
   "execution_count": 3,
   "metadata": {
    "slideshow": {
     "slide_type": "skip"
    }
   },
   "outputs": [
    {
     "name": "stdout",
     "output_type": "stream",
     "text": [
      "Connecting to TCLab\n",
      "TCLab connected on port /dev/cu.usbmodem1411\n",
      "\n",
      "Starting Temperature 1: 38.62 C\n",
      "Starting Temperature 2: 32.18 C\n",
      "\n",
      "Set Heater 1: 200 mV\n",
      "Set Heater 2: 100 mV\n",
      "\n",
      "Heat for 30 seconds\n",
      "\n",
      "Turn Heaters Off\n",
      "\n",
      "Final Temperature 1: 46.04 C\n",
      "Final Temperature 2: 36.04 C\n",
      "TCLab disconnected successfully.\n"
     ]
    }
   ],
   "source": [
    "import sys\n",
    "sys.path.append(\"..\")\n",
    "from TCLab import TCLab\n",
    "import time\n",
    "\n",
    "with TCLab() as a:\n",
    "    print(\"\\nStarting Temperature 1: {0:0.2f} C\".format(a.T1),flush=True)\n",
    "    print(\"Starting Temperature 2: {0:0.2f} C\".format(a.T2),flush=True)\n",
    "\n",
    "    t_heat = 30\n",
    "    a.Q1 = 200\n",
    "    a.Q2 = 100\n",
    "\n",
    "    print(\"\\nSet Heater 1:\", a.Q1, \"mV\",flush=True)\n",
    "    print(\"Set Heater 2:\", a.Q2, \"mV\",flush=True)\n",
    "\n",
    "    print(\"\\nHeat for\", t_heat, \"seconds\")\n",
    "    time.sleep(t_heat)\n",
    "\n",
    "    print(\"\\nTurn Heaters Off\")\n",
    "    a.Q1 = 0\n",
    "    a.Q2 = 0\n",
    "\n",
    "    print(\"\\nFinal Temperature 1: {0:0.2f} C\".format(a.T1))\n",
    "    print(\"Final Temperature 2: {0:0.2f} C\".format(a.T2))"
   ]
  },
  {
   "cell_type": "markdown",
   "metadata": {
    "slideshow": {
     "slide_type": "skip"
    }
   },
   "source": [
    "## TCLab clock\n",
    "\n",
    "For convenience, the TCLab module includes a function `control` for synchronizing calculations with real time.  `control(tfinal,tstep)` is a python iterator that generates a sequence of time steps that end in `tfinal` seconds and are separated by `tstep` seconds in time. "
   ]
  },
  {
   "cell_type": "code",
   "execution_count": 1,
   "metadata": {},
   "outputs": [
    {
     "name": "stdout",
     "output_type": "stream",
     "text": [
      "0.0 sec.\n",
      "1.0 sec.\n",
      "2.0 sec.\n",
      "3.0 sec.\n",
      "4.0 sec.\n",
      "4.99 sec.\n"
     ]
    }
   ],
   "source": [
    "import sys\n",
    "sys.path.append(\"..\")\n",
    "from TCLab import clock\n",
    "\n",
    "tfinal = 5\n",
    "tstep = 1\n",
    "for t in clock(tfinal):\n",
    "    print(t, \"sec.\")"
   ]
  },
  {
   "cell_type": "markdown",
   "metadata": {},
   "source": [
    "There are some considerations to keep in mind when using `clock`. Most important, by its nature Python is not a real-time environment. `clock` makes a best effort to stay in sync with the wall clock, but there is no guarantee.\n",
    "\n",
    "Second, whatever calculations you perform inside the clock must take less than tstep seconds to complete, otherwise there is no way for `clock` to keep up with real time. Under normal usage, an error exception is raised if `clock` fails to keep up with real time.\n",
    "\n",
    "There is an optional flag that allows clock to slip out of real time sync. The usage is\n",
    "\n",
    "    clock(tfinal, tstep, strict=False)\n",
    "    \n",
    "which is demonstrated in the following cell where, for a certain interval, a calculation is performed that takes longer than tstep to complete."
   ]
  },
  {
   "cell_type": "code",
   "execution_count": 2,
   "metadata": {},
   "outputs": [
    {
     "name": "stdout",
     "output_type": "stream",
     "text": [
      "0.0 sec.\n",
      "2.0 sec.\n",
      "3.99 sec.\n",
      "6.2 sec.\n",
      "8.19 sec.\n",
      "10.19 sec.\n"
     ]
    }
   ],
   "source": [
    "import sys\n",
    "sys.path.append(\"..\")\n",
    "from TCLab import clock\n",
    "\n",
    "import time\n",
    "\n",
    "tfinal = 12\n",
    "tstep = 2\n",
    "for t in clock(tfinal,tstep,strict=False):\n",
    "    print(t, \"sec.\")\n",
    "    if (t > 3) and (t < 5):\n",
    "        time.sleep(2.2)"
   ]
  },
  {
   "cell_type": "markdown",
   "metadata": {},
   "source": [
    "## Logging Data\n",
    "\n",
    "Values of the `.T1`, `.T2`, `.Q1`, and `.Q2` attributes are logged whenever they are accessed. If `a` is a TCLab instance, the log may be plotted with the command\n",
    "\n",
    "    a.plot()\n",
    "    \n",
    "as demonsstrated in the following cells."
   ]
  },
  {
   "cell_type": "code",
   "execution_count": 6,
   "metadata": {
    "scrolled": true
   },
   "outputs": [
    {
     "name": "stdout",
     "output_type": "stream",
     "text": [
      "Connecting to TCLab\n",
      "TCLab connected on port /dev/cu.usbmodem1411\n",
      "\n",
      "Set Heater 1 to 200 mV\n",
      "Set Heater 2 to 100 mV\n",
      "     0.0 sec:   T1 = 48.6 C    T2 = 38.3 C\n",
      "     5.0 sec:   T1 = 48.6 C    T2 = 38.6 C\n",
      "    10.0 sec:   T1 = 48.6 C    T2 = 39.0 C\n",
      "    15.0 sec:   T1 = 49.6 C    T2 = 38.3 C\n",
      "    20.0 sec:   T1 = 50.2 C    T2 = 39.0 C\n",
      "    25.0 sec:   T1 = 51.2 C    T2 = 40.2 C\n",
      "    30.0 sec:   T1 = 52.5 C    T2 = 40.9 C\n",
      "    35.0 sec:   T1 = 53.5 C    T2 = 40.6 C\n",
      "    40.0 sec:   T1 = 54.7 C    T2 = 42.2 C\n",
      "    45.0 sec:   T1 = 55.7 C    T2 = 41.9 C\n",
      "    50.0 sec:   T1 = 57.0 C    T2 = 42.5 C\n",
      "    55.0 sec:   T1 = 58.0 C    T2 = 44.1 C\n",
      "    60.0 sec:   T1 = 59.2 C    T2 = 43.8 C\n",
      "TCLab disconnected successfully.\n"
     ]
    }
   ],
   "source": [
    "%matplotlib inline\n",
    "import sys\n",
    "sys.path.append(\"..\")\n",
    "from TCLab import TCLab, clock\n",
    "\n",
    "# connect to the temperature control lab\n",
    "with TCLab() as a:\n",
    "    # turn heaters on\n",
    "    a.Q1 = 200\n",
    "    a.Q2 = 100\n",
    "    print(\"\\nSet Heater 1 to {0:d} mV\".format(a.Q1))\n",
    "    print(\"Set Heater 2 to {0:d} mV\".format(a.Q2))\n",
    "\n",
    "    # report temperatures for the next minutes\n",
    "    sfmt = \"   {0:5.1f} sec:   T1 = {1:0.1f} C    T2 = {2:0.1f} C\"\n",
    "    for t in clock(60,5):\n",
    "        print(sfmt.format(t, a.T1, a.T2), flush=True)"
   ]
  },
  {
   "cell_type": "code",
   "execution_count": 7,
   "metadata": {},
   "outputs": [
    {
     "data": {
      "image/png": "[encoded data removed]",
      "text/plain": [
       "<matplotlib.figure.Figure at 0x10b0c2550>"
      ]
     },
     "metadata": {},
     "output_type": "display_data"
    }
   ],
   "source": [
    "a.plot()"
   ]
  },
  {
   "cell_type": "markdown",
   "metadata": {},
   "source": [
    "## Realtime Plotting\n",
    "\n",
    "Real time plotting is available within Jupyter notebooks. The command\n",
    "\n",
    "    a.initplot(tfinal)\n",
    "    \n",
    "initializes plotting with the horizontal axis set from 0 to `tfinal`. Subsequent commands\n",
    "\n",
    "    a.updateplot()\n",
    "\n",
    "extend the plots of all four attributes `.T1`, `.T2`, `.Q1` and `.Q2`. This would commonly be include in a `clock(tfinal)` loop to create real-time plots."
   ]
  },
  {
   "cell_type": "code",
   "execution_count": 8,
   "metadata": {
    "scrolled": false
   },
   "outputs": [
    {
     "data": {
      "image/png": "[encoded data removed]",
      "text/plain": [
       "<matplotlib.figure.Figure at 0x109beff28>"
      ]
     },
     "metadata": {},
     "output_type": "display_data"
    },
    {
     "name": "stdout",
     "output_type": "stream",
     "text": [
      "TCLab disconnected successfully.\n"
     ]
    },
    {
     "data": {
      "image/png": "[encoded data removed]",
      "text/plain": [
       "<matplotlib.figure.Figure at 0x109beff28>"
      ]
     },
     "metadata": {},
     "output_type": "display_data"
    }
   ],
   "source": [
    "%matplotlib inline \n",
    "import sys\n",
    "sys.path.append('..')\n",
    "from TCLab import TCLab, clock\n",
    "\n",
    "tfinal = 200\n",
    "\n",
    "with TCLab() as a:\n",
    "    a.initplot(tfinal)\n",
    "    for t in clock(tfinal):\n",
    "        a.Q1 = 200 if t < 100 else 0\n",
    "        a.updateplot()"
   ]
  },
  {
   "cell_type": "code",
   "execution_count": null,
   "metadata": {},
   "outputs": [],
   "source": []
  }
 ],
 "metadata": {
  "kernelspec": {
   "display_name": "Python 3",
   "language": "python",
   "name": "python3"
  },
  "language_info": {
   "codemirror_mode": {
    "name": "ipython",
    "version": 3
   },
   "file_extension": ".py",
   "mimetype": "text/x-python",
   "name": "python",
   "nbconvert_exporter": "python",
   "pygments_lexer": "ipython3",
   "version": "3.6.3"
  }
 },
 "nbformat": 4,
 "nbformat_minor": 2
}
