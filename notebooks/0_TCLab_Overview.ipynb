{
 "cells": [
  {
   "cell_type": "markdown",
   "metadata": {},
   "source": [
    "# 0 TCLab Overview\n",
    "\n",
    "The following cells in this notebook demonstrate the use of the Temperature Control Lab."
   ]
  },
  {
   "cell_type": "markdown",
   "metadata": {
    "slideshow": {
     "slide_type": "slide"
    }
   },
   "source": [
    "## TCLab Architecture\n",
    "<img src='images/TCLabOverview.png' style=\"float: left;padding-right:30px;\"></img>\n",
    "**_Jupyter notebooks:_**\n",
    "Examples, lessons, and student projects.\n",
    "\n",
    "**_TCLab:_**\n",
    "Provide high-level ccess to sensors, heaters, a pseudo-realtime clock.\n",
    "\n",
    "**_sketch.ino:_**\n",
    "Firmware for the intrisically safe operation of the Arduino board and shield.\n",
    "\n",
    "**_Arduino:_**\n",
    "Hardware platform for the Temperature Control Laboratory."
   ]
  },
  {
   "cell_type": "markdown",
   "metadata": {
    "slideshow": {
     "slide_type": "skip"
    }
   },
   "source": [
    "## Connecting to the Temperature Control Laboratory\n",
    "\n",
    "### Installation and Import\n",
    "\n",
    "When used for the first time, the `tclab` package is installed with the command line\n",
    "\n",
    "    pip install tclab\n",
    "    \n",
    "Once it has been installed, the package can be imported into Python and an instance created with the Python statements\n",
    "\n",
    "    from tclab import TCLab\n",
    "    a = TCLab()\n",
    "\n",
    "TCLab() attempts to find a device connected to a serial port and returns a connection. An error is generated if no device is found.  The connection should be closed when no longer in use.\n",
    "\n",
    "The following cell demonstrates this process, and uses the tclab `LED()` function to flash the LED on the Temperature Control Lab for a period of 10 seconds at a 100% brightness level. "
   ]
  },
  {
   "cell_type": "code",
   "execution_count": 1,
   "metadata": {},
   "outputs": [
    {
     "name": "stdout",
     "output_type": "stream",
     "text": [
      "Connecting to TCLab\n",
      "TCLab connected on port /dev/cu.usbmodem1411\n",
      "TCLab disconnected successfully.\n"
     ]
    }
   ],
   "source": [
    "from tclab import TCLab\n",
    "\n",
    "a = TCLab()\n",
    "a.LED(100)\n",
    "a.close()"
   ]
  },
  {
   "cell_type": "markdown",
   "metadata": {
    "slideshow": {
     "slide_type": "skip"
    }
   },
   "source": [
    "This second examples shows how to retrieve the version number of the firmware loaded onto the Temperature Control Lab."
   ]
  },
  {
   "cell_type": "code",
   "execution_count": 2,
   "metadata": {},
   "outputs": [
    {
     "name": "stdout",
     "output_type": "stream",
     "text": [
      "Connecting to TCLab\n",
      "TCLab connected on port /dev/cu.usbmodem1411\n",
      "TCLab Firmware Version 1.2.0\n",
      "TCLab disconnected successfully.\n"
     ]
    }
   ],
   "source": [
    "from tclab import TCLab\n",
    "\n",
    "a = TCLab()\n",
    "print(a.version)\n",
    "a.close()"
   ]
  },
  {
   "cell_type": "markdown",
   "metadata": {},
   "source": [
    "### Using TCLab with Python's `with` statement\n",
    "\n",
    "The Python `with` statement provides a convenient means of setting up and closing a connection to the Temperature Control Laboratory. In particular, the with statement establishes a context where a tclab instance is created, assigned to a variable, and automatically closed upon completion."
   ]
  },
  {
   "cell_type": "code",
   "execution_count": 3,
   "metadata": {
    "slideshow": {
     "slide_type": "skip"
    }
   },
   "outputs": [
    {
     "name": "stdout",
     "output_type": "stream",
     "text": [
      "Connecting to TCLab\n",
      "TCLab connected on port /dev/cu.usbmodem1411\n",
      "TCLab Firmware Version 1.2.0\n",
      "TCLab disconnected successfully.\n"
     ]
    }
   ],
   "source": [
    "from tclab import TCLab\n",
    "\n",
    "with TCLab() as a:\n",
    "    print(a.version)"
   ]
  },
  {
   "cell_type": "markdown",
   "metadata": {},
   "source": [
    "The `with` statement is likely to be the most common way to connect the Temperature Control Laboratory for most uses."
   ]
  },
  {
   "cell_type": "markdown",
   "metadata": {},
   "source": [
    "## Reading Temperatures\n",
    "\n",
    "Once a tclab instance is created and connected to a device, the temperature sensors on the temperature control lab can be acccessed with the attributes `.T1` and `.T2`.  For example, given an instance `a`, the temperatures are accessed as\n",
    "\n",
    "    T1 = a.T1\n",
    "    T2 = a.T2\n",
    "\n",
    "Note that `a.T1` and `a.T2` are read-only properties. Any attempt to set them to a value will return a Python error."
   ]
  },
  {
   "cell_type": "code",
   "execution_count": 4,
   "metadata": {},
   "outputs": [
    {
     "name": "stdout",
     "output_type": "stream",
     "text": [
      "Connecting to TCLab\n",
      "TCLab connected on port /dev/cu.usbmodem1411\n",
      "Temperature 1: 33.79 C\n",
      "Temperature 2: 27.34 C\n",
      "TCLab disconnected successfully.\n"
     ]
    }
   ],
   "source": [
    "from tclab import TCLab\n",
    "\n",
    "with TCLab() as a:\n",
    "    print(\"Temperature 1: {0:0.2f} C\".format(a.T1))\n",
    "    print(\"Temperature 2: {0:0.2f} C\".format(a.T2))"
   ]
  },
  {
   "cell_type": "markdown",
   "metadata": {
    "slideshow": {
     "slide_type": "skip"
    }
   },
   "source": [
    "## Setting Heaters\n",
    "\n",
    "The heaters are controlled by functions`.Q1()` and `.Q2()` of a tclab instance. For example, both heaters can be set to 100% power with the functions\n",
    "\n",
    "    a.Q1(100)\n",
    "    a.Q2(100)\n",
    "\n",
    "The device firmware limits the heaters to a range of 0 to 100%. The current value of attributes may be accessed via\n",
    "\n",
    "    Q1 = a.Q1()\n",
    "    Q2 = a.Q2()\n",
    "    \n",
    "Note that the retrieved values may be different due to the range-limiting enforced by the device firmware."
   ]
  },
  {
   "cell_type": "code",
   "execution_count": 5,
   "metadata": {
    "slideshow": {
     "slide_type": "skip"
    }
   },
   "outputs": [
    {
     "name": "stdout",
     "output_type": "stream",
     "text": [
      "Connecting to TCLab\n",
      "TCLab connected on port /dev/cu.usbmodem1411\n",
      "\n",
      "Starting Temperature 1: 33.79 C\n",
      "Starting Temperature 2: 27.34 C\n",
      "\n",
      "Set Heater 1: 100.0 %\n",
      "Set Heater 2: 100.0 %\n",
      "\n",
      "Heat for 30 seconds\n",
      "\n",
      "Turn Heaters Off\n",
      "\n",
      "Set Heater 1: 0.0 %\n",
      "Set Heater 2: 0.0 %\n",
      "\n",
      "Final Temperature 1: 36.04 C\n",
      "Final Temperature 2: 28.63 C\n",
      "TCLab disconnected successfully.\n"
     ]
    }
   ],
   "source": [
    "from tclab import TCLab\n",
    "import time\n",
    "\n",
    "with TCLab() as a:\n",
    "    print(\"\\nStarting Temperature 1: {0:0.2f} C\".format(a.T1),flush=True)\n",
    "    print(\"Starting Temperature 2: {0:0.2f} C\".format(a.T2),flush=True)\n",
    "\n",
    "    a.Q1(100)\n",
    "    a.Q2(100)\n",
    "    print(\"\\nSet Heater 1:\", a.Q1(), \"%\",flush=True)\n",
    "    print(\"Set Heater 2:\", a.Q2(), \"%\",flush=True)\n",
    "    \n",
    "    t_heat = 30\n",
    "    print(\"\\nHeat for\", t_heat, \"seconds\")\n",
    "    time.sleep(t_heat)\n",
    "\n",
    "    print(\"\\nTurn Heaters Off\")\n",
    "    a.Q1(0)\n",
    "    a.Q2(0)\n",
    "    print(\"\\nSet Heater 1:\", a.Q1(), \"%\",flush=True)\n",
    "    print(\"Set Heater 2:\", a.Q2(), \"%\",flush=True)\n",
    "    \n",
    "    print(\"\\nFinal Temperature 1: {0:0.2f} C\".format(a.T1))\n",
    "    print(\"Final Temperature 2: {0:0.2f} C\".format(a.T2))"
   ]
  },
  {
   "cell_type": "markdown",
   "metadata": {
    "slideshow": {
     "slide_type": "skip"
    }
   },
   "source": [
    "## Syncronizing with Real Time using `clock`\n",
    "\n",
    "For convenience, the tclab module includes a function `clock` for synchronizing calculations with real time.  `clock(tperiod, tstep)` is a python iterator that generates a sequence of iterations over a period of `tperiod` seconds separated by `tstep` seconds. "
   ]
  },
  {
   "cell_type": "code",
   "execution_count": 6,
   "metadata": {},
   "outputs": [
    {
     "name": "stdout",
     "output_type": "stream",
     "text": [
      "0.0 sec.\n",
      "1.0 sec.\n",
      "1.99 sec.\n",
      "2.99 sec.\n",
      "3.98 sec.\n",
      "4.98 sec.\n"
     ]
    }
   ],
   "source": [
    "from tclab import TCLab, clock\n",
    "\n",
    "tperiod = 5\n",
    "tstep = 1\n",
    "for t in clock(tperiod,tstep):\n",
    "    print(t, \"sec.\")"
   ]
  },
  {
   "cell_type": "markdown",
   "metadata": {},
   "source": [
    "There are some considerations to keep in mind when using `clock`. Most important, by its nature Python is not a real-time environment. `clock` makes a best effort to stay in sync with the wall clock, but there is no guarantee.\n",
    "\n",
    "Second, whatever calculations you perform inside the clock must take less than tstep seconds to complete, otherwise there is no way for `clock` to keep up with real time. Under normal usage, an error exception is raised if `clock` fails to keep up with real time.\n",
    "\n",
    "There is an optional flag that allows clock to slip out of real time sync. The usage is\n",
    "\n",
    "    clock(tfinal, tstep, strict=False)\n",
    "    \n",
    "which is demonstrated in the following cell where, for a certain interval, a calculation is performed that takes longer than tstep to complete."
   ]
  },
  {
   "cell_type": "code",
   "execution_count": 7,
   "metadata": {},
   "outputs": [
    {
     "name": "stdout",
     "output_type": "stream",
     "text": [
      "0.0 sec.\n",
      "2.0 sec.\n",
      "4.0 sec.\n",
      "6.2 sec.\n",
      "8.19 sec.\n",
      "10.19 sec.\n"
     ]
    }
   ],
   "source": [
    "from tclab import TCLab, clock\n",
    "\n",
    "import time\n",
    "\n",
    "tfinal = 12\n",
    "tstep = 2\n",
    "for t in clock(tfinal,tstep,strict=False):\n",
    "    print(t, \"sec.\")\n",
    "    if (t > 3) and (t < 5):\n",
    "        time.sleep(2.2)"
   ]
  },
  {
   "cell_type": "markdown",
   "metadata": {},
   "source": [
    "### Using `clock` with TCLab"
   ]
  },
  {
   "cell_type": "code",
   "execution_count": 8,
   "metadata": {
    "scrolled": false
   },
   "outputs": [
    {
     "name": "stdout",
     "output_type": "stream",
     "text": [
      "Connecting to TCLab\n",
      "TCLab connected on port /dev/cu.usbmodem1411\n",
      "\n",
      "Set Heater 1 to 100.000000 %\n",
      "Set Heater 2 to 100.000000 %\n",
      "     0.0 sec:   T1 = 37.0 C    T2 = 29.6 C\n",
      "     1.0 sec:   T1 = 36.7 C    T2 = 30.6 C\n",
      "     2.0 sec:   T1 = 36.7 C    T2 = 29.6 C\n",
      "     3.0 sec:   T1 = 36.7 C    T2 = 29.6 C\n",
      "     4.0 sec:   T1 = 36.7 C    T2 = 30.6 C\n",
      "     5.0 sec:   T1 = 36.7 C    T2 = 30.6 C\n",
      "     6.0 sec:   T1 = 36.7 C    T2 = 29.6 C\n",
      "     7.0 sec:   T1 = 36.7 C    T2 = 29.9 C\n",
      "     8.0 sec:   T1 = 36.7 C    T2 = 30.6 C\n",
      "     9.0 sec:   T1 = 36.7 C    T2 = 30.6 C\n",
      "    10.0 sec:   T1 = 37.0 C    T2 = 29.9 C\n",
      "    11.0 sec:   T1 = 37.0 C    T2 = 29.9 C\n",
      "    12.0 sec:   T1 = 37.0 C    T2 = 30.9 C\n",
      "    13.0 sec:   T1 = 37.0 C    T2 = 29.9 C\n",
      "    14.0 sec:   T1 = 37.0 C    T2 = 29.9 C\n",
      "    15.0 sec:   T1 = 37.3 C    T2 = 29.9 C\n",
      "    16.0 sec:   T1 = 37.3 C    T2 = 30.9 C\n",
      "    17.0 sec:   T1 = 37.3 C    T2 = 30.2 C\n",
      "    18.0 sec:   T1 = 37.3 C    T2 = 30.2 C\n",
      "    19.0 sec:   T1 = 37.7 C    T2 = 30.2 C\n",
      "    19.9 sec:   T1 = 37.7 C    T2 = 31.2 C\n",
      "TCLab disconnected successfully.\n"
     ]
    }
   ],
   "source": [
    "from tclab import TCLab, clock\n",
    "\n",
    "tperiod = 20\n",
    "\n",
    "# connect to the temperature control lab\n",
    "with TCLab() as a:\n",
    "    # turn heaters on\n",
    "    a.Q1(100)\n",
    "    a.Q2(100)\n",
    "    print(\"\\nSet Heater 1 to {0:f} %\".format(a.Q1()))\n",
    "    print(\"Set Heater 2 to {0:f} %\".format(a.Q2()))\n",
    "\n",
    "    # report temperatures for the next tperiod seconds\n",
    "    sfmt = \"   {0:5.1f} sec:   T1 = {1:0.1f} C    T2 = {2:0.1f} C\"\n",
    "    for t in clock(tperiod,1):\n",
    "        print(sfmt.format(t, a.T1, a.T2), flush=True)\n",
    "        "
   ]
  },
  {
   "cell_type": "markdown",
   "metadata": {},
   "source": [
    "## Realtime Plotting with `Historian`\n",
    "\n",
    "The `Historian` class provides means for real-time plotting and data logging. Given an instance of a TCLab object, an Historian is created with the command\n",
    "\n",
    "    h = Historian(a)\n",
    "    \n",
    "The historian initializes a data log. The data log is updated by issuing a command\n",
    "\n",
    "    h.update()\n",
    "    \n",
    "An optional real-time plot is initialized with the command\n",
    "\n",
    "    h.initplot(tfinal)\n",
    "    \n",
    "where the optional parameter `tfinal` provides an initial scaling of the time axes. If a real-time plot has been initialized, then each call to `h.update()` also updates the plot."
   ]
  },
  {
   "cell_type": "code",
   "execution_count": 9,
   "metadata": {
    "scrolled": false
   },
   "outputs": [
    {
     "data": {
      "image/png": "[encoded data removed]",
      "text/plain": [
       "<matplotlib.figure.Figure at 0x1088afd30>"
      ]
     },
     "metadata": {},
     "output_type": "display_data"
    },
    {
     "name": "stdout",
     "output_type": "stream",
     "text": [
      "TCLab disconnected successfully.\n"
     ]
    },
    {
     "data": {
      "image/png": "[encoded data removed]",
      "text/plain": [
       "<matplotlib.figure.Figure at 0x1088afd30>"
      ]
     },
     "metadata": {},
     "output_type": "display_data"
    }
   ],
   "source": [
    "%matplotlib inline\n",
    "from tclab import TCLab, clock, Historian\n",
    "\n",
    "tperiod = 180\n",
    "\n",
    "with TCLab() as a:\n",
    "    h = Historian(a)\n",
    "    h.initplot()\n",
    "    for t in clock(tperiod):\n",
    "        a.Q1(100 if t < 100 else 0)\n",
    "        h.update()"
   ]
  },
  {
   "cell_type": "code",
   "execution_count": null,
   "metadata": {},
   "outputs": [],
   "source": []
  }
 ],
 "metadata": {
  "kernelspec": {
   "display_name": "Python 3",
   "language": "python",
   "name": "python3"
  },
  "language_info": {
   "codemirror_mode": {
    "name": "ipython",
    "version": 3
   },
   "file_extension": ".py",
   "mimetype": "text/x-python",
   "name": "python",
   "nbconvert_exporter": "python",
   "pygments_lexer": "ipython3",
   "version": "3.6.3"
  }
 },
 "nbformat": 4,
 "nbformat_minor": 2
}
