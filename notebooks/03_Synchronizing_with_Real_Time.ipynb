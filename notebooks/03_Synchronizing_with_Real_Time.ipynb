{
 "cells": [
  {
   "cell_type": "markdown",
   "metadata": {
    "slideshow": {
     "slide_type": "skip"
    }
   },
   "source": [
    "# Synchronizing with Real Time"
   ]
  },
  {
   "cell_type": "markdown",
   "metadata": {
    "slideshow": {
     "slide_type": "skip"
    }
   },
   "source": [
    "## Simple use of `tclab.clock()`\n",
    "\n",
    "The tclab module includes a function `clock` for synchronizing calculations with real time.  `clock(tperiod)` is an iterator that generates a sequence of equally spaced time steps from zero to `tperiod`  separated by one second intervals. For each step `clock` returns time since start rounded to the nearest 10th of a second."
   ]
  },
  {
   "cell_type": "code",
   "execution_count": 1,
   "metadata": {},
   "outputs": [
    {
     "name": "stdout",
     "output_type": "stream",
     "text": [
      "0 sec.\n",
      "1.0 sec.\n",
      "2.0 sec.\n",
      "3.0 sec.\n",
      "4.0 sec.\n",
      "5.0 sec.\n"
     ]
    }
   ],
   "source": [
    "import tclab\n",
    "\n",
    "tperiod = 5\n",
    "for t in tclab.clock(tperiod):\n",
    "    print(t, \"sec.\")"
   ]
  },
  {
   "cell_type": "markdown",
   "metadata": {},
   "source": [
    "`tclab.clock()` is implemented as a Python generator. A consequence of this implementation is that `tclab.clock()` is 'blocking' which limits its use for creating interactive demonstrations. See later sections of this user's guide for non-blocking alternatives that can be used for interactive demonstrations or GUI's."
   ]
  },
  {
   "cell_type": "markdown",
   "metadata": {},
   "source": [
    "## Optional Parameters\n",
    "\n",
    "### `tstep`: Clock time step\n",
    "\n",
    "An optional parameter `tstep` specifies a time step different from one second."
   ]
  },
  {
   "cell_type": "code",
   "execution_count": 2,
   "metadata": {},
   "outputs": [
    {
     "name": "stdout",
     "output_type": "stream",
     "text": [
      "0 sec.\n",
      "2.5 sec.\n",
      "5.0 sec.\n"
     ]
    }
   ],
   "source": [
    "import tclab\n",
    "\n",
    "tperiod = 5\n",
    "tstep = 2.5\n",
    "for t in tclab.clock(tperiod,tstep):\n",
    "    print(t, \"sec.\")"
   ]
  },
  {
   "cell_type": "markdown",
   "metadata": {},
   "source": [
    "There are some considerations when using `clock`. First, by its nature Python is not a real-time environment. `clock` makes a best effort to stay in sync with the wall clock but there can be no guarantees. The default behavior of `clock` is to maintain long-term synchronization with the real time clock.\n",
    "\n",
    "The following cell demonstrates the effect of an intermittent calculation that exceeds the time step specified by `tstep`. In this instance, a `sleep` timeout of 1.2 seconds occurs at t=2. The clock skips a step to regain synchronization at the subsequent time step."
   ]
  },
  {
   "cell_type": "code",
   "execution_count": 3,
   "metadata": {},
   "outputs": [
    {
     "name": "stdout",
     "output_type": "stream",
     "text": [
      "0 sec.\n",
      "1.0 sec.\n",
      "2.0 sec.\n",
      "4.0 sec.\n",
      "5.0 sec.\n"
     ]
    }
   ],
   "source": [
    "import tclab\n",
    "import time\n",
    "\n",
    "tfinal = 5\n",
    "tstep = 1\n",
    "\n",
    "for t in tclab.clock(tfinal, tstep, tol=0.5):\n",
    "    print(t, \"sec.\")\n",
    "    if 1.9 < t < 2.5:\n",
    "        time.sleep(1.2)"
   ]
  },
  {
   "cell_type": "markdown",
   "metadata": {},
   "source": [
    "## Using `tclab.clock()` with TCLab\n",
    "\n",
    "An important use of the `tclab.clock()` generator is to implement and test control and estimation algorithms. The following cell shows how the `clock` generator can be used within the context defined by the Python `with` statement."
   ]
  },
  {
   "cell_type": "code",
   "execution_count": 4,
   "metadata": {},
   "outputs": [
    {
     "name": "stdout",
     "output_type": "stream",
     "text": [
      "Arduino Leonardo connected on port /dev/cu.usbmodemWUAR1 at 115200 baud.\n",
      "TCLab Firmware 1.3.0 Arduino Leonardo/Micro.\n",
      "\n",
      "Set Heater 1 to 100.000000 %\n",
      "Set Heater 2 to 100.000000 %\n",
      "\n",
      "     0.0 sec:   T1 = 30.9 °C    T2 = 33.1 °C\n",
      "     2.0 sec:   T1 = 30.9 °C    T2 = 33.5 °C\n",
      "     4.0 sec:   T1 = 30.9 °C    T2 = 33.1 °C\n",
      "     6.0 sec:   T1 = 30.6 °C    T2 = 32.2 °C\n",
      "     8.0 sec:   T1 = 30.9 °C    T2 = 33.1 °C\n",
      "    10.0 sec:   T1 = 30.9 °C    T2 = 33.1 °C\n",
      "    12.0 sec:   T1 = 30.9 °C    T2 = 33.5 °C\n",
      "    14.0 sec:   T1 = 30.9 °C    T2 = 33.8 °C\n",
      "    16.0 sec:   T1 = 31.2 °C    T2 = 32.8 °C\n",
      "    18.0 sec:   T1 = 31.2 °C    T2 = 34.4 °C\n",
      "    20.0 sec:   T1 = 31.5 °C    T2 = 34.8 °C\n",
      "TCLab disconnected successfully.\n"
     ]
    }
   ],
   "source": [
    "import tclab\n",
    "\n",
    "tfinal = 20\n",
    "tstep = 2\n",
    "\n",
    "with tclab.TCLab() as lab:\n",
    "    lab.Q1(100)\n",
    "    lab.Q2(100)\n",
    "    \n",
    "    print(\"\\nSet Heater 1 to {0:f} %\".format(lab.Q1()))\n",
    "    print(\"Set Heater 2 to {0:f} %\\n\".format(lab.Q2()))\n",
    "\n",
    "    sfmt = \"   {0:5.1f} sec:   T1 = {1:0.1f} °C    T2 = {2:0.1f} °C\"\n",
    "    \n",
    "    for t in tclab.clock(tfinal, tstep):\n",
    "        print(sfmt.format(t, lab.T1, lab.T2), flush=True)"
   ]
  },
  {
   "cell_type": "code",
   "execution_count": null,
   "metadata": {},
   "outputs": [],
   "source": []
  }
 ],
 "metadata": {
  "kernelspec": {
   "display_name": "Python 3",
   "language": "python",
   "name": "python3"
  },
  "language_info": {
   "codemirror_mode": {
    "name": "ipython",
    "version": 3
   },
   "file_extension": ".py",
   "mimetype": "text/x-python",
   "name": "python",
   "nbconvert_exporter": "python",
   "pygments_lexer": "ipython3",
   "version": "3.6.4"
  }
 },
 "nbformat": 4,
 "nbformat_minor": 2
}
