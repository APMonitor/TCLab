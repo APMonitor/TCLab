{
 "cells": [
  {
   "cell_type": "markdown",
   "metadata": {},
   "source": [
    "# Interactive and Non-blocking Operation\n",
    "\n",
    "The `tclab.gui` module supplies a graphical interface to the Temperature Control Laboratory."
   ]
  },
  {
   "cell_type": "code",
   "execution_count": 1,
   "metadata": {},
   "outputs": [],
   "source": [
    "from tclab.gui import NotebookUI"
   ]
  },
  {
   "cell_type": "code",
   "execution_count": 2,
   "metadata": {},
   "outputs": [],
   "source": [
    "%matplotlib notebook"
   ]
  },
  {
   "cell_type": "code",
   "execution_count": null,
   "metadata": {},
   "outputs": [],
   "source": [
    "interface = NotebookUI()"
   ]
  },
  {
   "cell_type": "code",
   "execution_count": null,
   "metadata": {},
   "outputs": [],
   "source": [
    "interface.gui"
   ]
  },
  {
   "cell_type": "markdown",
   "metadata": {},
   "source": [
    "## Accessing past sessions\n",
    "Once you have finished the experiment, you can see what sessions the historian stored as follows:"
   ]
  },
  {
   "cell_type": "code",
   "execution_count": null,
   "metadata": {},
   "outputs": [],
   "source": [
    "interface.historian.get_sessions()"
   ]
  },
  {
   "cell_type": "markdown",
   "metadata": {},
   "source": [
    "The historian can load data from one of the previous sessions. Note that this will overwrite the data currently stored in the historian."
   ]
  },
  {
   "cell_type": "code",
   "execution_count": null,
   "metadata": {},
   "outputs": [],
   "source": [
    "interface.historian.load_session(1)"
   ]
  },
  {
   "cell_type": "markdown",
   "metadata": {},
   "source": [
    "Once the data have been loaded, the historian will support all the same commands as if only one session was used."
   ]
  },
  {
   "cell_type": "code",
   "execution_count": null,
   "metadata": {},
   "outputs": [],
   "source": [
    "interface.historian.log"
   ]
  },
  {
   "cell_type": "code",
   "execution_count": null,
   "metadata": {},
   "outputs": [],
   "source": []
  },
  {
   "cell_type": "markdown",
   "metadata": {},
   "source": [
    "## Non-blocking Operation"
   ]
  },
  {
   "cell_type": "code",
   "execution_count": null,
   "metadata": {},
   "outputs": [],
   "source": [
    "import threading, time\n",
    "\n",
    "next_call = time.time()\n",
    "\n",
    "def foo():\n",
    "  global next_call\n",
    "  print(datetime.datetime.now())\n",
    "  next_call = next_call+1\n",
    "  threading.Timer( next_call - time.time(), foo ).start()\n",
    "\n",
    "#foo()\n",
    "\n",
    "def bar():\n",
    "    clock.send(None)\n",
    "\n",
    "def clock(tperiod):\n",
    "    tstart = time.time()\n",
    "    tfinish = tstart + tperiod\n",
    "    t = 0\n",
    "    while t + tstart < tfinish:\n",
    "        z = yield t\n",
    "        t += 1\n",
    "\n",
    "def bar():\n",
    "    clock.send(2)"
   ]
  },
  {
   "cell_type": "markdown",
   "metadata": {},
   "source": [
    "## Graphics Testing\n",
    "\n",
    "Notebook to test graphics during development."
   ]
  },
  {
   "cell_type": "markdown",
   "metadata": {},
   "source": []
  },
  {
   "cell_type": "code",
   "execution_count": null,
   "metadata": {
    "scrolled": false
   },
   "outputs": [],
   "source": [
    "%matplotlib notebook\n",
    "from tclab import setup\n",
    "from tclab import Historian, Plotter, clock\n",
    "import time\n",
    "\n",
    "tic = time.time()\n",
    "lab = setup(connected=False, speedup=10)\n",
    "with lab() as a:\n",
    "    h = Historian(a.sources)\n",
    "    p = Plotter(h, 200, layout=(('T1', 'T2'), ('Q1', 'Q2')))\n",
    "    for t in clock(200):\n",
    "        a.U1 = 80\n",
    "        p.update(t)\n",
    "toc = time.time()\n",
    "\n",
    "print(toc-tic, 'seconds')"
   ]
  },
  {
   "cell_type": "code",
   "execution_count": null,
   "metadata": {},
   "outputs": [],
   "source": [
    "from tclab import TCLabModel,  Historian, Plotter\n",
    "import threading, time\n",
    "\n",
    "tstep = 1\n",
    "tperiod = 20\n",
    "\n",
    "tstart = time.time()\n",
    "tfinish = tstart + tperiod\n",
    "tnext = tstart\n",
    "\n",
    "a = TCLabModel()\n",
    "h = Historian(a.sources)\n",
    "p = Plotter(h,20)\n",
    "a.U1 = 100\n",
    "\n",
    "\n",
    "def tasks(tnext):\n",
    "    global tnext, tfinish, tstep\n",
    "    p.update(tnext-tstart)\n",
    "    tnext = tnext + tstep\n",
    "    if tnext <= tfinish:\n",
    "        threading.Timer(tnext-time.time(), update).start()\n",
    "    else:\n",
    "        a.close()\n",
    "\n",
    "update()"
   ]
  },
  {
   "cell_type": "code",
   "execution_count": null,
   "metadata": {
    "scrolled": false
   },
   "outputs": [],
   "source": [
    "%matplotlib notebook\n",
    "\n",
    "import time\n",
    "from threading import Timer\n",
    "from tclab import setup, Historian, Plotter\n",
    "\n",
    "lab = setup(connected=False, speedup=1)\n",
    "a = lab()\n",
    "h = Historian(a.sources)\n",
    "p = Plotter(h)\n",
    "\n",
    "SP = 40\n",
    "\n",
    "tstart = time.time()\n",
    "def loop():\n",
    "    PV = a.T1\n",
    "    MV = 100 if PV < SP else 0\n",
    "    a.U1 = MV\n",
    "    p.update(time.time()-tstart)\n",
    "\n",
    "for t in range(0,100):\n",
    "    Timer(t, loop).start()\n",
    "Timer(100,a.close).start()"
   ]
  },
  {
   "cell_type": "code",
   "execution_count": null,
   "metadata": {},
   "outputs": [],
   "source": [
    "SP = 20"
   ]
  },
  {
   "cell_type": "code",
   "execution_count": null,
   "metadata": {},
   "outputs": [],
   "source": [
    "import threading, time, datetime\n",
    "\n",
    "def loop():\n",
    "    yield\n",
    "    print(datetime.datetime.now())\n",
    "    threading.Timer(1000, lambda: next(loop_gen)).start()\n",
    "    \n",
    "loop_gen = loop()\n",
    "next(loop_gen)\n"
   ]
  },
  {
   "cell_type": "code",
   "execution_count": null,
   "metadata": {},
   "outputs": [],
   "source": [
    "import asyncio\n",
    "\n",
    "async def slow_op(n):\n",
    "    await asyncio.sleep(n)\n",
    "    print(\"Slow Op:\", n)\n",
    "    \n",
    "async def main():\n",
    "    await asyncio.wait([slow_op(3),slow_op(2),slow_op(1)])\n",
    "    \n",
    "loop = asyncio.get_event_loop()\n",
    "loop.run_until_complete(main())"
   ]
  },
  {
   "cell_type": "code",
   "execution_count": null,
   "metadata": {},
   "outputs": [],
   "source": []
  },
  {
   "cell_type": "markdown",
   "metadata": {},
   "source": [
    "## Testing"
   ]
  },
  {
   "cell_type": "markdown",
   "metadata": {},
   "source": [
    "## Temperature Sampling Speed"
   ]
  },
  {
   "cell_type": "code",
   "execution_count": null,
   "metadata": {},
   "outputs": [],
   "source": [
    "import time\n",
    "from tclab import setup, clock\n",
    "\n",
    "lab = setup(connected=True)\n",
    "\n",
    "N = 100\n",
    "meas = []\n",
    "with lab() as a:\n",
    "    tic = time.time()\n",
    "    for k in range(0,N):\n",
    "        meas.append(a.T1)\n",
    "    toc = time.time()\n",
    "\n",
    "print('Reading temperature at', round(N/(toc-tic),1), 'samples per second.')"
   ]
  },
  {
   "cell_type": "markdown",
   "metadata": {},
   "source": [
    "## Heater Sampling Speed"
   ]
  },
  {
   "cell_type": "code",
   "execution_count": null,
   "metadata": {},
   "outputs": [],
   "source": [
    "import time\n",
    "from tclab import setup, clock\n",
    "\n",
    "lab = setup(connected=True)\n",
    "\n",
    "N = 100\n",
    "meas = []\n",
    "with lab() as a:\n",
    "    tic = time.time()\n",
    "    for k in range(0,N):\n",
    "        a.Q1(100)\n",
    "    toc = time.time()\n",
    "\n",
    "print('Setting heater at', round(N/(toc-tic),1), 'samples per second.')"
   ]
  },
  {
   "cell_type": "code",
   "execution_count": null,
   "metadata": {},
   "outputs": [],
   "source": [
    "import time\n",
    "from tclab import setup, clock\n",
    "\n",
    "lab = setup(connected=True)\n",
    "\n",
    "N = 100\n",
    "meas = []\n",
    "with lab() as a:\n",
    "    tic = time.time()\n",
    "    for k in range(0,N):\n",
    "        meas.append(a.scan())\n",
    "    toc = time.time()\n",
    "\n",
    "print('Reading temperature at', round(N/(toc-tic),1), 'samples per second.')"
   ]
  },
  {
   "cell_type": "markdown",
   "metadata": {},
   "source": [
    "## Working with Tornado\n",
    "\n",
    "This is an experiment to build a non-blocking event loop for TCLab.  The main idea is to implement the main event loop as a generator, then use Tornando's non-blocking timer to send periodic messages to the generator."
   ]
  },
  {
   "cell_type": "code",
   "execution_count": null,
   "metadata": {},
   "outputs": [],
   "source": [
    "%matplotlib inline\n",
    "import tornado\n",
    "import time\n",
    "from tclab import setup, Historian, Plotter\n",
    "\n",
    "SP = 40\n",
    "Kp = 10\n",
    "\n",
    "def update(lab):\n",
    "    t = 0\n",
    "    h = Historian(lab.sources)\n",
    "    p = Plotter(h,120)\n",
    "    while True:\n",
    "        PV = lab.T1\n",
    "        MV = Kp*(SP-PV)\n",
    "        lab.U1 = MV\n",
    "        p.update(t)\n",
    "        yield\n",
    "        t += 1\n",
    "\n",
    "lab = setup(connected=True)\n",
    "a = lab()\n",
    "update_gen = update(a)\n",
    "timer = tornado.ioloop.PeriodicCallback(lambda: next(update_gen), 1000)\n",
    "timer.start()"
   ]
  },
  {
   "cell_type": "code",
   "execution_count": null,
   "metadata": {},
   "outputs": [],
   "source": [
    "timer.stop()\n",
    "a.close()"
   ]
  },
  {
   "cell_type": "markdown",
   "metadata": {},
   "source": [
    "## Working with Widgets\n",
    "\n",
    "`tclab.clock` is based on a generator, which maintains a single thread of execution. One consequence is that there is no interaction with Jupyter widgets."
   ]
  },
  {
   "cell_type": "code",
   "execution_count": null,
   "metadata": {},
   "outputs": [],
   "source": [
    "from ipywidgets import interactive\n",
    "from IPython.display import display\n",
    "from tclab import clock\n",
    "\n",
    "Kp = interactive(lambda Kp: Kp, Kp = 12)\n",
    "display(Kp)\n",
    "\n",
    "for t in clock(10):\n",
    "    print(t, Kp.result)"
   ]
  },
  {
   "cell_type": "code",
   "execution_count": null,
   "metadata": {},
   "outputs": [],
   "source": [
    "import tornado\n",
    "from ipywidgets import interactive\n",
    "from IPython.display import display\n",
    "from tclab import TCLab, Historian, Plotter\n",
    "\n",
    "Kp = interactive(lambda Kp: Kp, Kp = (0,20))\n",
    "SP = interactive(lambda SP: SP, SP = (25,55))\n",
    "SP.layout.height = '500px'\n",
    "\n",
    "def update(tperiod):\n",
    "    t = 0\n",
    "    with TCLab() as a:\n",
    "        h = Historian(a.sources)\n",
    "        p = Plotter(h)\n",
    "        while t <= tperiod:\n",
    "            yield\n",
    "            p.update(t)\n",
    "            display(Kp)\n",
    "            display(SP)\n",
    "            a.U1 = SP.result\n",
    "            t += 1\n",
    "        timer.stop()\n",
    "\n",
    "update_gen = update(20)\n",
    "timer = tornado.ioloop.PeriodicCallback(lambda: next(update_gen), 1000)\n",
    "timer.start()"
   ]
  },
  {
   "cell_type": "code",
   "execution_count": null,
   "metadata": {},
   "outputs": [],
   "source": [
    "from ipywidgets import interactive\n",
    "from tclab import setup, clock, Historian, Plotter\n",
    "\n",
    "def proportional(Kp):\n",
    "    MV = 0\n",
    "    while True:\n",
    "        PV, SP = yield MV\n",
    "        MV = Kp*(SP-PV)\n",
    "\n",
    "def sim(Kp=1, SP=40):\n",
    "    controller = proportional(Kp)\n",
    "    controller.send(None)\n",
    "\n",
    "    lab = setup(connected=False, speedup=20)\n",
    "    with lab() as a:\n",
    "        h = Historian(a.sources)\n",
    "        p = Plotter(h,200)\n",
    "        for t in clock(200):\n",
    "            PV = a.T1\n",
    "            MV = controller.send([PV,SP])\n",
    "            a.U1 = MV\n",
    "            h.update()\n",
    "        p.update()   \n",
    "\n",
    "interactive_plot = interactive(sim, Kp=(0,20,1), SP=(25,60,5), continuous_update=False);\n",
    "output = interactive_plot.children[-1]\n",
    "output.layout.height = '500px'\n",
    "interactive_plot"
   ]
  },
  {
   "cell_type": "code",
   "execution_count": null,
   "metadata": {},
   "outputs": [],
   "source": [
    "timer.stop()"
   ]
  },
  {
   "cell_type": "code",
   "execution_count": null,
   "metadata": {},
   "outputs": [],
   "source": []
  }
 ],
 "metadata": {
  "kernelspec": {
   "display_name": "Python 3",
   "language": "python",
   "name": "python3"
  },
  "language_info": {
   "codemirror_mode": {
    "name": "ipython",
    "version": 3
   },
   "file_extension": ".py",
   "mimetype": "text/x-python",
   "name": "python",
   "nbconvert_exporter": "python",
   "pygments_lexer": "ipython3",
   "version": "3.6.3"
  }
 },
 "nbformat": 4,
 "nbformat_minor": 2
}
