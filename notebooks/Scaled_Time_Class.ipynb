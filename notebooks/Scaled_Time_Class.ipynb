{
 "cells": [
  {
   "cell_type": "markdown",
   "metadata": {},
   "source": [
    "# The Scaletime Class\n",
    "\n",
    "The purpose of this class is to provide a means for emulating process control experiments without being rigidly constrained by real time. Scaletime shares the following characteristics with real time:\n",
    "\n",
    "* monotonically increasing\n",
    "* continuous\n",
    "* global \n",
    "\n",
    "Relative to real time, scale time can progress at non-uniform rates, faster or slower than real time, and even come to a stop relative to real time."
   ]
  },
  {
   "cell_type": "markdown",
   "metadata": {},
   "source": [
    "## Global Characteristics\n",
    "\n",
    "One of the useful characteristics of real time clocks in software is the ability to coordinate actions among a group of actors without the need for direct messaging.  If we agree on a common epoch, agree to measure time in the same manner, and agree on a schedule of actions, then we can proceed independently. Thus there is a global character to real time.\n",
    "\n",
    "Here we define a class `Scaletime` for which will need to provide some global information to all instances of its use.  The first piece of information is a common epoch which defines a common begining point for all instances. Here we'll use the time at which the class is defined as the epoch. We'll call the epoch _knowntime."
   ]
  },
  {
   "cell_type": "code",
   "execution_count": 119,
   "metadata": {},
   "outputs": [],
   "source": [
    "import time\n",
    "\n",
    "class Scaletime():\n",
    "    _known_time = time.time()\n",
    "    _elapsed_time = 0\n",
    "\n",
    "# test: instances created at different times should have the same epoch\n",
    "a = Scaletime()\n",
    "time.sleep(2)\n",
    "b = Scaletime()\n",
    "assert a._known_time == b._known_time"
   ]
  },
  {
   "cell_type": "markdown",
   "metadata": {},
   "source": [
    "Intervals in Scaletime can proceed faster or slower than real time as determined by scale factor `_scalefactor`. Since all instances of Scaletime need to report that same elapsed time, `_scalefactor` is also class variable."
   ]
  },
  {
   "cell_type": "code",
   "execution_count": 121,
   "metadata": {},
   "outputs": [],
   "source": [
    "import time\n",
    "\n",
    "class Scaletime():\n",
    "    _known_time = time.time()\n",
    "    _elapsed_time = 0\n",
    "    _scalefactor = 1\n",
    "    \n",
    "    @classmethod\n",
    "    def time(cls):\n",
    "        return cls._elapsed_time + cls._scalefactor*(time.time() - cls._known_time)\n",
    "\n",
    "# test: instances created at different times should have the same epoch\n",
    "a = Scaletime()\n",
    "time.sleep(2)\n",
    "b = Scaletime()\n",
    "assert a._known_time == b._known_time\n",
    "    \n",
    "# test: instances created at different times should report the same scaled time.\n",
    "a = Scaletime()\n",
    "time.sleep(2)\n",
    "b = Scaletime()\n",
    "assert abs(b.time() - a.time()) < 0.01"
   ]
  },
  {
   "cell_type": "markdown",
   "metadata": {},
   "source": [
    "Setting the scale factor is also a class method."
   ]
  },
  {
   "cell_type": "code",
   "execution_count": 122,
   "metadata": {},
   "outputs": [],
   "source": [
    "import time\n",
    "\n",
    "class Scaletime():\n",
    "    _known_time = time.time()\n",
    "    _scalefactor = 1\n",
    "    _elapsed_time = 0\n",
    "    \n",
    "    @classmethod\n",
    "    def time(cls):\n",
    "        \"\"\"Return time elapsed since class definition in scaled units.\"\"\"\n",
    "        return cls._elapsed_time + cls._scalefactor*(time.time() - cls._known_time)\n",
    "    \n",
    "    @classmethod\n",
    "    def scale(cls, scalefactor):\n",
    "        \"\"\"Change the time scale factor, i.e., ratio of scaled time rate to real time.\"\"\"\n",
    "        cls._elapsed_time = cls.time()\n",
    "        cls._known_time = time.time()\n",
    "        cls._scalefactor = scalefactor\n",
    "\n",
    "\n",
    "# test: instances created at different times should have the same epoch\n",
    "a = Scaletime()\n",
    "time.sleep(2)\n",
    "b = Scaletime()\n",
    "assert a._known_time == b._known_time\n",
    "\n",
    "    \n",
    "# test: instances created at different times should report the same scaled time.\n",
    "a = Scaletime()\n",
    "time.sleep(2)\n",
    "b = Scaletime()\n",
    "assert abs(b.time() - a.time()) < 0.01\n",
    "\n",
    "\n",
    "# test: change scale factors\n",
    "sf = 2\n",
    "delay = 1\n",
    "tic = a.time()\n",
    "a.scale(sf)\n",
    "time.sleep(delay)\n",
    "toc = a.time()\n",
    "assert abs(toc - tic - sf*delay) < 0.01"
   ]
  },
  {
   "cell_type": "markdown",
   "metadata": {},
   "source": [
    "A particular instance of the class may be used to implement a sleep to be implemented in scaled time units. Sleep needs to access the class scalefactor, therefore is also implemented as a class method."
   ]
  },
  {
   "cell_type": "code",
   "execution_count": 7,
   "metadata": {},
   "outputs": [],
   "source": [
    "import time as time\n",
    "\n",
    "class Scaletime():\n",
    "    _known_time = time.time()\n",
    "    _scalefactor = 1\n",
    "    _elapsed_time = 0\n",
    "    _running = True\n",
    "    \n",
    "    @classmethod\n",
    "    def time(cls):\n",
    "        \"\"\"Return time elapsed since class definition in scaled units.\"\"\"\n",
    "        return cls._elapsed_time + int(cls._running)*cls._scalefactor*(time.time() - cls._known_time)\n",
    "    \n",
    "    @classmethod\n",
    "    def scale(cls, scalefactor):\n",
    "        \"\"\"Change the time scale factor, i.e., ratio of scaled time rate to real time.\"\"\"\n",
    "        cls._elapsed_time = cls.time()\n",
    "        cls._known_time = time.time()\n",
    "        cls._scalefactor = scalefactor\n",
    "    \n",
    "    @classmethod\n",
    "    def sleep(cls, delay):\n",
    "        \"\"\"Sleep for a period delay in scaled time units.\"\"\"\n",
    "        if cls._scalefactor == 0:\n",
    "            raise RuntimeError(\"Can't sleep when scaled clock is stopped.\")\n",
    "        time.sleep(delay/cls._scalefactor)\n",
    "        \n",
    "    @classmethod\n",
    "    def reset(cls):\n",
    "        \"\"\"Reset scaled time to zero.\"\"\"\n",
    "        cls._known_time = time.time()\n",
    "        cls._elapsed_time = 0\n",
    "        \n",
    "    @classmethod\n",
    "    def stop(cls):\n",
    "        \"\"\"Stop scaled time clock.\"\"\"\n",
    "        cls._elapsed_time = cls.time()\n",
    "        cls._known_time = time.time()\n",
    "        cls._running = False\n",
    "        \n",
    "    @classmethod\n",
    "    def start(cls):\n",
    "        \"\"\"Restart scale time clock using previous scale factor and elapsed time.\"\"\"\n",
    "        cls._known_time = time.time()\n",
    "        cls._running = True\n",
    "        \n",
    "        \n",
    "# test: instances created at different times should have the same epoch\n",
    "a = Scaletime()\n",
    "time.sleep(2)\n",
    "b = Scaletime()\n",
    "assert a._known_time == b._known_time\n",
    "\n",
    "    \n",
    "# test: instances created at different times should report the same scaled time.\n",
    "a = Scaletime()\n",
    "time.sleep(2)\n",
    "b = Scaletime()\n",
    "assert abs(b.time() - a.time()) < 0.01\n",
    "\n",
    "\n",
    "# test: change scale factors\n",
    "sf = 2\n",
    "delay = 1\n",
    "a = Scaletime()\n",
    "tic = a.time()\n",
    "a.scale(sf)\n",
    "time.sleep(delay)\n",
    "toc = a.time()\n",
    "assert abs(toc - tic - sf*delay) < 0.05\n",
    "\n",
    "\n",
    "# test: scaled sleep\n",
    "sf = 5\n",
    "sdelay = 10\n",
    "a = Scaletime()\n",
    "a.scale(sf)\n",
    "stic = a.time()\n",
    "tic = time.time()\n",
    "a.sleep(sdelay)\n",
    "stoc = a.time()\n",
    "toc = time.time()\n",
    "assert abs(stoc - stic - sdelay) < 0.1\n",
    "assert abs(toc - tic - sdelay/sf) < 0.1\n",
    "\n",
    "\n",
    "# test: error on zero or negative scale factor\n",
    "\n",
    "# test: reset to zero\n",
    "a  = Scaletime()\n",
    "time.sleep(2)\n",
    "a.reset()\n",
    "assert a.time() < 0.01\n",
    "assert a._elapsed_time == 0\n",
    "\n",
    "# test: stop\n",
    "a = Scaletime()\n",
    "a.stop()\n",
    "tic = a.time()\n",
    "time.sleep(1)\n",
    "toc = a.time()\n",
    "assert tic==toc\n",
    "assert a._running == False\n",
    "\n",
    "# test: start\n",
    "a = Scaletime()\n",
    "a.scale(1)\n",
    "a.stop()\n",
    "tic = a.time()\n",
    "atic = a._known_time\n",
    "time.sleep(2)\n",
    "a.start()\n",
    "toc = a.time()\n",
    "atoc = a._known_time\n",
    "assert abs(toc - tic) < 0.1\n",
    "assert abs(atoc - atic - 2) < 0.1\n",
    "assert a._running == True"
   ]
  },
  {
   "cell_type": "code",
   "execution_count": 3,
   "metadata": {},
   "outputs": [
    {
     "name": "stdout",
     "output_type": "stream",
     "text": [
      "Real time\n",
      "1.0055122375488281\n",
      "2.010618209838867\n",
      "3.011207103729248\n",
      "4.011430263519287\n",
      "5.011703014373779\n",
      "10x\n",
      "6.064152717590332\n",
      "7.073414325714111\n",
      "8.078382015228271\n",
      "9.132602214813232\n",
      "10.170505046844482\n",
      "Stopped\n",
      "10.175094604492188\n",
      "10.175094604492188\n",
      "10.175094604492188\n",
      "10.175094604492188\n",
      "10.175094604492188\n",
      "Back to real time\n",
      "11.1765456199646\n",
      "12.177032709121704\n",
      "13.17726182937622\n",
      "14.178507566452026\n",
      "15.181276798248291\n"
     ]
    }
   ],
   "source": [
    "scaletime = Scaletime()\n",
    "scaletime.scale(1)\n",
    "scaletime.reset()\n",
    "\n",
    "def run_five(delay):\n",
    "    for i in range(5):\n",
    "        time.sleep(delay)\n",
    "        print(scaletime.time())\n",
    "\n",
    "print(\"Real time\")\n",
    "run_five(1)\n",
    "print(\"10x\")\n",
    "scaletime.scale(10)\n",
    "run_five(0.1)\n",
    "print(\"Stopped\")\n",
    "scaletime.stop()\n",
    "run_five(1)\n",
    "print(\"Back to real time\")\n",
    "scaletime.scale(1)\n",
    "scaletime.start()\n",
    "run_five(1)"
   ]
  },
  {
   "cell_type": "code",
   "execution_count": 17,
   "metadata": {},
   "outputs": [
    {
     "name": "stdout",
     "output_type": "stream",
     "text": [
      "0\n",
      "1.0\n",
      "2.0\n",
      "3.0\n",
      "4.0\n",
      "5.0\n"
     ]
    }
   ],
   "source": [
    "clocktime = time\n",
    "\n",
    "def clock(tperiod, tstep=1, tol=0.25):\n",
    "    \"\"\"Generator providing time values in sync with real time clock.\n",
    "\n",
    "    Args:\n",
    "        tperiod (float): Time interval for clock operation in seconds.\n",
    "        tstep (float): Time step.\n",
    "        tol (float): Maximum permissible deviation from real time.\n",
    "\n",
    "    Yields:\n",
    "        float: The next time step rounded to nearest 10th of a second.\n",
    "    \"\"\"\n",
    "    clocknow = 0\n",
    "    clockstart = clocktime.time()\n",
    "    while clocknow <= tperiod - tstep + tol:\n",
    "        yield round(clocknow, 1)\n",
    "        tsleep = tstep - (clocktime.time() - clockstart)% tstep\n",
    "        clocktime.sleep(tsleep)\n",
    "        clocknow = (clocktime.time() - clockstart)\n",
    "\n",
    "    yield round(clocknow, 1)\n",
    "    \n",
    "    \n",
    "realtime = time.time()\n",
    "#clocktime.scale(4)\n",
    "for t in clock(5):\n",
    "    print(t)\n"
   ]
  },
  {
   "cell_type": "code",
   "execution_count": 80,
   "metadata": {},
   "outputs": [
    {
     "name": "stdout",
     "output_type": "stream",
     "text": [
      "49.49175667762756 49.49176049232483\n",
      "51.49620461463928 51.4962203502655\n",
      "53.5081307888031 53.5081684589386\n",
      "55.513304471969604 55.513322591781616\n",
      "57.522814989089966 57.52284646034241\n"
     ]
    }
   ],
   "source": [
    "for k in range(0,5):\n",
    "    print(a.time(), b.time())\n",
    "    time.sleep(1)"
   ]
  },
  {
   "cell_type": "markdown",
   "metadata": {},
   "source": [
    "# A Scaled Time Class for TCLab"
   ]
  },
  {
   "cell_type": "code",
   "execution_count": 9,
   "metadata": {},
   "outputs": [],
   "source": [
    "import time as realtime\n",
    "\n",
    "\n",
    "class Scaledtime(object):\n",
    "    SPEEDUP = 1\n",
    "    \n",
    "    def __init__(self):\n",
    "        self.tstart = realtime.time()\n",
    "        self.clocknow = 0\n",
    "\n",
    "    def time(self):\n",
    "        return Scaledtime.SPEEDUP*(realtime.time() - self.tstart)\n",
    "    \n",
    "    def reset(self, tinitial=0):\n",
    "        self.tstart = realtime.time() - tinitial/Scaledtime.SPEEDUP\n",
    "\n",
    "    now = property(fget=time, doc=\"Current environment time\")\n",
    "    \n",
    "    def clock(self, tperiod, tstep=1, tol=0.25):\n",
    "        \"\"\"Generator providing time values in sync with real time clock.\n",
    "\n",
    "        Args:\n",
    "            tperiod (float): Time interval for clock operation in seconds.\n",
    "            tstep (float): Time step.\n",
    "            tol (float): Maximum permissible deviation from real time.\n",
    "\n",
    "        Yields:\n",
    "            float: The next time step rounded to nearest 10th of a second.\n",
    "        \"\"\"\n",
    "        self.clocknow = 0\n",
    "        clockstart = realtime.time()\n",
    "        while self.clocknow <= tperiod - tstep + tol:\n",
    "            yield round(self.clocknow, 1)\n",
    "            tsleep = tstep - (Scaledtime.SPEEDUP * (realtime.time() - clockstart))% tstep\n",
    "            realtime.sleep(max(0, tsleep/Scaledtime.SPEEDUP))\n",
    "            self.clocknow = Scaledtime.SPEEDUP * (realtime.time() - clockstart)\n",
    "\n",
    "        yield round(self.clocknow, 1)\n",
    "\n"
   ]
  },
  {
   "cell_type": "code",
   "execution_count": 16,
   "metadata": {},
   "outputs": [
    {
     "name": "stdout",
     "output_type": "stream",
     "text": [
      "Real time\n",
      "1.0007102489471436\n",
      "2.00541615486145\n",
      "3.005714178085327\n",
      "4.00611424446106\n",
      "5.006394147872925\n",
      "10x\n",
      "6.054100513458252\n",
      "7.059900283813477\n",
      "8.08285903930664\n",
      "9.100958824157715\n",
      "10.103070259094238\n",
      "Stopped\n",
      "10.10744047164917\n",
      "10.10744047164917\n",
      "10.10744047164917\n",
      "10.10744047164917\n",
      "10.10744047164917\n",
      "Back to real time\n",
      "11.112423419952393\n",
      "12.112640380859375\n",
      "13.117499351501465\n",
      "14.122878313064575\n",
      "15.12339448928833\n"
     ]
    }
   ],
   "source": [
    "from tclab import Clock\n",
    "import time\n",
    "\n",
    "clock = Clock()\n",
    "clock.start()\n",
    "\n",
    "def run_five(delay):\n",
    "    for i in range(5):\n",
    "        time.sleep(delay)\n",
    "        print(clock.value)\n",
    "\n",
    "print(\"Real time\")\n",
    "run_five(1)\n",
    "print(\"10x\")\n",
    "clock.speedup = 10\n",
    "run_five(0.1)\n",
    "print(\"Stopped\")\n",
    "clock.stop()\n",
    "run_five(1)\n",
    "print(\"Back to real time\")\n",
    "clock.speedup = 1\n",
    "clock.start()\n",
    "run_five(1)\n"
   ]
  },
  {
   "cell_type": "code",
   "execution_count": 17,
   "metadata": {},
   "outputs": [
    {
     "name": "stdout",
     "output_type": "stream",
     "text": [
      "2\n",
      "3\n"
     ]
    }
   ],
   "source": [
    "from tclab import Scaledtime\n",
    "\n",
    "a = Scaledtime()\n",
    "b = Scaledtime()\n",
    "\n",
    "a.speedup(2)\n",
    "print(b.SPEEDUP)\n",
    "b.speedup(3)\n",
    "print(a.SPEEDUP)"
   ]
  },
  {
   "cell_type": "code",
   "execution_count": 18,
   "metadata": {},
   "outputs": [
    {
     "data": {
      "text/plain": [
       "2.958956480026245"
      ]
     },
     "execution_count": 18,
     "metadata": {},
     "output_type": "execute_result"
    }
   ],
   "source": [
    "a.time()"
   ]
  },
  {
   "cell_type": "code",
   "execution_count": 19,
   "metadata": {},
   "outputs": [
    {
     "data": {
      "text/plain": [
       "8.412218570709229"
      ]
     },
     "execution_count": 19,
     "metadata": {},
     "output_type": "execute_result"
    }
   ],
   "source": [
    "b.time()"
   ]
  },
  {
   "cell_type": "code",
   "execution_count": 22,
   "metadata": {},
   "outputs": [
    {
     "data": {
      "text/plain": [
       "1518805909.053122"
      ]
     },
     "execution_count": 22,
     "metadata": {},
     "output_type": "execute_result"
    }
   ],
   "source": [
    "a.tstart"
   ]
  },
  {
   "cell_type": "markdown",
   "metadata": {},
   "source": [
    "## Use as an Iterator"
   ]
  },
  {
   "cell_type": "code",
   "execution_count": 10,
   "metadata": {},
   "outputs": [
    {
     "name": "stdout",
     "output_type": "stream",
     "text": [
      "datetime                     clock   clocknow     time()        now\n",
      "2018-02-15 23:28:06.314883  0.0000     0.0000     0.0004     0.0004\n",
      "2018-02-15 23:28:07.315549  1.0000     1.0006     1.0011     1.0011\n",
      "2018-02-15 23:28:08.318834  2.0000     2.0039     2.0044     2.0044\n",
      "2018-02-15 23:28:09.315280  3.0000     3.0004     3.0008     3.0008\n",
      "2018-02-15 23:28:10.320030  4.0000     4.0051     4.0056     4.0056\n",
      "2018-02-15 23:28:11.315079  5.0000     5.0002     5.0006     5.0006\n",
      "2018-02-15 23:28:12.317682  6.0000     6.0028     6.0032     6.0032\n",
      "2018-02-15 23:28:13.316153  7.0000     7.0012     7.0017     7.0017\n",
      "2018-02-15 23:28:14.318771  8.0000     8.0039     8.0043     8.0043\n",
      "2018-02-15 23:28:15.315955  9.0000     9.0010     9.0015     9.0015\n",
      "2018-02-15 23:28:16.317242 10.0000    10.0023    10.0028    10.0028\n"
     ]
    }
   ],
   "source": [
    "import datetime\n",
    "\n",
    "stime = Scaledtime()\n",
    "clock = stime.clock\n",
    "Scaledtime.SPEEDUP = 1\n",
    "\n",
    "slbl = \"datetime                     clock   clocknow     time()        now\"\n",
    "sfmt = \"{0:25s} {1:7.4f}    {2:7.4f}    {3:7.4f}    {4:7.4f}\"\n",
    "\n",
    "print(slbl)\n",
    "for t in clock(10):\n",
    "    print(sfmt.format(str(datetime.datetime.now()), t, stime.clocknow, stime.time(), stime.now))"
   ]
  },
  {
   "cell_type": "markdown",
   "metadata": {},
   "source": [
    "## Scaling Time\n",
    "\n",
    "The class variable `SPEEDUP` is adjusted to rescale time. Setting `SPEEDUP` rescales time on all class instances."
   ]
  },
  {
   "cell_type": "code",
   "execution_count": 11,
   "metadata": {},
   "outputs": [
    {
     "name": "stdout",
     "output_type": "stream",
     "text": [
      "datetime                     clock   clocknow     time()        now\n",
      "2018-02-15 23:28:18.973753  0.0000     0.0000    126.5930    126.5930\n",
      "2018-02-15 23:28:19.077022  1.0000     1.0324    127.6258    127.6258\n",
      "2018-02-15 23:28:19.176907  2.0000     2.0312    128.6247    128.6247\n",
      "2018-02-15 23:28:19.276138  3.0000     3.0236    129.6170    129.6170\n",
      "2018-02-15 23:28:19.378265  4.0000     4.0448    130.6383    130.6383\n",
      "2018-02-15 23:28:19.476914  5.0000     5.0313    131.6248    131.6248\n",
      "2018-02-15 23:28:19.575604  6.0000     6.0182    132.6117    132.6117\n",
      "2018-02-15 23:28:19.676935  7.0000     7.0315    133.6250    133.6250\n",
      "2018-02-15 23:28:19.778216  8.0000     8.0444    134.6378    134.6378\n",
      "2018-02-15 23:28:19.877123  9.0000     9.0334    135.6269    135.6269\n",
      "2018-02-15 23:28:19.976773 10.0000    10.0299    136.6233    136.6233\n"
     ]
    }
   ],
   "source": [
    "Scaledtime.SPEEDUP = 10\n",
    "\n",
    "print(slbl)\n",
    "for t in clock(10):\n",
    "    print(sfmt.format(str(datetime.datetime.now()), t, stime.clocknow, stime.time(), stime.now))"
   ]
  },
  {
   "cell_type": "markdown",
   "metadata": {},
   "source": [
    "Extreme scaling results in some jitter in the generated time steps."
   ]
  },
  {
   "cell_type": "code",
   "execution_count": 12,
   "metadata": {},
   "outputs": [
    {
     "name": "stdout",
     "output_type": "stream",
     "text": [
      "datetime                     clock   clocknow     time()        now\n",
      "2018-02-15 23:28:21.385475  0.0000     0.0000    1507.1026    1507.1028\n",
      "2018-02-15 23:28:21.395575  1.0000     1.0085    1508.1128    1508.1130\n",
      "2018-02-15 23:28:21.407918  2.2000     2.2419    1509.3470    1509.3471\n",
      "2018-02-15 23:28:21.415531  3.0000     3.0035    1510.1081    1510.1082\n",
      "2018-02-15 23:28:21.427290  4.2000     4.1798    1511.2843    1511.2845\n",
      "2018-02-15 23:28:21.435632  5.0000     5.0131    1512.1191    1512.1194\n",
      "2018-02-15 23:28:21.447293  6.2000     6.1801    1513.2846    1513.2847\n",
      "2018-02-15 23:28:21.457324  7.2000     7.1840    1514.2874    1514.2876\n",
      "2018-02-15 23:28:21.467474  8.2000     8.1996    1515.3027    1515.3028\n",
      "2018-02-15 23:28:21.476386  9.1000     9.0900    1516.1936    1516.1937\n",
      "2018-02-15 23:28:21.485698 10.0000    10.0208    1517.1251    1517.1252\n"
     ]
    }
   ],
   "source": [
    "Scaledtime.SPEEDUP = 100\n",
    "\n",
    "print(slbl)\n",
    "for t in clock(10):\n",
    "    print(sfmt.format(str(datetime.datetime.now()), t, stime.clocknow, stime.time(), stime.now))"
   ]
  },
  {
   "cell_type": "markdown",
   "metadata": {},
   "source": [
    "## Reset scaled time to an initial value"
   ]
  },
  {
   "cell_type": "code",
   "execution_count": 14,
   "metadata": {},
   "outputs": [
    {
     "name": "stdout",
     "output_type": "stream",
     "text": [
      "datetime                     clock   clocknow     time()        now\n",
      "2018-02-15 23:29:09.059008  0.0000     0.0000    10.0004    10.0004\n",
      "2018-02-15 23:29:09.559322  1.0000     1.0006    11.0010    11.0010\n",
      "2018-02-15 23:29:10.060927  2.0000     2.0038    12.0042    12.0042\n",
      "2018-02-15 23:29:10.562374  3.0000     3.0067    13.0071    13.0071\n",
      "2018-02-15 23:29:11.060681  4.0000     4.0033    14.0037    14.0037\n",
      "2018-02-15 23:29:11.559676  5.0000     5.0013    15.0017    15.0017\n",
      "2018-02-15 23:29:12.062128  6.0000     6.0062    16.0066    16.0066\n",
      "2018-02-15 23:29:12.562174  7.0000     7.0063    17.0067    17.0067\n",
      "2018-02-15 23:29:13.063478  8.0000     8.0089    18.0093    18.0093\n",
      "2018-02-15 23:29:13.561077  9.0000     9.0040    19.0045    19.0045\n",
      "2018-02-15 23:29:14.063737 10.0000    10.0094    20.0098    20.0098\n"
     ]
    }
   ],
   "source": [
    "Scaledtime.SPEEDUP = 2\n",
    "stime.reset(10)\n",
    "\n",
    "print(slbl)\n",
    "for t in clock(10):\n",
    "    print(sfmt.format(str(datetime.datetime.now()), t, stime.clocknow, stime.time(), stime.now))"
   ]
  },
  {
   "cell_type": "code",
   "execution_count": null,
   "metadata": {},
   "outputs": [],
   "source": []
  }
 ],
 "metadata": {
  "kernelspec": {
   "display_name": "Python 3",
   "language": "python",
   "name": "python3"
  },
  "language_info": {
   "codemirror_mode": {
    "name": "ipython",
    "version": 3
   },
   "file_extension": ".py",
   "mimetype": "text/x-python",
   "name": "python",
   "nbconvert_exporter": "python",
   "pygments_lexer": "ipython3",
   "version": "3.6.3"
  }
 },
 "nbformat": 4,
 "nbformat_minor": 2
}
