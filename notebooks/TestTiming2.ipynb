{
 "cells": [
  {
   "cell_type": "code",
   "execution_count": 1,
   "metadata": {},
   "outputs": [],
   "source": [
    "from threading import Timer\n",
    "import time\n",
    "import tclab\n",
    "\n",
    "class Run(object):\n",
    "    def __init__(self, function, tfinal, tinterval=1):\n",
    "        self.lab        = tclab.TCLab()\n",
    "        self.tfinal     = tfinal\n",
    "        self.tinterval  = tinterval\n",
    "        self.function   = function\n",
    "        self._timer     = None\n",
    "        self.tstart     = time.time()\n",
    "        self.tnow       = self.tstart\n",
    "        self.is_running = False\n",
    "        self.start()\n",
    "\n",
    "    def _run(self):\n",
    "        \"\"\"Start a new timeer, then run the callback.\"\"\"\n",
    "        self.is_running = False\n",
    "        self.start()\n",
    "        self.function(self.lab, self.tnow)\n",
    "\n",
    "    def start(self):\n",
    "        if not self.is_running:\n",
    "            self.tnow = time.time() - self.tstart\n",
    "            if self.tnow < self.tfinal:\n",
    "                self._timer = Timer(self.tinterval - self.tnow % self.tinterval, self._run)\n",
    "            else:\n",
    "                self._timer = Timer(self.tinterval - self.tnow % self.tinterval, self.stop)\n",
    "            self._timer.start()\n",
    "            self.is_running = True   \n",
    "\n",
    "    def stop(self):\n",
    "        print(\"\")\n",
    "        self.lab.close()\n",
    "        self._timer.cancel()\n",
    "        self.is_running = False"
   ]
  },
  {
   "cell_type": "code",
   "execution_count": 2,
   "metadata": {
    "scrolled": false
   },
   "outputs": [
    {
     "name": "stdout",
     "output_type": "stream",
     "text": [
      "Arduino Leonardo connected on port /dev/cu.usbmodemWUAR1 at 115200 baud.\n",
      "TCLab Firmware 1.3.0 Arduino Leonardo/Micro.\n",
      "  200.00    38.63       21\n",
      "TCLab disconnected successfully.\n"
     ]
    }
   ],
   "source": [
    "from ipywidgets import interact\n",
    "\n",
    "SP = 40\n",
    "Kp = 15\n",
    "\n",
    "def loop(lab, t):\n",
    "    PV = lab.T1\n",
    "    MV = Kp*(SP-PV)\n",
    "    lab.U1 = MV\n",
    "    print(\"\\r{0:8.2f}   {1:6.2f}   {2:6.0f}\".format(t,PV,MV), end='')\n",
    "        \n",
    "expt = Run(loop, 200, 1)"
   ]
  },
  {
   "cell_type": "code",
   "execution_count": null,
   "metadata": {},
   "outputs": [],
   "source": []
  }
 ],
 "metadata": {
  "kernelspec": {
   "display_name": "Python 3",
   "language": "python",
   "name": "python3"
  },
  "language_info": {
   "codemirror_mode": {
    "name": "ipython",
    "version": 3
   },
   "file_extension": ".py",
   "mimetype": "text/x-python",
   "name": "python",
   "nbconvert_exporter": "python",
   "pygments_lexer": "ipython3",
   "version": "3.6.3"
  }
 },
 "nbformat": 4,
 "nbformat_minor": 2
}
