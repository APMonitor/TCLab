{
 "cells": [
  {
   "cell_type": "markdown",
   "metadata": {},
   "source": [
    "# TCLab Overview\n",
    "\n",
    "The `tclab` package provides a set of Python tools for interfacing with the [BYU Temperature Control Laboratory](http://apmonitor.com/pdc/index.php/Main/ArduinoTemperatureControl). The Temperature Control Laboratory consists of two heaters and two temperature sensors mounted on an Arduino microcontroller board. Together, the `tclab` package and the Temperature Control Laboratory provide a low-cost experimental platform for implementing algorithms commonly used for process control.\n",
    "\n",
    "![](images/tclab_device.png) "
   ]
  },
  {
   "cell_type": "markdown",
   "metadata": {},
   "source": [
    "## TCLab Architecture\n",
    "\n",
    "The `tclab` package is intended to be used as a teaching tool. The package provides high-level access to sensors, heaters, a pseudo-realtime clock. The package includes the following Python classes and functions:\n",
    "\n",
    "* `TCLab()` providing access to the Temperature Control Laboratory hardware.\n",
    "* `TCLabModel()` providing access to a simulation of the Temperature Control Laboratory hardware. \n",
    "* `clock` for synchronizing with a real time clock.\n",
    "* `Historian` for data logging.\n",
    "* `Plotter` for realtime plotting.\n",
    "\n",
    "![](images/TCLabOverview.png)\n",
    "\n",
    "Using these Python tools, students can create Jupyter notebooks and python codes covering a wide range of topics in process control.\n",
    "\n",
    "* **tclab.py:** A Python package providing high-level access to sensors, heaters, a pseudo-realtime clock. The package includes `TCLab()` providing access to the device, `clock` for synchronizing with a real time clock, `Historian` for data logging, and `Plotter` for realtime plotting.\n",
    "\n",
    "* **TCLab-sketch.ino:** Firmware for the intrisically safe operation of the Arduino board and shield. The sketch is available at [https://github.com/jckantor/TCLab-sketch](https://github.com/jckantor/TCLab-sketch).\n",
    "\n",
    "* **Arduino:** Hardware platform for the Temperature Control Laboratory. TCLab is compatiable with Arduino Uno, Arduino Leonardo, and compatible clones."
   ]
  },
  {
   "cell_type": "markdown",
   "metadata": {},
   "source": [
    "## Getting Started\n",
    "\n",
    "### Installation\n",
    "\n",
    "Install using\n",
    "\n",
    "    pip install tclab\n",
    "   \n",
    "To upgrade an existing installation, use the command\n",
    "\n",
    "    pip install tclab --upgrade\n",
    "\n",
    "### Hardware Setup\n",
    "\n",
    "1. Plug a compatible Arduino device (UNO, Leonardo, NHduino) with the\n",
    "   lab attached into your computer via the USB connection. Plug the DC\n",
    "   power adapter into the wall.\n",
    "\n",
    "2. (optional) Install Arduino Drivers.\n",
    "\n",
    "   *If you are using Windows 10, the Arduino board should connect\n",
    "   without additional drivers required.*\n",
    "\n",
    "   Mac OS X users may need to install a serial driver. For Arduino clones using the CH340G, CH34G or CH34X chipset, a suitable driver can be found at [https://github.com/MPParsley/ch340g-ch34g-ch34x-mac-os-x-driver]() or [https://github.com/adrianmihalko/ch340g-ch34g-ch34x-mac-os-x-driver]().\n",
    "\n",
    "3. (optional) Install Arduino Firmware;\n",
    "\n",
    "   `TCLab` requires the one-time installation of custom firmware on an Arduino device. If it hasn't been pre-installed, the necessary firmware and instructions are available from the [TCLab-Sketch repository](https://github.com/jckantor/TCLab-sketch).\n",
    "\n",
    "### Checking Everything Works\n",
    "\n",
    "Execute the following code\n",
    "\n",
    "    import tclab\n",
    "    tclab.TCLab().T1\n",
    "\n",
    "If everything has worked, you should see the following output message\n",
    "\n",
    "    Connecting to TCLab\n",
    "    TCLab Firmware Version 1.2.1 on NHduino connected to port XXXX\n",
    "    21.54\n",
    "\n",
    "The number returned is the temperature of sensor T1 in °C."
   ]
  },
  {
   "cell_type": "markdown",
   "metadata": {},
   "source": [
    "## Next Steps\n",
    "\n",
    "The notebook directory provides examples on how to use the TCLab module.\n",
    "\n",
    "### Course Web Sites\n",
    "\n",
    "More information, instructional videos, and Jupyter notebook\n",
    "examples are available at the following course websites.\n",
    "\n",
    "* Arduino temperature control lab page [http://apmonitor.com/pdc/index.php/Main/ArduinoTemperatureControl]() on the BYU Process Dynamics and Control course website.\n",
    "* [CBE 30338 <http://jckantor.github.io/CBE30338/]() for the Notre Dame\n",
    "  Chemical Process Control course website."
   ]
  },
  {
   "cell_type": "markdown",
   "metadata": {
    "slideshow": {
     "slide_type": "skip"
    }
   },
   "source": [
    "# Connecting to the Temperature Control Laboratory\n",
    "\n",
    "## Importing\n",
    "\n",
    "Once installed the package can be imported into Python and an instance created with the Python statements\n",
    "\n",
    "    from tclab import TCLab\n",
    "    a = TCLab()\n",
    "\n",
    "TCLab() attempts to find a device connected to a serial port and returns a connection. An error is generated if no device is found.  The connection should be closed with\n",
    "\n",
    "    a.close()\n",
    "    \n",
    "when no longer in use. The following cell demonstrates this process, and uses the tclab `LED()` function to flash the LED on the Temperature Control Lab for a period of 10 seconds at a 100% brightness level. "
   ]
  },
  {
   "cell_type": "code",
   "execution_count": 1,
   "metadata": {},
   "outputs": [
    {
     "name": "stdout",
     "output_type": "stream",
     "text": [
      "Arduino Leonardo connected on port /dev/cu.usbmodemWUAR1 at 115200 baud.\n",
      "TCLab Firmware 1.3.0 Arduino Leonardo/Micro.\n",
      "TCLab disconnected successfully.\n"
     ]
    }
   ],
   "source": [
    "from tclab import TCLab, clock\n",
    "\n",
    "a = TCLab()\n",
    "a.LED(100)\n",
    "a.close()"
   ]
  },
  {
   "cell_type": "markdown",
   "metadata": {},
   "source": [
    "## Using TCLab with Python's `with` statement\n",
    "\n",
    "The Python `with` statement provides a simple means of setting up and closing a connection to the Temperature Control Laboratory. The with statement establishes a context where a tclab instance is created, assigned to a variable, and automatically closed upon completion."
   ]
  },
  {
   "cell_type": "code",
   "execution_count": 2,
   "metadata": {
    "slideshow": {
     "slide_type": "skip"
    }
   },
   "outputs": [
    {
     "name": "stdout",
     "output_type": "stream",
     "text": [
      "Arduino Leonardo connected on port /dev/cu.usbmodemWUAR1 at 115200 baud.\n",
      "TCLab Firmware 1.3.0 Arduino Leonardo/Micro.\n",
      "TCLab disconnected successfully.\n"
     ]
    }
   ],
   "source": [
    "from tclab import TCLab\n",
    "\n",
    "with TCLab() as a:\n",
    "    a.LED(100)"
   ]
  },
  {
   "cell_type": "markdown",
   "metadata": {},
   "source": [
    "The `with` statement is likely to be the most common way to connect the Temperature Control Laboratory for most uses."
   ]
  },
  {
   "cell_type": "markdown",
   "metadata": {},
   "source": [
    "## Reading Temperatures\n",
    "\n",
    "Once a tclab instance is created and connected to a device, the temperature sensors on the temperature control lab can be acccessed with the attributes `.T1` and `.T2`.  For example, given an instance `a`, the temperatures are accessed as\n",
    "\n",
    "    T1 = a.T1\n",
    "    T2 = a.T2\n",
    "\n",
    "Note that `a.T1` and `a.T2` are read-only properties. Any attempt to set them to a value will return a Python error."
   ]
  },
  {
   "cell_type": "code",
   "execution_count": 3,
   "metadata": {},
   "outputs": [
    {
     "name": "stdout",
     "output_type": "stream",
     "text": [
      "Arduino Leonardo connected on port /dev/cu.usbmodemWUAR1 at 115200 baud.\n",
      "TCLab Firmware 1.3.0 Arduino Leonardo/Micro.\n",
      "Temperature 1: 23.16 °C\n",
      "Temperature 2: 22.20 °C\n",
      "TCLab disconnected successfully.\n"
     ]
    }
   ],
   "source": [
    "from tclab import TCLab\n",
    "\n",
    "with TCLab() as a:\n",
    "    print(\"Temperature 1: {0:0.2f} °C\".format(a.T1))\n",
    "    print(\"Temperature 2: {0:0.2f} °C\".format(a.T2))"
   ]
  },
  {
   "cell_type": "markdown",
   "metadata": {
    "slideshow": {
     "slide_type": "skip"
    }
   },
   "source": [
    "## Setting Heaters\n",
    "\n",
    "The heaters are controlled by functions`.Q1()` and `.Q2()` of a tclab instance. For example, both heaters can be set to 100% power with the functions\n",
    "\n",
    "    a.Q1(100)\n",
    "    a.Q2(100)\n",
    "\n",
    "The device firmware limits the heaters to a range of 0 to 100%. The current value of attributes may be accessed via\n",
    "\n",
    "    Q1 = a.Q1()\n",
    "    Q2 = a.Q2()\n",
    "    \n",
    "Note that the retrieved values may be different due to the range-limiting enforced by the device firmware."
   ]
  },
  {
   "cell_type": "code",
   "execution_count": 4,
   "metadata": {
    "slideshow": {
     "slide_type": "skip"
    }
   },
   "outputs": [
    {
     "name": "stdout",
     "output_type": "stream",
     "text": [
      "Arduino Leonardo connected on port /dev/cu.usbmodemWUAR1 at 115200 baud.\n",
      "TCLab Firmware 1.3.0 Arduino Leonardo/Micro.\n",
      "\n",
      "Starting Temperature 1: 23.16 °C\n",
      "Starting Temperature 2: 22.20 °C\n",
      "\n",
      "Set Heater 1: 100.0 %\n",
      "Set Heater 2: 100.0 %\n",
      "\n",
      "Heat for 30 seconds\n",
      "\n",
      "Turn Heaters Off\n",
      "\n",
      "Set Heater 1: 0.0 %\n",
      "Set Heater 2: 0.0 %\n",
      "\n",
      "Final Temperature 1: 28.96 °C\n",
      "Final Temperature 2: 25.10 °C\n",
      "TCLab disconnected successfully.\n"
     ]
    }
   ],
   "source": [
    "from tclab import TCLab\n",
    "import time\n",
    "\n",
    "with TCLab() as a:\n",
    "    print(\"\\nStarting Temperature 1: {0:0.2f} °C\".format(a.T1),flush=True)\n",
    "    print(\"Starting Temperature 2: {0:0.2f} °C\".format(a.T2),flush=True)\n",
    "\n",
    "    a.Q1(100)\n",
    "    a.Q2(100)\n",
    "    print(\"\\nSet Heater 1:\", a.Q1(), \"%\",flush=True)\n",
    "    print(\"Set Heater 2:\", a.Q2(), \"%\",flush=True)\n",
    "    \n",
    "    t_heat = 30\n",
    "    print(\"\\nHeat for\", t_heat, \"seconds\")\n",
    "    time.sleep(t_heat)\n",
    "\n",
    "    print(\"\\nTurn Heaters Off\")\n",
    "    a.Q1(0)\n",
    "    a.Q2(0)\n",
    "    print(\"\\nSet Heater 1:\", a.Q1(), \"%\",flush=True)\n",
    "    print(\"Set Heater 2:\", a.Q2(), \"%\",flush=True)\n",
    "    \n",
    "    print(\"\\nFinal Temperature 1: {0:0.2f} °C\".format(a.T1))\n",
    "    print(\"Final Temperature 2: {0:0.2f} °C\".format(a.T2))"
   ]
  },
  {
   "cell_type": "markdown",
   "metadata": {
    "slideshow": {
     "slide_type": "skip"
    }
   },
   "source": [
    "## Synchronizing with Real Time with `clock()`\n",
    "\n",
    "The tclab module includes a function `clock` for synchronizing calculations with real time.  `clock(tperiod)` is an iterator that generates a sequence of equally spaced time steps from zero to `tperiod`  separated by one second intervals. For each step `clock` returns time since start rounded to the nearest 10th of a second."
   ]
  },
  {
   "cell_type": "code",
   "execution_count": 5,
   "metadata": {},
   "outputs": [
    {
     "name": "stdout",
     "output_type": "stream",
     "text": [
      "0 sec.\n",
      "1.0 sec.\n",
      "2.0 sec.\n",
      "3.0 sec.\n",
      "4.0 sec.\n",
      "5.0 sec.\n"
     ]
    }
   ],
   "source": [
    "from tclab import clock\n",
    "\n",
    "tperiod = 5\n",
    "for t in clock(tperiod):\n",
    "    print(t, \"sec.\")"
   ]
  },
  {
   "cell_type": "markdown",
   "metadata": {},
   "source": [
    "An optional parameter `tstep` specifies a time step different from one second."
   ]
  },
  {
   "cell_type": "code",
   "execution_count": 6,
   "metadata": {},
   "outputs": [
    {
     "name": "stdout",
     "output_type": "stream",
     "text": [
      "0 sec.\n",
      "2.5 sec.\n",
      "5.0 sec.\n"
     ]
    }
   ],
   "source": [
    "from tclab import clock\n",
    "\n",
    "tperiod = 5\n",
    "tstep = 2.5\n",
    "for t in clock(tperiod,tstep):\n",
    "    print(t, \"sec.\")"
   ]
  },
  {
   "cell_type": "markdown",
   "metadata": {},
   "source": [
    "There are some considerations when using `clock`. First, by its nature Python is not a real-time environment. `clock` makes a best effort to stay in sync with the wall clock, but there can be no guarantees. The default behavior of `clock` is to maintain long-term synchronization with the real time clock. A `RuntimeError` is raised if the difference between clock time and real time is greater than the optional parameter `tol` (default value of 0.25) "
   ]
  },
  {
   "cell_type": "code",
   "execution_count": 7,
   "metadata": {},
   "outputs": [
    {
     "name": "stdout",
     "output_type": "stream",
     "text": [
      "0 sec.\n",
      "1.0 sec.\n",
      "2.2 sec.\n",
      "3.4 sec.\n",
      "4.0 sec.\n",
      "5.0 sec.\n"
     ]
    }
   ],
   "source": [
    "from tclab import clock\n",
    "\n",
    "import time\n",
    "\n",
    "tfinal = 5\n",
    "tstep = 1\n",
    "for t in clock(tfinal, tstep, tol=0.5):\n",
    "    print(t, \"sec.\")\n",
    "    if 0.5 < t < 2.5:\n",
    "        time.sleep(1.2)"
   ]
  },
  {
   "cell_type": "markdown",
   "metadata": {},
   "source": [
    "### Using `clock` with TCLab"
   ]
  },
  {
   "cell_type": "code",
   "execution_count": 8,
   "metadata": {
    "scrolled": false
   },
   "outputs": [
    {
     "name": "stdout",
     "output_type": "stream",
     "text": [
      "Arduino Leonardo connected on port /dev/cu.usbmodemWUAR1 at 115200 baud.\n",
      "TCLab Firmware 1.3.0 Arduino Leonardo/Micro.\n",
      "\n",
      "Set Heater 1 to 100.000000 %\n",
      "Set Heater 2 to 100.000000 %\n",
      "     0.0 sec:   T1 = 32.8 °C    T2 = 28.6 °C\n",
      "     2.0 sec:   T1 = 32.8 °C    T2 = 27.7 °C\n",
      "     4.0 sec:   T1 = 33.1 °C    T2 = 27.7 °C\n",
      "     6.0 sec:   T1 = 33.1 °C    T2 = 28.0 °C\n",
      "     8.0 sec:   T1 = 33.5 °C    T2 = 28.0 °C\n",
      "    10.0 sec:   T1 = 33.8 °C    T2 = 28.3 °C\n",
      "    12.0 sec:   T1 = 34.1 °C    T2 = 28.3 °C\n",
      "    14.0 sec:   T1 = 34.4 °C    T2 = 29.6 °C\n",
      "    16.0 sec:   T1 = 34.8 °C    T2 = 29.9 °C\n",
      "    18.0 sec:   T1 = 35.4 °C    T2 = 30.2 °C\n",
      "    20.0 sec:   T1 = 35.7 °C    T2 = 29.3 °C\n",
      "TCLab disconnected successfully.\n"
     ]
    }
   ],
   "source": [
    "from tclab import TCLab, clock\n",
    "\n",
    "tperiod = 20\n",
    "\n",
    "# connect to the temperature control lab\n",
    "with TCLab() as a:\n",
    "    # turn heaters on\n",
    "    a.Q1(100)\n",
    "    a.Q2(100)\n",
    "    print(\"\\nSet Heater 1 to {0:f} %\".format(a.Q1()))\n",
    "    print(\"Set Heater 2 to {0:f} %\".format(a.Q2()))\n",
    "\n",
    "    # report temperatures for the next tperiod seconds\n",
    "    sfmt = \"   {0:5.1f} sec:   T1 = {1:0.1f} °C    T2 = {2:0.1f} °C\"\n",
    "    for t in clock(tperiod, 2):\n",
    "        print(sfmt.format(t, a.T1, a.T2), flush=True)\n",
    "        "
   ]
  },
  {
   "cell_type": "markdown",
   "metadata": {},
   "source": [
    "## Setting Maximum Heater Power\n",
    "\n",
    "Heater power is normally set with `Q1` and `Q2` by specifying a value in a range from 0 to 100% of maximum heater power.  The values of maximum heater power, in turn, are specified in firmware in units of pulse-width-modulation (pwm) that range from 0 to 255. The default values are 200 for heater 1 and 100 for heater 2. \n",
    "\n",
    "The maximum heater power can be retrieved and set by properties `P1` and `P2`. The following code sets both heaters to maximum power of pwm = 100."
   ]
  },
  {
   "cell_type": "code",
   "execution_count": 9,
   "metadata": {},
   "outputs": [
    {
     "name": "stdout",
     "output_type": "stream",
     "text": [
      "Arduino Leonardo connected on port /dev/cu.usbmodemWUAR1 at 115200 baud.\n",
      "TCLab Firmware 1.3.0 Arduino Leonardo/Micro.\n",
      "Maximum power of heater 1 =  200.0\n",
      "Maximum power of heater 2 =  100.0\n",
      "Adjusting the maximum power of heater 1.\n",
      "Maximum power of heater 1 =  100.0\n",
      "Maximum power of heater 2 =  100.0\n",
      "TCLab disconnected successfully.\n"
     ]
    }
   ],
   "source": [
    "from tclab import TCLab\n",
    "\n",
    "with TCLab() as a:\n",
    "    print(\"Maximum power of heater 1 = \", a.P1)\n",
    "    print(\"Maximum power of heater 2 = \", a.P2)\n",
    "    \n",
    "    print(\"Adjusting the maximum power of heater 1.\")\n",
    "    a.P1 = 100\n",
    "    \n",
    "    print(\"Maximum power of heater 1 = \", a.P1)\n",
    "    print(\"Maximum power of heater 2 = \", a.P2)"
   ]
  },
  {
   "cell_type": "markdown",
   "metadata": {},
   "source": [
    "The maximum power applied to the heaters is a function of both the settings (`P1`,`P2`) and of the power supply used with the TCLab hardware. The TCLab hardware is normally used with a 5 watt USB power supply capable of supply up to 1 amp at 5 volts. \n",
    "\n",
    "The TCLab hardware actually draws more than 1 amp when both `P1` and `P2` are set to 255 and `Q1` and `Q2` are at 100%. This situation will overload the power supply and result in the power supply shutting down. Normally the power supply will reset itself after unplugging from the power mains.\n",
    "\n",
    "Experience with the device shows keeping the sum `P1` and `P2` to a value less than 300 will avoid problems with the 5 watt power supply. If you have access to larger power supplies, then you can adjust `P1` and `P2` accordingly to achieve a wider range of temperatures."
   ]
  },
  {
   "cell_type": "code",
   "execution_count": 10,
   "metadata": {},
   "outputs": [
    {
     "data": {
      "image/png": "[encoded data removed]",
      "text/plain": [
       "<matplotlib.figure.Figure at 0x10d9838d0>"
      ]
     },
     "metadata": {},
     "output_type": "display_data"
    },
    {
     "name": "stdout",
     "output_type": "stream",
     "text": [
      "TCLab disconnected successfully.\n"
     ]
    },
    {
     "data": {
      "image/png": "[encoded data removed]",
      "text/plain": [
       "<matplotlib.figure.Figure at 0x10d9838d0>"
      ]
     },
     "metadata": {},
     "output_type": "display_data"
    }
   ],
   "source": [
    "%matplotlib inline\n",
    "from tclab import TCLab, clock, Historian, Plotter\n",
    "\n",
    "with TCLab() as a:\n",
    "    a.P1 = 250\n",
    "    a.P2 = 50\n",
    "    h = Historian(a.sources)\n",
    "    p = Plotter(h)\n",
    "    for t in clock(100):\n",
    "        a.Q1(100 if t < 100 else 0)\n",
    "        a.Q2(100 if t < 100 else 0)\n",
    "        p.update(t)"
   ]
  },
  {
   "cell_type": "code",
   "execution_count": null,
   "metadata": {},
   "outputs": [],
   "source": []
  },
  {
   "cell_type": "markdown",
   "metadata": {},
   "source": [
    "# The TCLab `Historian`\n",
    "\n",
    "## Basic logging\n",
    "\n",
    "The `Historian` class provides data logging. Given an instance of a TCLab object, an Historian is created with the command\n",
    "\n",
    "    h = Historian(a.sources)\n",
    "    \n",
    "The historian initializes a data log. The data log is updated by issuing a command\n",
    "\n",
    "    h.update(t)\n",
    "    \n",
    "Where `t` is the current clock time. If `t` is omitted, the historian will calculate its own time."
   ]
  },
  {
   "cell_type": "code",
   "execution_count": 1,
   "metadata": {
    "scrolled": false
   },
   "outputs": [
    {
     "name": "stdout",
     "output_type": "stream",
     "text": [
      "Arduino Leonardo connected on port /dev/cu.usbmodemWUAR1 at 115200 baud.\n",
      "TCLab Firmware 1.3.0 Arduino Leonardo/Micro.\n",
      "Time: 0 seconds\n",
      "Time: 1.0 seconds\n",
      "Time: 2.0 seconds\n",
      "Time: 3.0 seconds\n",
      "Time: 4.0 seconds\n",
      "Time: 5.0 seconds\n",
      "Time: 6.0 seconds\n",
      "Time: 7.0 seconds\n",
      "Time: 8.0 seconds\n",
      "Time: 9.0 seconds\n",
      "Time: 10.0 seconds\n",
      "Time: 11.0 seconds\n",
      "Time: 12.0 seconds\n",
      "Time: 13.0 seconds\n",
      "Time: 14.0 seconds\n",
      "Time: 15.0 seconds\n",
      "Time: 16.0 seconds\n",
      "Time: 17.0 seconds\n",
      "Time: 18.0 seconds\n",
      "Time: 19.0 seconds\n",
      "Time: 20.0 seconds\n",
      "TCLab disconnected successfully.\n"
     ]
    }
   ],
   "source": [
    "from tclab import TCLab, clock, Historian\n",
    "\n",
    "with TCLab() as a:\n",
    "    h = Historian(a.sources)\n",
    "    for t in clock(20):\n",
    "        a.Q1(100 if t <= 10 else 0)\n",
    "        print(\"Time:\", t, 'seconds')\n",
    "        h.update(t)        "
   ]
  },
  {
   "cell_type": "markdown",
   "metadata": {},
   "source": [
    "### Accessing the Data Log from the Historian\n",
    "\n",
    "`Historian` maintains a data log that is updated on each encounter of the `.update()` function. Individual time series are available as elements of `Historian.fields`:\n",
    "\n",
    "    t, T1, T2, Q1, Q2 = h.fields \n",
    "\n",
    "For example, here's how to plot the history of temperature T1 versus time from the example above."
   ]
  },
  {
   "cell_type": "code",
   "execution_count": 2,
   "metadata": {
    "scrolled": false
   },
   "outputs": [
    {
     "data": {
      "image/png": "[encoded data removed]",
      "text/plain": [
       "<matplotlib.figure.Figure at 0x1071d8da0>"
      ]
     },
     "metadata": {},
     "output_type": "display_data"
    }
   ],
   "source": [
    "%matplotlib inline\n",
    "import matplotlib.pyplot as plt\n",
    "\n",
    "t, T1, T2, Q1, Q2 = h.fields \n",
    "plt.plot(t, T1)\n",
    "plt.xlabel('Time / seconds')\n",
    "plt.ylabel('Temperature / °C')\n",
    "plt.grid()"
   ]
  },
  {
   "cell_type": "markdown",
   "metadata": {},
   "source": [
    "The entire data history is available from the historian as the attribute `.log`. Here we show the first three rows from the log:"
   ]
  },
  {
   "cell_type": "code",
   "execution_count": 3,
   "metadata": {},
   "outputs": [
    {
     "data": {
      "text/plain": [
       "[(0, 65.38, 40.24, 0.0, 0.0),\n",
       " (0, 65.38, 40.24, 100.0, 0.0),\n",
       " (1.0, 65.06, 40.24, 100.0, 0.0)]"
      ]
     },
     "execution_count": 3,
     "metadata": {},
     "output_type": "execute_result"
    }
   ],
   "source": [
    "h.log[:3]"
   ]
  },
  {
   "cell_type": "markdown",
   "metadata": {},
   "source": [
    "A sample code demonstrating how to plot the historian log."
   ]
  },
  {
   "cell_type": "code",
   "execution_count": 4,
   "metadata": {},
   "outputs": [
    {
     "data": {
      "image/png": "[encoded data removed]",
      "text/plain": [
       "<matplotlib.figure.Figure at 0x10e2d5cf8>"
      ]
     },
     "metadata": {},
     "output_type": "display_data"
    }
   ],
   "source": [
    "def plotlog(historian):\n",
    "    line_options = {'lw': 2, 'alpha': 0.8}\n",
    "    fig = plt.figure(figsize=(8, 6))\n",
    "    nplots = len(h.columns) - 1\n",
    "    t = historian.fields[0]\n",
    "    for n in range(1, nplots+1):\n",
    "        plt.subplot(nplots,1,n)\n",
    "        y = historian.fields[n]\n",
    "        plt.step(t, y, where='post', **line_options)          \n",
    "        plt.grid()\n",
    "        plt.xlabel('Time / Seconds')\n",
    "        plt.ylabel(historian.columns[n])\n",
    "    plt.tight_layout()\n",
    "    \n",
    "plotlog(h)"
   ]
  },
  {
   "cell_type": "markdown",
   "metadata": {},
   "source": [
    "### Accessing log data via Pandas\n",
    "\n",
    "Here's an example of how the log can be converted to a Pandas dataframe."
   ]
  },
  {
   "cell_type": "code",
   "execution_count": 5,
   "metadata": {},
   "outputs": [
    {
     "data": {
      "text/html": [
       "<div>\n",
       "<style>\n",
       "    .dataframe thead tr:only-child th {\n",
       "        text-align: right;\n",
       "    }\n",
       "\n",
       "    .dataframe thead th {\n",
       "        text-align: left;\n",
       "    }\n",
       "\n",
       "    .dataframe tbody tr th {\n",
       "        vertical-align: top;\n",
       "    }\n",
       "</style>\n",
       "<table border=\"1\" class=\"dataframe\">\n",
       "  <thead>\n",
       "    <tr style=\"text-align: right;\">\n",
       "      <th></th>\n",
       "      <th>T1</th>\n",
       "      <th>T2</th>\n",
       "      <th>Q1</th>\n",
       "      <th>Q2</th>\n",
       "    </tr>\n",
       "    <tr>\n",
       "      <th>Time</th>\n",
       "      <th></th>\n",
       "      <th></th>\n",
       "      <th></th>\n",
       "      <th></th>\n",
       "    </tr>\n",
       "  </thead>\n",
       "  <tbody>\n",
       "    <tr>\n",
       "      <th>0.0</th>\n",
       "      <td>65.38</td>\n",
       "      <td>40.24</td>\n",
       "      <td>0.0</td>\n",
       "      <td>0.0</td>\n",
       "    </tr>\n",
       "    <tr>\n",
       "      <th>0.0</th>\n",
       "      <td>65.38</td>\n",
       "      <td>40.24</td>\n",
       "      <td>100.0</td>\n",
       "      <td>0.0</td>\n",
       "    </tr>\n",
       "    <tr>\n",
       "      <th>1.0</th>\n",
       "      <td>65.06</td>\n",
       "      <td>40.24</td>\n",
       "      <td>100.0</td>\n",
       "      <td>0.0</td>\n",
       "    </tr>\n",
       "    <tr>\n",
       "      <th>2.0</th>\n",
       "      <td>65.06</td>\n",
       "      <td>40.24</td>\n",
       "      <td>100.0</td>\n",
       "      <td>0.0</td>\n",
       "    </tr>\n",
       "    <tr>\n",
       "      <th>3.0</th>\n",
       "      <td>64.74</td>\n",
       "      <td>40.24</td>\n",
       "      <td>100.0</td>\n",
       "      <td>0.0</td>\n",
       "    </tr>\n",
       "  </tbody>\n",
       "</table>\n",
       "</div>"
      ],
      "text/plain": [
       "         T1     T2     Q1   Q2\n",
       "Time                          \n",
       "0.0   65.38  40.24    0.0  0.0\n",
       "0.0   65.38  40.24  100.0  0.0\n",
       "1.0   65.06  40.24  100.0  0.0\n",
       "2.0   65.06  40.24  100.0  0.0\n",
       "3.0   64.74  40.24  100.0  0.0"
      ]
     },
     "execution_count": 5,
     "metadata": {},
     "output_type": "execute_result"
    }
   ],
   "source": [
    "%matplotlib inline\n",
    "import matplotlib.pyplot as plt\n",
    "import pandas as pd\n",
    "\n",
    "df = pd.DataFrame.from_records(h.log, columns=h.columns, index='Time')\n",
    "df.head()"
   ]
  },
  {
   "cell_type": "markdown",
   "metadata": {},
   "source": [
    "The following cells provide examples of plots that can be constructed once the data log has been converted to a pandas dataframe."
   ]
  },
  {
   "cell_type": "code",
   "execution_count": 6,
   "metadata": {},
   "outputs": [
    {
     "data": {
      "text/plain": [
       "<matplotlib.axes._subplots.AxesSubplot at 0x10fb996a0>"
      ]
     },
     "execution_count": 6,
     "metadata": {},
     "output_type": "execute_result"
    },
    {
     "data": {
      "image/png": "[encoded data removed]",
      "text/plain": [
       "<matplotlib.figure.Figure at 0x10e2a0438>"
      ]
     },
     "metadata": {},
     "output_type": "display_data"
    }
   ],
   "source": [
    "df.plot()"
   ]
  },
  {
   "cell_type": "code",
   "execution_count": 7,
   "metadata": {},
   "outputs": [
    {
     "data": {
      "text/plain": [
       "<matplotlib.axes._subplots.AxesSubplot at 0x10fc59f28>"
      ]
     },
     "execution_count": 7,
     "metadata": {},
     "output_type": "execute_result"
    },
    {
     "data": {
      "image/png": "[encoded data removed]",
      "text/plain": [
       "<matplotlib.figure.Figure at 0x10fc39d30>"
      ]
     },
     "metadata": {},
     "output_type": "display_data"
    }
   ],
   "source": [
    "df[['T1','T2']].plot(grid=True)"
   ]
  },
  {
   "cell_type": "code",
   "execution_count": null,
   "metadata": {},
   "outputs": [],
   "source": []
  },
  {
   "cell_type": "markdown",
   "metadata": {},
   "source": [
    "# The TCLab Plotter\n",
    "\n",
    "When operating in a Jupyter Notebook, a `Plotter` can be used together with the `Historian`.  \n",
    "\n",
    "    h = Historian(a)\n",
    "    p = Plotter(h, tfinal)\n",
    "    \n",
    "where `a` is a `TCLab` instance as before and the optional parameter `tfinal` provides an initial scaling of the time axes. Each call to `p.update()` will automatically update both the historian and the plot."
   ]
  },
  {
   "cell_type": "code",
   "execution_count": 1,
   "metadata": {
    "scrolled": false
   },
   "outputs": [
    {
     "name": "stdout",
     "output_type": "stream",
     "text": [
      "Arduino Leonardo connected on port /dev/cu.usbmodemWUAR1 at 115200 baud.\n",
      "TCLab Firmware 1.3.0 Arduino Leonardo/Micro.\n"
     ]
    },
    {
     "data": {
      "application/javascript": [
       "/* Put everything inside the global mpl namespace */\n",
       "window.mpl = {};\n",
       "\n",
       "\n",
       "mpl.get_websocket_type = function() {\n",
       "    if (typeof(WebSocket) !== 'undefined') {\n",
       "        return WebSocket;\n",
       "    } else if (typeof(MozWebSocket) !== 'undefined') {\n",
       "        return MozWebSocket;\n",
       "    } else {\n",
       "        alert('Your browser does not have WebSocket support.' +\n",
       "              'Please try Chrome, Safari or Firefox ≥ 6. ' +\n",
       "              'Firefox 4 and 5 are also supported but you ' +\n",
       "              'have to enable WebSockets in about:config.');\n",
       "    };\n",
       "}\n",
       "\n",
       "mpl.figure = function(figure_id, websocket, ondownload, parent_element) {\n",
       "    this.id = figure_id;\n",
       "\n",
       "    this.ws = websocket;\n",
       "\n",
       "    this.supports_binary = (this.ws.binaryType != undefined);\n",
       "\n",
       "    if (!this.supports_binary) {\n",
       "        var warnings = document.getElementById(\"mpl-warnings\");\n",
       "        if (warnings) {\n",
       "            warnings.style.display = 'block';\n",
       "            warnings.textContent = (\n",
       "                \"This browser does not support binary websocket messages. \" +\n",
       "                    \"Performance may be slow.\");\n",
       "        }\n",
       "    }\n",
       "\n",
       "    this.imageObj = new Image();\n",
       "\n",
       "    this.context = undefined;\n",
       "    this.message = undefined;\n",
       "    this.canvas = undefined;\n",
       "    this.rubberband_canvas = undefined;\n",
       "    this.rubberband_context = undefined;\n",
       "    this.format_dropdown = undefined;\n",
       "\n",
       "    this.image_mode = 'full';\n",
       "\n",
       "    this.root = $('<div/>');\n",
       "    this._root_extra_style(this.root)\n",
       "    this.root.attr('style', 'display: inline-block');\n",
       "\n",
       "    $(parent_element).append(this.root);\n",
       "\n",
       "    this._init_header(this);\n",
       "    this._init_canvas(this);\n",
       "    this._init_toolbar(this);\n",
       "\n",
       "    var fig = this;\n",
       "\n",
       "    this.waiting = false;\n",
       "\n",
       "    this.ws.onopen =  function () {\n",
       "            fig.send_message(\"supports_binary\", {value: fig.supports_binary});\n",
       "            fig.send_message(\"send_image_mode\", {});\n",
       "            if (mpl.ratio != 1) {\n",
       "                fig.send_message(\"set_dpi_ratio\", {'dpi_ratio': mpl.ratio});\n",
       "            }\n",
       "            fig.send_message(\"refresh\", {});\n",
       "        }\n",
       "\n",
       "    this.imageObj.onload = function() {\n",
       "            if (fig.image_mode == 'full') {\n",
       "                // Full images could contain transparency (where diff images\n",
       "                // almost always do), so we need to clear the canvas so that\n",
       "                // there is no ghosting.\n",
       "                fig.context.clearRect(0, 0, fig.canvas.width, fig.canvas.height);\n",
       "            }\n",
       "            fig.context.drawImage(fig.imageObj, 0, 0);\n",
       "        };\n",
       "\n",
       "    this.imageObj.onunload = function() {\n",
       "        fig.ws.close();\n",
       "    }\n",
       "\n",
       "    this.ws.onmessage = this._make_on_message_function(this);\n",
       "\n",
       "    this.ondownload = ondownload;\n",
       "}\n",
       "\n",
       "mpl.figure.prototype._init_header = function() {\n",
       "    var titlebar = $(\n",
       "        '<div class=\"ui-dialog-titlebar ui-widget-header ui-corner-all ' +\n",
       "        'ui-helper-clearfix\"/>');\n",
       "    var titletext = $(\n",
       "        '<div class=\"ui-dialog-title\" style=\"width: 100%; ' +\n",
       "        'text-align: center; padding: 3px;\"/>');\n",
       "    titlebar.append(titletext)\n",
       "    this.root.append(titlebar);\n",
       "    this.header = titletext[0];\n",
       "}\n",
       "\n",
       "\n",
       "\n",
       "mpl.figure.prototype._canvas_extra_style = function(canvas_div) {\n",
       "\n",
       "}\n",
       "\n",
       "\n",
       "mpl.figure.prototype._root_extra_style = function(canvas_div) {\n",
       "\n",
       "}\n",
       "\n",
       "mpl.figure.prototype._init_canvas = function() {\n",
       "    var fig = this;\n",
       "\n",
       "    var canvas_div = $('<div/>');\n",
       "\n",
       "    canvas_div.attr('style', 'position: relative; clear: both; outline: 0');\n",
       "\n",
       "    function canvas_keyboard_event(event) {\n",
       "        return fig.key_event(event, event['data']);\n",
       "    }\n",
       "\n",
       "    canvas_div.keydown('key_press', canvas_keyboard_event);\n",
       "    canvas_div.keyup('key_release', canvas_keyboard_event);\n",
       "    this.canvas_div = canvas_div\n",
       "    this._canvas_extra_style(canvas_div)\n",
       "    this.root.append(canvas_div);\n",
       "\n",
       "    var canvas = $('<canvas/>');\n",
       "    canvas.addClass('mpl-canvas');\n",
       "    canvas.attr('style', \"left: 0; top: 0; z-index: 0; outline: 0\")\n",
       "\n",
       "    this.canvas = canvas[0];\n",
       "    this.context = canvas[0].getContext(\"2d\");\n",
       "\n",
       "    var backingStore = this.context.backingStorePixelRatio ||\n",
       "\tthis.context.webkitBackingStorePixelRatio ||\n",
       "\tthis.context.mozBackingStorePixelRatio ||\n",
       "\tthis.context.msBackingStorePixelRatio ||\n",
       "\tthis.context.oBackingStorePixelRatio ||\n",
       "\tthis.context.backingStorePixelRatio || 1;\n",
       "\n",
       "    mpl.ratio = (window.devicePixelRatio || 1) / backingStore;\n",
       "\n",
       "    var rubberband = $('<canvas/>');\n",
       "    rubberband.attr('style', \"position: absolute; left: 0; top: 0; z-index: 1;\")\n",
       "\n",
       "    var pass_mouse_events = true;\n",
       "\n",
       "    canvas_div.resizable({\n",
       "        start: function(event, ui) {\n",
       "            pass_mouse_events = false;\n",
       "        },\n",
       "        resize: function(event, ui) {\n",
       "            fig.request_resize(ui.size.width, ui.size.height);\n",
       "        },\n",
       "        stop: function(event, ui) {\n",
       "            pass_mouse_events = true;\n",
       "            fig.request_resize(ui.size.width, ui.size.height);\n",
       "        },\n",
       "    });\n",
       "\n",
       "    function mouse_event_fn(event) {\n",
       "        if (pass_mouse_events)\n",
       "            return fig.mouse_event(event, event['data']);\n",
       "    }\n",
       "\n",
       "    rubberband.mousedown('button_press', mouse_event_fn);\n",
       "    rubberband.mouseup('button_release', mouse_event_fn);\n",
       "    // Throttle sequential mouse events to 1 every 20ms.\n",
       "    rubberband.mousemove('motion_notify', mouse_event_fn);\n",
       "\n",
       "    rubberband.mouseenter('figure_enter', mouse_event_fn);\n",
       "    rubberband.mouseleave('figure_leave', mouse_event_fn);\n",
       "\n",
       "    canvas_div.on(\"wheel\", function (event) {\n",
       "        event = event.originalEvent;\n",
       "        event['data'] = 'scroll'\n",
       "        if (event.deltaY < 0) {\n",
       "            event.step = 1;\n",
       "        } else {\n",
       "            event.step = -1;\n",
       "        }\n",
       "        mouse_event_fn(event);\n",
       "    });\n",
       "\n",
       "    canvas_div.append(canvas);\n",
       "    canvas_div.append(rubberband);\n",
       "\n",
       "    this.rubberband = rubberband;\n",
       "    this.rubberband_canvas = rubberband[0];\n",
       "    this.rubberband_context = rubberband[0].getContext(\"2d\");\n",
       "    this.rubberband_context.strokeStyle = \"#000000\";\n",
       "\n",
       "    this._resize_canvas = function(width, height) {\n",
       "        // Keep the size of the canvas, canvas container, and rubber band\n",
       "        // canvas in synch.\n",
       "        canvas_div.css('width', width)\n",
       "        canvas_div.css('height', height)\n",
       "\n",
       "        canvas.attr('width', width * mpl.ratio);\n",
       "        canvas.attr('height', height * mpl.ratio);\n",
       "        canvas.attr('style', 'width: ' + width + 'px; height: ' + height + 'px;');\n",
       "\n",
       "        rubberband.attr('width', width);\n",
       "        rubberband.attr('height', height);\n",
       "    }\n",
       "\n",
       "    // Set the figure to an initial 600x600px, this will subsequently be updated\n",
       "    // upon first draw.\n",
       "    this._resize_canvas(600, 600);\n",
       "\n",
       "    // Disable right mouse context menu.\n",
       "    $(this.rubberband_canvas).bind(\"contextmenu\",function(e){\n",
       "        return false;\n",
       "    });\n",
       "\n",
       "    function set_focus () {\n",
       "        canvas.focus();\n",
       "        canvas_div.focus();\n",
       "    }\n",
       "\n",
       "    window.setTimeout(set_focus, 100);\n",
       "}\n",
       "\n",
       "mpl.figure.prototype._init_toolbar = function() {\n",
       "    var fig = this;\n",
       "\n",
       "    var nav_element = $('<div/>')\n",
       "    nav_element.attr('style', 'width: 100%');\n",
       "    this.root.append(nav_element);\n",
       "\n",
       "    // Define a callback function for later on.\n",
       "    function toolbar_event(event) {\n",
       "        return fig.toolbar_button_onclick(event['data']);\n",
       "    }\n",
       "    function toolbar_mouse_event(event) {\n",
       "        return fig.toolbar_button_onmouseover(event['data']);\n",
       "    }\n",
       "\n",
       "    for(var toolbar_ind in mpl.toolbar_items) {\n",
       "        var name = mpl.toolbar_items[toolbar_ind][0];\n",
       "        var tooltip = mpl.toolbar_items[toolbar_ind][1];\n",
       "        var image = mpl.toolbar_items[toolbar_ind][2];\n",
       "        var method_name = mpl.toolbar_items[toolbar_ind][3];\n",
       "\n",
       "        if (!name) {\n",
       "            // put a spacer in here.\n",
       "            continue;\n",
       "        }\n",
       "        var button = $('<button/>');\n",
       "        button.addClass('ui-button ui-widget ui-state-default ui-corner-all ' +\n",
       "                        'ui-button-icon-only');\n",
       "        button.attr('role', 'button');\n",
       "        button.attr('aria-disabled', 'false');\n",
       "        button.click(method_name, toolbar_event);\n",
       "        button.mouseover(tooltip, toolbar_mouse_event);\n",
       "\n",
       "        var icon_img = $('<span/>');\n",
       "        icon_img.addClass('ui-button-icon-primary ui-icon');\n",
       "        icon_img.addClass(image);\n",
       "        icon_img.addClass('ui-corner-all');\n",
       "\n",
       "        var tooltip_span = $('<span/>');\n",
       "        tooltip_span.addClass('ui-button-text');\n",
       "        tooltip_span.html(tooltip);\n",
       "\n",
       "        button.append(icon_img);\n",
       "        button.append(tooltip_span);\n",
       "\n",
       "        nav_element.append(button);\n",
       "    }\n",
       "\n",
       "    var fmt_picker_span = $('<span/>');\n",
       "\n",
       "    var fmt_picker = $('<select/>');\n",
       "    fmt_picker.addClass('mpl-toolbar-option ui-widget ui-widget-content');\n",
       "    fmt_picker_span.append(fmt_picker);\n",
       "    nav_element.append(fmt_picker_span);\n",
       "    this.format_dropdown = fmt_picker[0];\n",
       "\n",
       "    for (var ind in mpl.extensions) {\n",
       "        var fmt = mpl.extensions[ind];\n",
       "        var option = $(\n",
       "            '<option/>', {selected: fmt === mpl.default_extension}).html(fmt);\n",
       "        fmt_picker.append(option)\n",
       "    }\n",
       "\n",
       "    // Add hover states to the ui-buttons\n",
       "    $( \".ui-button\" ).hover(\n",
       "        function() { $(this).addClass(\"ui-state-hover\");},\n",
       "        function() { $(this).removeClass(\"ui-state-hover\");}\n",
       "    );\n",
       "\n",
       "    var status_bar = $('<span class=\"mpl-message\"/>');\n",
       "    nav_element.append(status_bar);\n",
       "    this.message = status_bar[0];\n",
       "}\n",
       "\n",
       "mpl.figure.prototype.request_resize = function(x_pixels, y_pixels) {\n",
       "    // Request matplotlib to resize the figure. Matplotlib will then trigger a resize in the client,\n",
       "    // which will in turn request a refresh of the image.\n",
       "    this.send_message('resize', {'width': x_pixels, 'height': y_pixels});\n",
       "}\n",
       "\n",
       "mpl.figure.prototype.send_message = function(type, properties) {\n",
       "    properties['type'] = type;\n",
       "    properties['figure_id'] = this.id;\n",
       "    this.ws.send(JSON.stringify(properties));\n",
       "}\n",
       "\n",
       "mpl.figure.prototype.send_draw_message = function() {\n",
       "    if (!this.waiting) {\n",
       "        this.waiting = true;\n",
       "        this.ws.send(JSON.stringify({type: \"draw\", figure_id: this.id}));\n",
       "    }\n",
       "}\n",
       "\n",
       "\n",
       "mpl.figure.prototype.handle_save = function(fig, msg) {\n",
       "    var format_dropdown = fig.format_dropdown;\n",
       "    var format = format_dropdown.options[format_dropdown.selectedIndex].value;\n",
       "    fig.ondownload(fig, format);\n",
       "}\n",
       "\n",
       "\n",
       "mpl.figure.prototype.handle_resize = function(fig, msg) {\n",
       "    var size = msg['size'];\n",
       "    if (size[0] != fig.canvas.width || size[1] != fig.canvas.height) {\n",
       "        fig._resize_canvas(size[0], size[1]);\n",
       "        fig.send_message(\"refresh\", {});\n",
       "    };\n",
       "}\n",
       "\n",
       "mpl.figure.prototype.handle_rubberband = function(fig, msg) {\n",
       "    var x0 = msg['x0'] / mpl.ratio;\n",
       "    var y0 = (fig.canvas.height - msg['y0']) / mpl.ratio;\n",
       "    var x1 = msg['x1'] / mpl.ratio;\n",
       "    var y1 = (fig.canvas.height - msg['y1']) / mpl.ratio;\n",
       "    x0 = Math.floor(x0) + 0.5;\n",
       "    y0 = Math.floor(y0) + 0.5;\n",
       "    x1 = Math.floor(x1) + 0.5;\n",
       "    y1 = Math.floor(y1) + 0.5;\n",
       "    var min_x = Math.min(x0, x1);\n",
       "    var min_y = Math.min(y0, y1);\n",
       "    var width = Math.abs(x1 - x0);\n",
       "    var height = Math.abs(y1 - y0);\n",
       "\n",
       "    fig.rubberband_context.clearRect(\n",
       "        0, 0, fig.canvas.width, fig.canvas.height);\n",
       "\n",
       "    fig.rubberband_context.strokeRect(min_x, min_y, width, height);\n",
       "}\n",
       "\n",
       "mpl.figure.prototype.handle_figure_label = function(fig, msg) {\n",
       "    // Updates the figure title.\n",
       "    fig.header.textContent = msg['label'];\n",
       "}\n",
       "\n",
       "mpl.figure.prototype.handle_cursor = function(fig, msg) {\n",
       "    var cursor = msg['cursor'];\n",
       "    switch(cursor)\n",
       "    {\n",
       "    case 0:\n",
       "        cursor = 'pointer';\n",
       "        break;\n",
       "    case 1:\n",
       "        cursor = 'default';\n",
       "        break;\n",
       "    case 2:\n",
       "        cursor = 'crosshair';\n",
       "        break;\n",
       "    case 3:\n",
       "        cursor = 'move';\n",
       "        break;\n",
       "    }\n",
       "    fig.rubberband_canvas.style.cursor = cursor;\n",
       "}\n",
       "\n",
       "mpl.figure.prototype.handle_message = function(fig, msg) {\n",
       "    fig.message.textContent = msg['message'];\n",
       "}\n",
       "\n",
       "mpl.figure.prototype.handle_draw = function(fig, msg) {\n",
       "    // Request the server to send over a new figure.\n",
       "    fig.send_draw_message();\n",
       "}\n",
       "\n",
       "mpl.figure.prototype.handle_image_mode = function(fig, msg) {\n",
       "    fig.image_mode = msg['mode'];\n",
       "}\n",
       "\n",
       "mpl.figure.prototype.updated_canvas_event = function() {\n",
       "    // Called whenever the canvas gets updated.\n",
       "    this.send_message(\"ack\", {});\n",
       "}\n",
       "\n",
       "// A function to construct a web socket function for onmessage handling.\n",
       "// Called in the figure constructor.\n",
       "mpl.figure.prototype._make_on_message_function = function(fig) {\n",
       "    return function socket_on_message(evt) {\n",
       "        if (evt.data instanceof Blob) {\n",
       "            /* FIXME: We get \"Resource interpreted as Image but\n",
       "             * transferred with MIME type text/plain:\" errors on\n",
       "             * Chrome.  But how to set the MIME type?  It doesn't seem\n",
       "             * to be part of the websocket stream */\n",
       "            evt.data.type = \"image/png\";\n",
       "\n",
       "            /* Free the memory for the previous frames */\n",
       "            if (fig.imageObj.src) {\n",
       "                (window.URL || window.webkitURL).revokeObjectURL(\n",
       "                    fig.imageObj.src);\n",
       "            }\n",
       "\n",
       "            fig.imageObj.src = (window.URL || window.webkitURL).createObjectURL(\n",
       "                evt.data);\n",
       "            fig.updated_canvas_event();\n",
       "            fig.waiting = false;\n",
       "            return;\n",
       "        }\n",
       "        else if (typeof evt.data === 'string' && evt.data.slice(0, 21) == \"data:image/png;base64\") {\n",
       "            fig.imageObj.src = evt.data;\n",
       "            fig.updated_canvas_event();\n",
       "            fig.waiting = false;\n",
       "            return;\n",
       "        }\n",
       "\n",
       "        var msg = JSON.parse(evt.data);\n",
       "        var msg_type = msg['type'];\n",
       "\n",
       "        // Call the  \"handle_{type}\" callback, which takes\n",
       "        // the figure and JSON message as its only arguments.\n",
       "        try {\n",
       "            var callback = fig[\"handle_\" + msg_type];\n",
       "        } catch (e) {\n",
       "            console.log(\"No handler for the '\" + msg_type + \"' message type: \", msg);\n",
       "            return;\n",
       "        }\n",
       "\n",
       "        if (callback) {\n",
       "            try {\n",
       "                // console.log(\"Handling '\" + msg_type + \"' message: \", msg);\n",
       "                callback(fig, msg);\n",
       "            } catch (e) {\n",
       "                console.log(\"Exception inside the 'handler_\" + msg_type + \"' callback:\", e, e.stack, msg);\n",
       "            }\n",
       "        }\n",
       "    };\n",
       "}\n",
       "\n",
       "// from http://stackoverflow.com/questions/1114465/getting-mouse-location-in-canvas\n",
       "mpl.findpos = function(e) {\n",
       "    //this section is from http://www.quirksmode.org/js/events_properties.html\n",
       "    var targ;\n",
       "    if (!e)\n",
       "        e = window.event;\n",
       "    if (e.target)\n",
       "        targ = e.target;\n",
       "    else if (e.srcElement)\n",
       "        targ = e.srcElement;\n",
       "    if (targ.nodeType == 3) // defeat Safari bug\n",
       "        targ = targ.parentNode;\n",
       "\n",
       "    // jQuery normalizes the pageX and pageY\n",
       "    // pageX,Y are the mouse positions relative to the document\n",
       "    // offset() returns the position of the element relative to the document\n",
       "    var x = e.pageX - $(targ).offset().left;\n",
       "    var y = e.pageY - $(targ).offset().top;\n",
       "\n",
       "    return {\"x\": x, \"y\": y};\n",
       "};\n",
       "\n",
       "/*\n",
       " * return a copy of an object with only non-object keys\n",
       " * we need this to avoid circular references\n",
       " * http://stackoverflow.com/a/24161582/3208463\n",
       " */\n",
       "function simpleKeys (original) {\n",
       "  return Object.keys(original).reduce(function (obj, key) {\n",
       "    if (typeof original[key] !== 'object')\n",
       "        obj[key] = original[key]\n",
       "    return obj;\n",
       "  }, {});\n",
       "}\n",
       "\n",
       "mpl.figure.prototype.mouse_event = function(event, name) {\n",
       "    var canvas_pos = mpl.findpos(event)\n",
       "\n",
       "    if (name === 'button_press')\n",
       "    {\n",
       "        this.canvas.focus();\n",
       "        this.canvas_div.focus();\n",
       "    }\n",
       "\n",
       "    var x = canvas_pos.x * mpl.ratio;\n",
       "    var y = canvas_pos.y * mpl.ratio;\n",
       "\n",
       "    this.send_message(name, {x: x, y: y, button: event.button,\n",
       "                             step: event.step,\n",
       "                             guiEvent: simpleKeys(event)});\n",
       "\n",
       "    /* This prevents the web browser from automatically changing to\n",
       "     * the text insertion cursor when the button is pressed.  We want\n",
       "     * to control all of the cursor setting manually through the\n",
       "     * 'cursor' event from matplotlib */\n",
       "    event.preventDefault();\n",
       "    return false;\n",
       "}\n",
       "\n",
       "mpl.figure.prototype._key_event_extra = function(event, name) {\n",
       "    // Handle any extra behaviour associated with a key event\n",
       "}\n",
       "\n",
       "mpl.figure.prototype.key_event = function(event, name) {\n",
       "\n",
       "    // Prevent repeat events\n",
       "    if (name == 'key_press')\n",
       "    {\n",
       "        if (event.which === this._key)\n",
       "            return;\n",
       "        else\n",
       "            this._key = event.which;\n",
       "    }\n",
       "    if (name == 'key_release')\n",
       "        this._key = null;\n",
       "\n",
       "    var value = '';\n",
       "    if (event.ctrlKey && event.which != 17)\n",
       "        value += \"ctrl+\";\n",
       "    if (event.altKey && event.which != 18)\n",
       "        value += \"alt+\";\n",
       "    if (event.shiftKey && event.which != 16)\n",
       "        value += \"shift+\";\n",
       "\n",
       "    value += 'k';\n",
       "    value += event.which.toString();\n",
       "\n",
       "    this._key_event_extra(event, name);\n",
       "\n",
       "    this.send_message(name, {key: value,\n",
       "                             guiEvent: simpleKeys(event)});\n",
       "    return false;\n",
       "}\n",
       "\n",
       "mpl.figure.prototype.toolbar_button_onclick = function(name) {\n",
       "    if (name == 'download') {\n",
       "        this.handle_save(this, null);\n",
       "    } else {\n",
       "        this.send_message(\"toolbar_button\", {name: name});\n",
       "    }\n",
       "};\n",
       "\n",
       "mpl.figure.prototype.toolbar_button_onmouseover = function(tooltip) {\n",
       "    this.message.textContent = tooltip;\n",
       "};\n",
       "mpl.toolbar_items = [[\"Home\", \"Reset original view\", \"fa fa-home icon-home\", \"home\"], [\"Back\", \"Back to  previous view\", \"fa fa-arrow-left icon-arrow-left\", \"back\"], [\"Forward\", \"Forward to next view\", \"fa fa-arrow-right icon-arrow-right\", \"forward\"], [\"\", \"\", \"\", \"\"], [\"Pan\", \"Pan axes with left mouse, zoom with right\", \"fa fa-arrows icon-move\", \"pan\"], [\"Zoom\", \"Zoom to rectangle\", \"fa fa-square-o icon-check-empty\", \"zoom\"], [\"\", \"\", \"\", \"\"], [\"Download\", \"Download plot\", \"fa fa-floppy-o icon-save\", \"download\"]];\n",
       "\n",
       "mpl.extensions = [\"eps\", \"jpeg\", \"pdf\", \"png\", \"ps\", \"raw\", \"svg\", \"tif\"];\n",
       "\n",
       "mpl.default_extension = \"png\";var comm_websocket_adapter = function(comm) {\n",
       "    // Create a \"websocket\"-like object which calls the given IPython comm\n",
       "    // object with the appropriate methods. Currently this is a non binary\n",
       "    // socket, so there is still some room for performance tuning.\n",
       "    var ws = {};\n",
       "\n",
       "    ws.close = function() {\n",
       "        comm.close()\n",
       "    };\n",
       "    ws.send = function(m) {\n",
       "        //console.log('sending', m);\n",
       "        comm.send(m);\n",
       "    };\n",
       "    // Register the callback with on_msg.\n",
       "    comm.on_msg(function(msg) {\n",
       "        //console.log('receiving', msg['content']['data'], msg);\n",
       "        // Pass the mpl event to the overriden (by mpl) onmessage function.\n",
       "        ws.onmessage(msg['content']['data'])\n",
       "    });\n",
       "    return ws;\n",
       "}\n",
       "\n",
       "mpl.mpl_figure_comm = function(comm, msg) {\n",
       "    // This is the function which gets called when the mpl process\n",
       "    // starts-up an IPython Comm through the \"matplotlib\" channel.\n",
       "\n",
       "    var id = msg.content.data.id;\n",
       "    // Get hold of the div created by the display call when the Comm\n",
       "    // socket was opened in Python.\n",
       "    var element = $(\"#\" + id);\n",
       "    var ws_proxy = comm_websocket_adapter(comm)\n",
       "\n",
       "    function ondownload(figure, format) {\n",
       "        window.open(figure.imageObj.src);\n",
       "    }\n",
       "\n",
       "    var fig = new mpl.figure(id, ws_proxy,\n",
       "                           ondownload,\n",
       "                           element.get(0));\n",
       "\n",
       "    // Call onopen now - mpl needs it, as it is assuming we've passed it a real\n",
       "    // web socket which is closed, not our websocket->open comm proxy.\n",
       "    ws_proxy.onopen();\n",
       "\n",
       "    fig.parent_element = element.get(0);\n",
       "    fig.cell_info = mpl.find_output_cell(\"<div id='\" + id + \"'></div>\");\n",
       "    if (!fig.cell_info) {\n",
       "        console.error(\"Failed to find cell for figure\", id, fig);\n",
       "        return;\n",
       "    }\n",
       "\n",
       "    var output_index = fig.cell_info[2]\n",
       "    var cell = fig.cell_info[0];\n",
       "\n",
       "};\n",
       "\n",
       "mpl.figure.prototype.handle_close = function(fig, msg) {\n",
       "    var width = fig.canvas.width/mpl.ratio\n",
       "    fig.root.unbind('remove')\n",
       "\n",
       "    // Update the output cell to use the data from the current canvas.\n",
       "    fig.push_to_output();\n",
       "    var dataURL = fig.canvas.toDataURL();\n",
       "    // Re-enable the keyboard manager in IPython - without this line, in FF,\n",
       "    // the notebook keyboard shortcuts fail.\n",
       "    IPython.keyboard_manager.enable()\n",
       "    $(fig.parent_element).html('<img src=\"' + dataURL + '\" width=\"' + width + '\">');\n",
       "    fig.close_ws(fig, msg);\n",
       "}\n",
       "\n",
       "mpl.figure.prototype.close_ws = function(fig, msg){\n",
       "    fig.send_message('closing', msg);\n",
       "    // fig.ws.close()\n",
       "}\n",
       "\n",
       "mpl.figure.prototype.push_to_output = function(remove_interactive) {\n",
       "    // Turn the data on the canvas into data in the output cell.\n",
       "    var width = this.canvas.width/mpl.ratio\n",
       "    var dataURL = this.canvas.toDataURL();\n",
       "    this.cell_info[1]['text/html'] = '<img src=\"' + dataURL + '\" width=\"' + width + '\">';\n",
       "}\n",
       "\n",
       "mpl.figure.prototype.updated_canvas_event = function() {\n",
       "    // Tell IPython that the notebook contents must change.\n",
       "    IPython.notebook.set_dirty(true);\n",
       "    this.send_message(\"ack\", {});\n",
       "    var fig = this;\n",
       "    // Wait a second, then push the new image to the DOM so\n",
       "    // that it is saved nicely (might be nice to debounce this).\n",
       "    setTimeout(function () { fig.push_to_output() }, 1000);\n",
       "}\n",
       "\n",
       "mpl.figure.prototype._init_toolbar = function() {\n",
       "    var fig = this;\n",
       "\n",
       "    var nav_element = $('<div/>')\n",
       "    nav_element.attr('style', 'width: 100%');\n",
       "    this.root.append(nav_element);\n",
       "\n",
       "    // Define a callback function for later on.\n",
       "    function toolbar_event(event) {\n",
       "        return fig.toolbar_button_onclick(event['data']);\n",
       "    }\n",
       "    function toolbar_mouse_event(event) {\n",
       "        return fig.toolbar_button_onmouseover(event['data']);\n",
       "    }\n",
       "\n",
       "    for(var toolbar_ind in mpl.toolbar_items){\n",
       "        var name = mpl.toolbar_items[toolbar_ind][0];\n",
       "        var tooltip = mpl.toolbar_items[toolbar_ind][1];\n",
       "        var image = mpl.toolbar_items[toolbar_ind][2];\n",
       "        var method_name = mpl.toolbar_items[toolbar_ind][3];\n",
       "\n",
       "        if (!name) { continue; };\n",
       "\n",
       "        var button = $('<button class=\"btn btn-default\" href=\"#\" title=\"' + name + '\"><i class=\"fa ' + image + ' fa-lg\"></i></button>');\n",
       "        button.click(method_name, toolbar_event);\n",
       "        button.mouseover(tooltip, toolbar_mouse_event);\n",
       "        nav_element.append(button);\n",
       "    }\n",
       "\n",
       "    // Add the status bar.\n",
       "    var status_bar = $('<span class=\"mpl-message\" style=\"text-align:right; float: right;\"/>');\n",
       "    nav_element.append(status_bar);\n",
       "    this.message = status_bar[0];\n",
       "\n",
       "    // Add the close button to the window.\n",
       "    var buttongrp = $('<div class=\"btn-group inline pull-right\"></div>');\n",
       "    var button = $('<button class=\"btn btn-mini btn-primary\" href=\"#\" title=\"Stop Interaction\"><i class=\"fa fa-power-off icon-remove icon-large\"></i></button>');\n",
       "    button.click(function (evt) { fig.handle_close(fig, {}); } );\n",
       "    button.mouseover('Stop Interaction', toolbar_mouse_event);\n",
       "    buttongrp.append(button);\n",
       "    var titlebar = this.root.find($('.ui-dialog-titlebar'));\n",
       "    titlebar.prepend(buttongrp);\n",
       "}\n",
       "\n",
       "mpl.figure.prototype._root_extra_style = function(el){\n",
       "    var fig = this\n",
       "    el.on(\"remove\", function(){\n",
       "\tfig.close_ws(fig, {});\n",
       "    });\n",
       "}\n",
       "\n",
       "mpl.figure.prototype._canvas_extra_style = function(el){\n",
       "    // this is important to make the div 'focusable\n",
       "    el.attr('tabindex', 0)\n",
       "    // reach out to IPython and tell the keyboard manager to turn it's self\n",
       "    // off when our div gets focus\n",
       "\n",
       "    // location in version 3\n",
       "    if (IPython.notebook.keyboard_manager) {\n",
       "        IPython.notebook.keyboard_manager.register_events(el);\n",
       "    }\n",
       "    else {\n",
       "        // location in version 2\n",
       "        IPython.keyboard_manager.register_events(el);\n",
       "    }\n",
       "\n",
       "}\n",
       "\n",
       "mpl.figure.prototype._key_event_extra = function(event, name) {\n",
       "    var manager = IPython.notebook.keyboard_manager;\n",
       "    if (!manager)\n",
       "        manager = IPython.keyboard_manager;\n",
       "\n",
       "    // Check for shift+enter\n",
       "    if (event.shiftKey && event.which == 13) {\n",
       "        this.canvas_div.blur();\n",
       "        event.shiftKey = false;\n",
       "        // Send a \"J\" for go to next cell\n",
       "        event.which = 74;\n",
       "        event.keyCode = 74;\n",
       "        manager.command_mode();\n",
       "        manager.handle_keydown(event);\n",
       "    }\n",
       "}\n",
       "\n",
       "mpl.figure.prototype.handle_save = function(fig, msg) {\n",
       "    fig.ondownload(fig, null);\n",
       "}\n",
       "\n",
       "\n",
       "mpl.find_output_cell = function(html_output) {\n",
       "    // Return the cell and output element which can be found *uniquely* in the notebook.\n",
       "    // Note - this is a bit hacky, but it is done because the \"notebook_saving.Notebook\"\n",
       "    // IPython event is triggered only after the cells have been serialised, which for\n",
       "    // our purposes (turning an active figure into a static one), is too late.\n",
       "    var cells = IPython.notebook.get_cells();\n",
       "    var ncells = cells.length;\n",
       "    for (var i=0; i<ncells; i++) {\n",
       "        var cell = cells[i];\n",
       "        if (cell.cell_type === 'code'){\n",
       "            for (var j=0; j<cell.output_area.outputs.length; j++) {\n",
       "                var data = cell.output_area.outputs[j];\n",
       "                if (data.data) {\n",
       "                    // IPython >= 3 moved mimebundle to data attribute of output\n",
       "                    data = data.data;\n",
       "                }\n",
       "                if (data['text/html'] == html_output) {\n",
       "                    return [cell, data, j];\n",
       "                }\n",
       "            }\n",
       "        }\n",
       "    }\n",
       "}\n",
       "\n",
       "// Register the function which deals with the matplotlib target/channel.\n",
       "// The kernel may be null if the page has been refreshed.\n",
       "if (IPython.notebook.kernel != null) {\n",
       "    IPython.notebook.kernel.comm_manager.register_target('matplotlib', mpl.mpl_figure_comm);\n",
       "}\n"
      ],
      "text/plain": [
       "<IPython.core.display.Javascript object>"
      ]
     },
     "metadata": {},
     "output_type": "display_data"
    },
    {
     "data": {
      "text/html": [
       "<img src=\"data:image/png;base64,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\" width=\"800\">"
      ],
      "text/plain": [
       "<IPython.core.display.HTML object>"
      ]
     },
     "metadata": {},
     "output_type": "display_data"
    },
    {
     "name": "stdout",
     "output_type": "stream",
     "text": [
      "TCLab disconnected successfully.\n"
     ]
    }
   ],
   "source": [
    "%matplotlib notebook\n",
    "from tclab import TCLab, clock, Historian, Plotter\n",
    "\n",
    "with TCLab() as a:\n",
    "    h = Historian(a.sources)\n",
    "    p = Plotter(h, twindow=200)\n",
    "    for t in clock(200):\n",
    "        a.Q1(100 if t < 100 else 0)\n",
    "        p.update(t)"
   ]
  },
  {
   "cell_type": "code",
   "execution_count": null,
   "metadata": {},
   "outputs": [],
   "source": []
  },
  {
   "cell_type": "markdown",
   "metadata": {},
   "source": [
    "# Working with TCLab in Simulation Mode\n",
    "\n",
    "TCLab Model\n",
    "\n",
    "`TCLabModel` replaces `TCLab` for occasions where the TCLab hardware might not be available. To use, include the import\n",
    "\n",
    "    from tclab import TCLabModel as TCLab \n",
    "    \n",
    "The rest of your code will work without change. Be advised the underlying model used to approximate the behavior of the Temperature Control Laboratory is an approximation to the dynamics of the actual hardware."
   ]
  },
  {
   "cell_type": "code",
   "execution_count": 1,
   "metadata": {},
   "outputs": [
    {
     "name": "stdout",
     "output_type": "stream",
     "text": [
      "Simulated TCLab\n",
      "Temperature 1: 21.02 °C\n",
      "Temperature 2: 21.11 °C\n",
      "TCLab Model disconnected successfully.\n"
     ]
    }
   ],
   "source": [
    "from tclab import TCLabModel as TCLab\n",
    "\n",
    "with TCLab() as a:\n",
    "    print(\"Temperature 1: {0:0.2f} °C\".format(a.T1))\n",
    "    print(\"Temperature 2: {0:0.2f} °C\".format(a.T2))"
   ]
  },
  {
   "cell_type": "markdown",
   "metadata": {},
   "source": [
    "As an additional example."
   ]
  },
  {
   "cell_type": "code",
   "execution_count": 2,
   "metadata": {},
   "outputs": [
    {
     "data": {
      "image/png": "[encoded data removed]",
      "text/plain": [
       "<matplotlib.figure.Figure at 0x10e3cae10>"
      ]
     },
     "metadata": {},
     "output_type": "display_data"
    },
    {
     "name": "stdout",
     "output_type": "stream",
     "text": [
      "TCLab Model disconnected successfully.\n"
     ]
    },
    {
     "data": {
      "image/png": "[encoded data removed]",
      "text/plain": [
       "<matplotlib.figure.Figure at 0x10e3cae10>"
      ]
     },
     "metadata": {},
     "output_type": "display_data"
    }
   ],
   "source": [
    "%matplotlib inline\n",
    "from tclab import TCLabModel as TCLab\n",
    "from tclab import clock, Historian, Plotter\n",
    "\n",
    "with TCLab() as a:\n",
    "    h = Historian(a.sources)\n",
    "    p = Plotter(h, twindow=200)\n",
    "    for t in clock(200):\n",
    "        a.Q1(100 if t < 100 else 0)\n",
    "        p.update(t)"
   ]
  },
  {
   "cell_type": "markdown",
   "metadata": {},
   "source": [
    "### Speedup Factor with `setup()`\n",
    "\n",
    "The setup function provides control over the use of the TCLab hardware or model. If using a model, an option to run at a multiple of real-time.\n",
    "\n",
    "A speedup of 10 or greater causes the simulation to run as fast as possible."
   ]
  },
  {
   "cell_type": "code",
   "execution_count": 3,
   "metadata": {
    "scrolled": false
   },
   "outputs": [
    {
     "data": {
      "image/png": "[encoded data removed]",
      "text/plain": [
       "<matplotlib.figure.Figure at 0x11683fd30>"
      ]
     },
     "metadata": {},
     "output_type": "display_data"
    },
    {
     "name": "stdout",
     "output_type": "stream",
     "text": [
      "TCLab Model disconnected successfully.\n"
     ]
    },
    {
     "data": {
      "image/png": "[encoded data removed]",
      "text/plain": [
       "<matplotlib.figure.Figure at 0x11683fd30>"
      ]
     },
     "metadata": {},
     "output_type": "display_data"
    }
   ],
   "source": [
    "%matplotlib inline\n",
    "from tclab import clock, Historian, Plotter, setup\n",
    "\n",
    "TCLab = setup(connected=False, speedup=20)\n",
    "\n",
    "with TCLab() as a:\n",
    "    h = Historian(a.sources)\n",
    "    p = Plotter(h, twindow=200)\n",
    "    for t in clock(200):\n",
    "        a.Q1(100 if t < 100 else 0)\n",
    "        h.update(t)\n",
    "    p.update()"
   ]
  },
  {
   "cell_type": "code",
   "execution_count": null,
   "metadata": {},
   "outputs": [],
   "source": []
  },
  {
   "cell_type": "markdown",
   "metadata": {},
   "source": [
    "# Graphical interaction with the Temperature Control Laboratory\n",
    "The `tclab.gui` module supplies a graphical interface to the Temperature Control Laboratory."
   ]
  },
  {
   "cell_type": "code",
   "execution_count": 1,
   "metadata": {},
   "outputs": [],
   "source": [
    "from tclab.gui import NotebookUI"
   ]
  },
  {
   "cell_type": "code",
   "execution_count": 2,
   "metadata": {},
   "outputs": [],
   "source": [
    "%matplotlib notebook"
   ]
  },
  {
   "cell_type": "code",
   "execution_count": null,
   "metadata": {},
   "outputs": [],
   "source": [
    "interface = NotebookUI()"
   ]
  },
  {
   "cell_type": "code",
   "execution_count": null,
   "metadata": {},
   "outputs": [],
   "source": [
    "interface.gui"
   ]
  },
  {
   "cell_type": "markdown",
   "metadata": {},
   "source": [
    "## Accessing past sessions\n",
    "Once you have finished the experiment, you can see what sessions the historian stored as follows:"
   ]
  },
  {
   "cell_type": "code",
   "execution_count": null,
   "metadata": {},
   "outputs": [],
   "source": [
    "interface.historian.get_sessions()"
   ]
  },
  {
   "cell_type": "markdown",
   "metadata": {},
   "source": [
    "The historian can load data from one of the previous sessions. Note that this will overwrite the data currently stored in the historian."
   ]
  },
  {
   "cell_type": "code",
   "execution_count": null,
   "metadata": {},
   "outputs": [],
   "source": [
    "interface.historian.load_session(1)"
   ]
  },
  {
   "cell_type": "markdown",
   "metadata": {},
   "source": [
    "Once the data have been loaded, the historian will support all the same commands as if only one session was used."
   ]
  },
  {
   "cell_type": "code",
   "execution_count": null,
   "metadata": {},
   "outputs": [],
   "source": [
    "interface.historian.log"
   ]
  },
  {
   "cell_type": "code",
   "execution_count": null,
   "metadata": {},
   "outputs": [],
   "source": []
  },
  {
   "cell_type": "markdown",
   "metadata": {},
   "source": [
    "## Non-blocking Operation"
   ]
  },
  {
   "cell_type": "code",
   "execution_count": null,
   "metadata": {},
   "outputs": [],
   "source": [
    "import threading, time\n",
    "\n",
    "next_call = time.time()\n",
    "\n",
    "def foo():\n",
    "  global next_call\n",
    "  print(datetime.datetime.now())\n",
    "  next_call = next_call+1\n",
    "  threading.Timer( next_call - time.time(), foo ).start()\n",
    "\n",
    "#foo()\n",
    "\n",
    "def bar():\n",
    "    clock.send(None)\n",
    "\n",
    "def clock(tperiod):\n",
    "    tstart = time.time()\n",
    "    tfinish = tstart + tperiod\n",
    "    t = 0\n",
    "    while t + tstart < tfinish:\n",
    "        z = yield t\n",
    "        t += 1\n",
    "\n",
    "def bar():\n",
    "    clock.send(2)"
   ]
  },
  {
   "cell_type": "markdown",
   "metadata": {},
   "source": [
    "## Graphics Testing\n",
    "\n",
    "Notebook to test graphics during development."
   ]
  },
  {
   "cell_type": "markdown",
   "metadata": {},
   "source": []
  },
  {
   "cell_type": "code",
   "execution_count": null,
   "metadata": {
    "scrolled": false
   },
   "outputs": [],
   "source": [
    "%matplotlib notebook\n",
    "from tclab import setup\n",
    "from tclab import Historian, Plotter, clock\n",
    "import time\n",
    "\n",
    "tic = time.time()\n",
    "lab = setup(connected=False, speedup=10)\n",
    "with lab() as a:\n",
    "    h = Historian(a.sources)\n",
    "    p = Plotter(h, 200, layout=(('T1', 'T2'), ('Q1', 'Q2')))\n",
    "    for t in clock(200):\n",
    "        a.U1 = 80\n",
    "        p.update(t)\n",
    "toc = time.time()\n",
    "\n",
    "print(toc-tic, 'seconds')"
   ]
  },
  {
   "cell_type": "code",
   "execution_count": null,
   "metadata": {},
   "outputs": [],
   "source": [
    "from tclab import TCLabModel,  Historian, Plotter\n",
    "import threading, time\n",
    "\n",
    "tstep = 1\n",
    "tperiod = 20\n",
    "\n",
    "tstart = time.time()\n",
    "tfinish = tstart + tperiod\n",
    "tnext = tstart\n",
    "\n",
    "a = TCLabModel()\n",
    "h = Historian(a.sources)\n",
    "p = Plotter(h,20)\n",
    "a.U1 = 100\n",
    "\n",
    "\n",
    "def tasks(tnext):\n",
    "    global tnext, tfinish, tstep\n",
    "    p.update(tnext-tstart)\n",
    "    tnext = tnext + tstep\n",
    "    if tnext <= tfinish:\n",
    "        threading.Timer(tnext-time.time(), update).start()\n",
    "    else:\n",
    "        a.close()\n",
    "\n",
    "update()"
   ]
  },
  {
   "cell_type": "code",
   "execution_count": null,
   "metadata": {
    "scrolled": false
   },
   "outputs": [],
   "source": [
    "%matplotlib notebook\n",
    "\n",
    "import time\n",
    "from threading import Timer\n",
    "from tclab import setup, Historian, Plotter\n",
    "\n",
    "lab = setup(connected=False, speedup=1)\n",
    "a = lab()\n",
    "h = Historian(a.sources)\n",
    "p = Plotter(h)\n",
    "\n",
    "SP = 40\n",
    "\n",
    "tstart = time.time()\n",
    "def loop():\n",
    "    PV = a.T1\n",
    "    MV = 100 if PV < SP else 0\n",
    "    a.U1 = MV\n",
    "    p.update(time.time()-tstart)\n",
    "\n",
    "for t in range(0,100):\n",
    "    Timer(t, loop).start()\n",
    "Timer(100,a.close).start()"
   ]
  },
  {
   "cell_type": "code",
   "execution_count": null,
   "metadata": {},
   "outputs": [],
   "source": [
    "SP = 20"
   ]
  },
  {
   "cell_type": "code",
   "execution_count": null,
   "metadata": {},
   "outputs": [],
   "source": [
    "import threading, time, datetime\n",
    "\n",
    "def loop():\n",
    "    yield\n",
    "    print(datetime.datetime.now())\n",
    "    threading.Timer(1000, lambda: next(loop_gen)).start()\n",
    "    \n",
    "loop_gen = loop()\n",
    "next(loop_gen)\n"
   ]
  },
  {
   "cell_type": "code",
   "execution_count": null,
   "metadata": {},
   "outputs": [],
   "source": [
    "import asyncio\n",
    "\n",
    "async def slow_op(n):\n",
    "    await asyncio.sleep(n)\n",
    "    print(\"Slow Op:\", n)\n",
    "    \n",
    "async def main():\n",
    "    await asyncio.wait([slow_op(3),slow_op(2),slow_op(1)])\n",
    "    \n",
    "loop = asyncio.get_event_loop()\n",
    "loop.run_until_complete(main())"
   ]
  },
  {
   "cell_type": "code",
   "execution_count": null,
   "metadata": {},
   "outputs": [],
   "source": []
  },
  {
   "cell_type": "markdown",
   "metadata": {},
   "source": [
    "## Testing"
   ]
  },
  {
   "cell_type": "markdown",
   "metadata": {},
   "source": [
    "## Temperature Sampling Speed"
   ]
  },
  {
   "cell_type": "code",
   "execution_count": null,
   "metadata": {},
   "outputs": [],
   "source": [
    "import time\n",
    "from tclab import setup, clock\n",
    "\n",
    "lab = setup(connected=True)\n",
    "\n",
    "N = 100\n",
    "meas = []\n",
    "with lab() as a:\n",
    "    tic = time.time()\n",
    "    for k in range(0,N):\n",
    "        meas.append(a.T1)\n",
    "    toc = time.time()\n",
    "\n",
    "print('Reading temperature at', round(N/(toc-tic),1), 'samples per second.')"
   ]
  },
  {
   "cell_type": "markdown",
   "metadata": {},
   "source": [
    "## Heater Sampling Speed"
   ]
  },
  {
   "cell_type": "code",
   "execution_count": null,
   "metadata": {},
   "outputs": [],
   "source": [
    "import time\n",
    "from tclab import setup, clock\n",
    "\n",
    "lab = setup(connected=True)\n",
    "\n",
    "N = 100\n",
    "meas = []\n",
    "with lab() as a:\n",
    "    tic = time.time()\n",
    "    for k in range(0,N):\n",
    "        a.Q1(100)\n",
    "    toc = time.time()\n",
    "\n",
    "print('Setting heater at', round(N/(toc-tic),1), 'samples per second.')"
   ]
  },
  {
   "cell_type": "code",
   "execution_count": null,
   "metadata": {},
   "outputs": [],
   "source": [
    "import time\n",
    "from tclab import setup, clock\n",
    "\n",
    "lab = setup(connected=True)\n",
    "\n",
    "N = 100\n",
    "meas = []\n",
    "with lab() as a:\n",
    "    tic = time.time()\n",
    "    for k in range(0,N):\n",
    "        meas.append(a.scan())\n",
    "    toc = time.time()\n",
    "\n",
    "print('Reading temperature at', round(N/(toc-tic),1), 'samples per second.')"
   ]
  },
  {
   "cell_type": "markdown",
   "metadata": {},
   "source": [
    "## Working with Tornado\n",
    "\n",
    "This is an experiment to build a non-blocking event loop for TCLab.  The main idea is to implement the main event loop as a generator, then use Tornando's non-blocking timer to send periodic messages to the generator."
   ]
  },
  {
   "cell_type": "code",
   "execution_count": null,
   "metadata": {},
   "outputs": [],
   "source": [
    "%matplotlib inline\n",
    "import tornado\n",
    "import time\n",
    "from tclab import setup, Historian, Plotter\n",
    "\n",
    "SP = 40\n",
    "Kp = 10\n",
    "\n",
    "def update(lab):\n",
    "    t = 0\n",
    "    h = Historian(lab.sources)\n",
    "    p = Plotter(h,120)\n",
    "    while True:\n",
    "        PV = lab.T1\n",
    "        MV = Kp*(SP-PV)\n",
    "        lab.U1 = MV\n",
    "        p.update(t)\n",
    "        yield\n",
    "        t += 1\n",
    "\n",
    "lab = setup(connected=True)\n",
    "a = lab()\n",
    "update_gen = update(a)\n",
    "timer = tornado.ioloop.PeriodicCallback(lambda: next(update_gen), 1000)\n",
    "timer.start()"
   ]
  },
  {
   "cell_type": "code",
   "execution_count": null,
   "metadata": {},
   "outputs": [],
   "source": [
    "timer.stop()\n",
    "a.close()"
   ]
  },
  {
   "cell_type": "markdown",
   "metadata": {},
   "source": [
    "## Working with Widgets\n",
    "\n",
    "`tclab.clock` is based on a generator, which maintains a single thread of execution. One consequence is that there is no interaction with Jupyter widgets."
   ]
  },
  {
   "cell_type": "code",
   "execution_count": null,
   "metadata": {},
   "outputs": [],
   "source": [
    "from ipywidgets import interactive\n",
    "from IPython.display import display\n",
    "from tclab import clock\n",
    "\n",
    "Kp = interactive(lambda Kp: Kp, Kp = 12)\n",
    "display(Kp)\n",
    "\n",
    "for t in clock(10):\n",
    "    print(t, Kp.result)"
   ]
  },
  {
   "cell_type": "code",
   "execution_count": null,
   "metadata": {},
   "outputs": [],
   "source": [
    "import tornado\n",
    "from ipywidgets import interactive\n",
    "from IPython.display import display\n",
    "from tclab import TCLab, Historian, Plotter\n",
    "\n",
    "Kp = interactive(lambda Kp: Kp, Kp = (0,20))\n",
    "SP = interactive(lambda SP: SP, SP = (25,55))\n",
    "SP.layout.height = '500px'\n",
    "\n",
    "def update(tperiod):\n",
    "    t = 0\n",
    "    with TCLab() as a:\n",
    "        h = Historian(a.sources)\n",
    "        p = Plotter(h)\n",
    "        while t <= tperiod:\n",
    "            yield\n",
    "            p.update(t)\n",
    "            display(Kp)\n",
    "            display(SP)\n",
    "            a.U1 = SP.result\n",
    "            t += 1\n",
    "        timer.stop()\n",
    "\n",
    "update_gen = update(20)\n",
    "timer = tornado.ioloop.PeriodicCallback(lambda: next(update_gen), 1000)\n",
    "timer.start()"
   ]
  },
  {
   "cell_type": "code",
   "execution_count": null,
   "metadata": {},
   "outputs": [],
   "source": [
    "from ipywidgets import interactive\n",
    "from tclab import setup, clock, Historian, Plotter\n",
    "\n",
    "def proportional(Kp):\n",
    "    MV = 0\n",
    "    while True:\n",
    "        PV, SP = yield MV\n",
    "        MV = Kp*(SP-PV)\n",
    "\n",
    "def sim(Kp=1, SP=40):\n",
    "    controller = proportional(Kp)\n",
    "    controller.send(None)\n",
    "\n",
    "    lab = setup(connected=False, speedup=20)\n",
    "    with lab() as a:\n",
    "        h = Historian(a.sources)\n",
    "        p = Plotter(h,200)\n",
    "        for t in clock(200):\n",
    "            PV = a.T1\n",
    "            MV = controller.send([PV,SP])\n",
    "            a.U1 = MV\n",
    "            h.update()\n",
    "        p.update()   \n",
    "\n",
    "interactive_plot = interactive(sim, Kp=(0,20,1), SP=(25,60,5), continuous_update=False);\n",
    "output = interactive_plot.children[-1]\n",
    "output.layout.height = '500px'\n",
    "interactive_plot"
   ]
  },
  {
   "cell_type": "code",
   "execution_count": null,
   "metadata": {},
   "outputs": [],
   "source": [
    "timer.stop()"
   ]
  },
  {
   "cell_type": "code",
   "execution_count": null,
   "metadata": {},
   "outputs": [],
   "source": []
  }
 ],
 "metadata": {
  "kernelspec": {
   "display_name": "Python 3",
   "language": "python",
   "name": "python3"
  },
  "language_info": {
   "codemirror_mode": {
    "name": "ipython",
    "version": 3
   },
   "file_extension": ".py",
   "mimetype": "text/x-python",
   "name": "python",
   "nbconvert_exporter": "python",
   "pygments_lexer": "ipython3",
   "version": "3.6.3"
  }
 },
 "nbformat": 4,
 "nbformat_minor": 2
}
