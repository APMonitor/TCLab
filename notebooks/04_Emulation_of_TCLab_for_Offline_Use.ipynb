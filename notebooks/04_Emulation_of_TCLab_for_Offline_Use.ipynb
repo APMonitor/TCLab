{
 "cells": [
  {
   "cell_type": "markdown",
   "metadata": {},
   "source": [
    "# Emulation of TCLab for Offline Use\n",
    "\n",
    "`TCLabModel` replaces `TCLab` for occasions where the TCLab hardware might not be available. To use, include the import\n",
    "\n",
    "    from tclab import TCLabModel as TCLab \n",
    "    \n",
    "The rest of your code will work without change. Be advised the underlying model used to approximate the behavior of the Temperature Control Laboratory is an approximation to the dynamics of the actual hardware."
   ]
  },
  {
   "cell_type": "code",
   "execution_count": 1,
   "metadata": {},
   "outputs": [
    {
     "name": "stdout",
     "output_type": "stream",
     "text": [
      "Simulated TCLab\n",
      "Temperature 1: 20.95 °C\n",
      "Temperature 2: 20.88 °C\n",
      "TCLab Model disconnected successfully.\n"
     ]
    }
   ],
   "source": [
    "from tclab import TCLabModel as TCLab\n",
    "\n",
    "with TCLab() as a:\n",
    "    print(\"Temperature 1: {0:0.2f} °C\".format(a.T1))\n",
    "    print(\"Temperature 2: {0:0.2f} °C\".format(a.T2))"
   ]
  },
  {
   "cell_type": "markdown",
   "metadata": {},
   "source": [
    "## Choosing Real or Emulation mode with `setup()`\n",
    "\n",
    "The `tclab.setup()` function provides a choice of using actual hardware or an emulation of the TCLab device by changing a single line of code. When emulating TCLab, a second parameter allows the emulation to run at a multiple of real time.\n",
    "\n",
    "    lab = tclab.setup(connected=True)          # connects to TCLab mounted on arduino\n",
    "    lab = tclab.setup(connected=False)         # emulates the operation of TCLab\n",
    "    lab = tclab.setup(connected=False, rate=5) # emulates operation at 5x realtime\n",
    "    \n",
    "The next demonsrates emulation of the TCLab device at 5x real time."
   ]
  },
  {
   "cell_type": "code",
   "execution_count": 2,
   "metadata": {},
   "outputs": [
    {
     "name": "stdout",
     "output_type": "stream",
     "text": [
      "Simulated TCLab\n",
      "t =  0.0    Q1 = 100 %    T1 = 20.90\n",
      "t =  1.0    Q1 = 100 %    T1 = 21.02\n",
      "t =  2.0    Q1 = 100 %    T1 = 21.09\n",
      "t =  3.0    Q1 = 100 %    T1 = 21.16\n",
      "t =  4.0    Q1 = 100 %    T1 = 20.77\n",
      "t =  5.0    Q1 = 100 %    T1 = 21.21\n",
      "t =  6.0    Q1 = 100 %    T1 = 21.13\n",
      "t =  7.0    Q1 = 100 %    T1 = 21.29\n",
      "t =  8.0    Q1 = 100 %    T1 = 21.65\n",
      "t =  9.0    Q1 = 100 %    T1 = 22.18\n",
      "t = 10.0    Q1 =   0 %    T1 = 21.60\n",
      "t = 11.0    Q1 =   0 %    T1 = 21.94\n",
      "t = 12.0    Q1 =   0 %    T1 = 22.44\n",
      "t = 13.0    Q1 =   0 %    T1 = 22.73\n",
      "t = 14.0    Q1 =   0 %    T1 = 22.30\n",
      "t = 15.0    Q1 =   0 %    T1 = 22.92\n",
      "t = 16.0    Q1 =   0 %    T1 = 23.05\n",
      "t = 17.0    Q1 =   0 %    T1 = 22.77\n",
      "t = 18.0    Q1 =   0 %    T1 = 22.50\n",
      "t = 19.0    Q1 =   0 %    T1 = 23.26\n",
      "t = 20.0    Q1 =   0 %    T1 = 23.39\n",
      "TCLab Model disconnected successfully.\n"
     ]
    }
   ],
   "source": [
    "%matplotlib inline\n",
    "import tclab\n",
    "\n",
    "TCLab = tclab.setup(connected=False, rate=5)\n",
    "\n",
    "with TCLab() as lab:\n",
    "    for t in tclab.clock(20):\n",
    "        lab.Q1(100 if t < 10 else 0)\n",
    "        print(\"t = {0:4.1f}    Q1 = {1:3.0f} %    T1 = {2:5.2f}\".format(t, lab.Q1(), lab.T1))"
   ]
  },
  {
   "cell_type": "code",
   "execution_count": null,
   "metadata": {},
   "outputs": [],
   "source": []
  }
 ],
 "metadata": {
  "kernelspec": {
   "display_name": "Python 3",
   "language": "python",
   "name": "python3"
  },
  "language_info": {
   "codemirror_mode": {
    "name": "ipython",
    "version": 3
   },
   "file_extension": ".py",
   "mimetype": "text/x-python",
   "name": "python",
   "nbconvert_exporter": "python",
   "pygments_lexer": "ipython3",
   "version": "3.6.4"
  }
 },
 "nbformat": 4,
 "nbformat_minor": 2
}
