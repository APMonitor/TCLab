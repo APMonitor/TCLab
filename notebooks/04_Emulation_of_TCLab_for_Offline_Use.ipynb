{
 "cells": [
  {
   "cell_type": "markdown",
   "metadata": {},
   "source": [
    "# TCLab Emulation for Offline Use\n",
    "\n",
    "`TCLabModel` replaces `TCLab` for occasions where the TCLab hardware might not be available. To use, include the import\n",
    "\n",
    "    from tclab import TCLabModel as TCLab \n",
    "    \n",
    "The rest of your code will work without change. Be advised the underlying model used to approximate the behavior of the Temperature Control Laboratory is an approximation to the dynamics of the actual hardware."
   ]
  },
  {
   "cell_type": "code",
   "execution_count": 1,
   "metadata": {},
   "outputs": [
    {
     "name": "stdout",
     "output_type": "stream",
     "text": [
      "Simulated TCLab\n",
      "Temperature 1: 20.73 °C\n",
      "Temperature 2: 21.09 °C\n",
      "TCLab Model disconnected successfully.\n"
     ]
    }
   ],
   "source": [
    "from tclab import TCLabModel as TCLab\n",
    "\n",
    "with TCLab() as a:\n",
    "    print(\"Temperature 1: {0:0.2f} °C\".format(a.T1))\n",
    "    print(\"Temperature 2: {0:0.2f} °C\".format(a.T2))"
   ]
  },
  {
   "cell_type": "markdown",
   "metadata": {},
   "source": [
    "## Choosing Real or Emulation mode with `setup()`\n",
    "\n",
    "The `tclab.setup()` function provides a choice of using actual hardware or an emulation of the TCLab device by changing a single line of code. When emulating TCLab, a second parameter `speedup` allows the emulation to run at a multiple of real time.\n",
    "\n",
    "    # connect to TCLab mounted on arduino\n",
    "    TCLab = tclab.setup(connected=True)              \n",
    "    # Emulate the operation of TCLab using TCLabModel\n",
    "    TCLab = tclab.setup(connected=False)\n",
    "    # Emulate operation at 5× realtime\n",
    "    TCLab = tclab.setup(connected=False, speedup=5)\n",
    "    \n",
    "The next demonsrates emulation of the TCLab device at 5× real time."
   ]
  },
  {
   "cell_type": "code",
   "execution_count": 2,
   "metadata": {},
   "outputs": [
    {
     "name": "stdout",
     "output_type": "stream",
     "text": [
      "Simulated TCLab\n",
      "t =  0.0    Q1 = 100 %    T1 = 20.93\n",
      "t =  1.0    Q1 = 100 %    T1 = 21.16\n",
      "t =  2.0    Q1 = 100 %    T1 = 20.81\n",
      "t =  3.0    Q1 = 100 %    T1 = 21.30\n",
      "t =  4.0    Q1 = 100 %    T1 = 21.17\n",
      "t =  5.0    Q1 = 100 %    T1 = 21.53\n",
      "t =  6.0    Q1 = 100 %    T1 = 21.18\n",
      "t =  7.0    Q1 = 100 %    T1 = 21.54\n",
      "t =  8.0    Q1 = 100 %    T1 = 21.54\n",
      "t =  9.0    Q1 = 100 %    T1 = 21.90\n",
      "t = 10.0    Q1 =   0 %    T1 = 21.95\n",
      "t = 11.0    Q1 =   0 %    T1 = 22.23\n",
      "t = 12.0    Q1 =   0 %    T1 = 22.50\n",
      "t = 13.0    Q1 =   0 %    T1 = 22.49\n",
      "t = 14.0    Q1 =   0 %    T1 = 22.32\n",
      "t = 15.0    Q1 =   0 %    T1 = 22.58\n",
      "t = 16.0    Q1 =   0 %    T1 = 23.04\n",
      "t = 17.0    Q1 =   0 %    T1 = 23.23\n",
      "t = 18.0    Q1 =   0 %    T1 = 23.19\n",
      "t = 19.0    Q1 =   0 %    T1 = 23.38\n",
      "t = 20.0    Q1 =   0 %    T1 = 23.62\n",
      "TCLab Model disconnected successfully.\n"
     ]
    }
   ],
   "source": [
    "%matplotlib inline\n",
    "import tclab\n",
    "\n",
    "TCLab = tclab.setup(connected=False, speedup=5)\n",
    "\n",
    "with TCLab() as lab:\n",
    "    for t in tclab.clock(20):\n",
    "        lab.Q1(100 if t < 10 else 0)\n",
    "        print(\"t = {0:4.1f}    Q1 = {1:3.0f} %    T1 = {2:5.2f}\".format(t, lab.Q1(), lab.T1))"
   ]
  },
  {
   "cell_type": "code",
   "execution_count": null,
   "metadata": {},
   "outputs": [],
   "source": []
  }
 ],
 "metadata": {
  "kernelspec": {
   "display_name": "Python 3",
   "language": "python",
   "name": "python3"
  },
  "language_info": {
   "codemirror_mode": {
    "name": "ipython",
    "version": 3
   },
   "file_extension": ".py",
   "mimetype": "text/x-python",
   "name": "python",
   "nbconvert_exporter": "python",
   "pygments_lexer": "ipython3",
   "version": "3.6.4"
  }
 },
 "nbformat": 4,
 "nbformat_minor": 2
}
