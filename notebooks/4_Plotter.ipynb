{
 "cells": [
  {
   "cell_type": "markdown",
   "metadata": {},
   "source": [
    "# The TCLab Plotter\n",
    "\n",
    "When operating in a Jupyter Notebook, a `Plotter` can be used together with the `Historian`.  \n",
    "\n",
    "    h = Historian(a)\n",
    "    p = Plotter(h, tfinal)\n",
    "    \n",
    "where `a` is a `TCLab` instance as before and the optional parameter `tfinal` provides an initial scaling of the time axes. Each call to `p.update()` will automatically update both the historian and the plot."
   ]
  },
  {
   "cell_type": "code",
   "execution_count": null,
   "metadata": {
    "scrolled": false
   },
   "outputs": [],
   "source": [
    "%matplotlib notebook\n",
    "from tclab import TCLab, clock, Historian, Plotter\n",
    "\n",
    "with TCLab() as a:\n",
    "    h = Historian(a.sources)\n",
    "    p = Plotter(h, twindow=200)\n",
    "    for t in clock(200):\n",
    "        a.Q1(100 if t < 100 else 0)\n",
    "        p.update(t)"
   ]
  },
  {
   "cell_type": "code",
   "execution_count": null,
   "metadata": {},
   "outputs": [],
   "source": []
  }
 ],
 "metadata": {
  "kernelspec": {
   "display_name": "Python 3",
   "language": "python",
   "name": "python3"
  },
  "language_info": {
   "codemirror_mode": {
    "name": "ipython",
    "version": 3
   },
   "file_extension": ".py",
   "mimetype": "text/x-python",
   "name": "python",
   "nbconvert_exporter": "python",
   "pygments_lexer": "ipython3",
   "version": "3.6.3"
  }
 },
 "nbformat": 4,
 "nbformat_minor": 2
}
