{
 "cells": [
  {
   "cell_type": "code",
   "execution_count": 1,
   "metadata": {},
   "outputs": [],
   "source": [
    "import datetime\n",
    "import time\n",
    "import tornado\n",
    "import pandas"
   ]
  },
  {
   "cell_type": "code",
   "execution_count": 2,
   "metadata": {},
   "outputs": [],
   "source": [
    "from tclab import TCLab"
   ]
  },
  {
   "cell_type": "code",
   "execution_count": 3,
   "metadata": {},
   "outputs": [],
   "source": [
    "from IPython import display\n",
    "from ipywidgets import Button, Label, FloatSlider, HBox, VBox"
   ]
  },
  {
   "cell_type": "code",
   "execution_count": 4,
   "metadata": {},
   "outputs": [],
   "source": [
    "%matplotlib notebook\n",
    "import matplotlib.pyplot as plt"
   ]
  },
  {
   "cell_type": "code",
   "execution_count": 5,
   "metadata": {},
   "outputs": [],
   "source": [
    "def update():\n",
    "    timewidget.value = datetime.datetime.now().isoformat(timespec='seconds')\n",
    "    T1widget.value = '{:2.1f}'.format(lab.T1)\n",
    "    T2widget.value = '{:2.1f}'.format(lab.T2)"
   ]
  },
  {
   "cell_type": "code",
   "execution_count": 6,
   "metadata": {},
   "outputs": [],
   "source": [
    "timer = tornado.ioloop.PeriodicCallback(update, 1000)"
   ]
  },
  {
   "cell_type": "code",
   "execution_count": 7,
   "metadata": {},
   "outputs": [],
   "source": [
    "def action_start(widget):\n",
    "    timer.start()\n",
    "    start.disabled = True\n",
    "    stop.disabled = False\n",
    "    disconnect.disabled = True\n",
    "\n",
    "    Q1widget.disabled = False\n",
    "    Q2widget.disabled = False"
   ]
  },
  {
   "cell_type": "code",
   "execution_count": 8,
   "metadata": {},
   "outputs": [],
   "source": [
    "def action_stop(widget):\n",
    "    timer.stop()\n",
    "    start.disabled = False\n",
    "    stop.disabled = True\n",
    "    disconnect.disabled = False\n",
    "    Q1widget.disabled = True\n",
    "    Q2widget.disabled = True"
   ]
  },
  {
   "cell_type": "code",
   "execution_count": 9,
   "metadata": {},
   "outputs": [],
   "source": [
    "def action_connect(widget):\n",
    "    global lab\n",
    "    \n",
    "    lab = TCLab()\n",
    "    lab.connected = True\n",
    "        \n",
    "    connect.disabled = True\n",
    "    start.disabled = False\n",
    "    disconnect.disabled = False"
   ]
  },
  {
   "cell_type": "code",
   "execution_count": 10,
   "metadata": {},
   "outputs": [],
   "source": [
    "def action_disconnect(widget):\n",
    "    global lab\n",
    "    \n",
    "    lab.close()\n",
    "    lab.connected = False\n",
    "    \n",
    "    connect.disabled = False\n",
    "    disconnect.disabled = True\n",
    "    start.disabled = True"
   ]
  },
  {
   "cell_type": "code",
   "execution_count": 11,
   "metadata": {},
   "outputs": [],
   "source": [
    "def action_Q1(change):\n",
    "    lab.Q1(change['new'])"
   ]
  },
  {
   "cell_type": "code",
   "execution_count": 12,
   "metadata": {},
   "outputs": [],
   "source": [
    "def action_Q2(change):\n",
    "    lab.Q2(change['value'])"
   ]
  },
  {
   "cell_type": "code",
   "execution_count": 13,
   "metadata": {},
   "outputs": [],
   "source": [
    "def actionbutton(description, action, disabled=True):\n",
    "    button = Button(description=description, disabled=disabled)\n",
    "    button.on_click(action)\n",
    "\n",
    "    return button"
   ]
  },
  {
   "cell_type": "code",
   "execution_count": 14,
   "metadata": {},
   "outputs": [],
   "source": [
    "def labelledvalue(label, value, units=''):\n",
    "    labelwidget = Label(value=label)\n",
    "    valuewidget = Label(value=str(value))\n",
    "    unitwidget = Label(value=units)\n",
    "    box = HBox([labelwidget, valuewidget, unitwidget])\n",
    "    \n",
    "    return valuewidget, box"
   ]
  },
  {
   "cell_type": "code",
   "execution_count": 15,
   "metadata": {},
   "outputs": [],
   "source": [
    "def slider(label, action, minvalue=0, maxvalue=100, disabled=True):\n",
    "    sliderwidget = FloatSlider(description=label, min=minvalue, max=maxvalue)\n",
    "    sliderwidget.disabled = disabled\n",
    "    sliderwidget.observe(action, names='value')    \n",
    "\n",
    "    return sliderwidget"
   ]
  },
  {
   "cell_type": "code",
   "execution_count": 16,
   "metadata": {},
   "outputs": [],
   "source": [
    "# Buttons\n",
    "connect = actionbutton('Connect', action_connect, False)\n",
    "start = actionbutton('Start', action_start)\n",
    "stop = actionbutton('Stop', action_stop)\n",
    "disconnect = actionbutton('Disconnect', action_disconnect)\n",
    "\n",
    "buttons = HBox([connect, start, stop, disconnect])\n",
    "\n",
    "#time\n",
    "timewidget, timebox = labelledvalue('Timestamp:', 'No data')\n",
    "\n",
    "# Sliders for heaters\n",
    "Q1widget = slider('Q1', action_Q1)\n",
    "Q2widget = slider('Q2', action_Q2)\n",
    "\n",
    "heaters = VBox([Q1widget, Q2widget])\n",
    "\n",
    "# Temperature display\n",
    "T1widget, T1box = labelledvalue('T1:', 0, '°C')\n",
    "T2widget, T2box = labelledvalue('T2:', 0, '°C')\n",
    "\n",
    "temperatures = VBox([T1box, T2box])\n",
    "\n",
    "gui = VBox([buttons,\n",
    "            timebox,\n",
    "            HBox([heaters, temperatures]),\n",
    "           ])"
   ]
  },
  {
   "cell_type": "code",
   "execution_count": 17,
   "metadata": {},
   "outputs": [
    {
     "data": {
      "application/vnd.jupyter.widget-view+json": {
       "model_id": "a4725f9b01f7413999b32e16ffcd21d5",
       "version_major": 2,
       "version_minor": 0
      },
      "text/html": [
       "<p>Failed to display Jupyter Widget of type <code>VBox</code>.</p>\n",
       "<p>\n",
       "  If you're reading this message in the Jupyter Notebook or JupyterLab Notebook, it may mean\n",
       "  that the widgets JavaScript is still loading. If this message persists, it\n",
       "  likely means that the widgets JavaScript library is either not installed or\n",
       "  not enabled. See the <a href=\"https://ipywidgets.readthedocs.io/en/stable/user_install.html\">Jupyter\n",
       "  Widgets Documentation</a> for setup instructions.\n",
       "</p>\n",
       "<p>\n",
       "  If you're reading this message in another frontend (for example, a static\n",
       "  rendering on GitHub or <a href=\"https://nbviewer.jupyter.org/\">NBViewer</a>),\n",
       "  it may mean that your frontend doesn't currently support widgets.\n",
       "</p>\n"
      ],
      "text/plain": [
       "VBox(children=(HBox(children=(Button(description='Connect', style=ButtonStyle()), Button(description='Start', disabled=True, style=ButtonStyle()), Button(description='Stop', disabled=True, style=ButtonStyle()), Button(description='Disconnect', disabled=True, style=ButtonStyle()))), HBox(children=(Label(value='Timestamp:'), Label(value='No data'), Label(value=''))), HBox(children=(VBox(children=(FloatSlider(value=0.0, description='Q1', disabled=True), FloatSlider(value=0.0, description='Q2', disabled=True))), VBox(children=(HBox(children=(Label(value='T1:'), Label(value='0'), Label(value='°C'))), HBox(children=(Label(value='T2:'), Label(value='0'), Label(value='°C')))))))))"
      ]
     },
     "metadata": {},
     "output_type": "display_data"
    },
    {
     "name": "stdout",
     "output_type": "stream",
     "text": [
      "Connecting to TCLab\n",
      "TCLab Firmware Version 1.2.1 on NHduino connected to port /dev/cu.wchusbserial1410\n",
      "TCLab disconnected successfully.\n"
     ]
    }
   ],
   "source": [
    "display.display(gui)"
   ]
  }
 ],
 "metadata": {
  "kernelspec": {
   "display_name": "Python 3",
   "language": "python",
   "name": "python3"
  },
  "language_info": {
   "codemirror_mode": {
    "name": "ipython",
    "version": 3
   },
   "file_extension": ".py",
   "mimetype": "text/x-python",
   "name": "python",
   "nbconvert_exporter": "python",
   "pygments_lexer": "ipython3",
   "version": "3.6.4"
  }
 },
 "nbformat": 4,
 "nbformat_minor": 2
}
