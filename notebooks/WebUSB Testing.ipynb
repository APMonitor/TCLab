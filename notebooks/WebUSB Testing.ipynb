{
 "cells": [
  {
   "cell_type": "code",
   "execution_count": 22,
   "metadata": {},
   "outputs": [
    {
     "data": {
      "application/javascript": [
       "var button = document.createElement(\"button\");\n",
       "button.innerHTML = \"Do Something\";\n",
       "var body = document.getElementsByTagName(\"body\")[0];\n",
       "body.appendChild(button);"
      ],
      "text/plain": [
       "<IPython.core.display.Javascript object>"
      ]
     },
     "metadata": {},
     "output_type": "display_data"
    }
   ],
   "source": [
    "%%javascript\n",
    "var button = document.createElement(\"button\");\n",
    "button.innerHTML = \"Do Something\";\n",
    "var body = document.getElementsByTagName(\"body\")[0];\n",
    "body.appendChild(button);"
   ]
  },
  {
   "cell_type": "code",
   "execution_count": 23,
   "metadata": {},
   "outputs": [
    {
     "data": {
      "application/javascript": [
       "navigator.usb.requestDevice({ filters: [{ vendorId: 0x2341 }] })\n",
       ".then(device => {\n",
       "  console.log(device.productName);\n",
       "  console.log(device.manufacturerName);\n",
       "})\n",
       ".catch(error => { alert(error); });"
      ],
      "text/plain": [
       "<IPython.core.display.Javascript object>"
      ]
     },
     "metadata": {},
     "output_type": "display_data"
    }
   ],
   "source": [
    "%%javascript\n",
    "navigator.usb.requestDevice({ filters: [{ vendorId: 0x2341 }] })\n",
    ".then(device => {\n",
    "  console.log(device.productName);\n",
    "  console.log(device.manufacturerName);\n",
    "})\n",
    ".catch(error => { alert(error); });"
   ]
  },
  {
   "cell_type": "code",
   "execution_count": 28,
   "metadata": {},
   "outputs": [
    {
     "data": {
      "text/html": [
       "\n",
       "<div style=\"background-color:gainsboro; border:solid black; width:300px; padding:20px;\">\n",
       "<button onclick=\"set_value()\">Connect</button>\n",
       "</div>\n"
      ],
      "text/plain": [
       "<IPython.core.display.HTML object>"
      ]
     },
     "execution_count": 28,
     "metadata": {},
     "output_type": "execute_result"
    }
   ],
   "source": [
    "from IPython.display import HTML\n",
    "\n",
    "input_form = \"\"\"\n",
    "<div style=\"background-color:gainsboro; border:solid black; width:300px; padding:20px;\">\n",
    "<button onclick=\"set_value()\">Connect</button>\n",
    "</div>\n",
    "\"\"\"\n",
    "\n",
    "HTML(input_form)"
   ]
  },
  {
   "cell_type": "code",
   "execution_count": 29,
   "metadata": {},
   "outputs": [
    {
     "data": {
      "application/javascript": [
       "var serial = {};\n",
       "\n",
       "(function() {\n",
       "  'use strict';\n",
       "\n",
       "  serial.getPorts = function() {\n",
       "    return navigator.usb.getDevices().then(devices => {\n",
       "      return devices.map(device => new serial.Port(device));\n",
       "    });\n",
       "  };\n",
       "\n",
       "  serial.requestPort = function() {\n",
       "    const filters = [\n",
       "      { 'vendorId': 0x2341, 'productId': 0x8036 },\n",
       "      { 'vendorId': 0x2341, 'productId': 0x8037 },\n",
       "      { 'vendorId': 0x2341, 'productId': 0x804d },\n",
       "      { 'vendorId': 0x2341, 'productId': 0x804e },\n",
       "      { 'vendorId': 0x2341, 'productId': 0x804f },\n",
       "      { 'vendorId': 0x2341, 'productId': 0x8050 },\n",
       "    ];\n",
       "    return navigator.usb.requestDevice({ 'filters': filters }).then(\n",
       "      device => new serial.Port(device)\n",
       "    );\n",
       "  }\n",
       "\n",
       "  serial.Port = function(device) {\n",
       "    this.device_ = device;\n",
       "  };\n",
       "\n",
       "  serial.Port.prototype.connect = function() {\n",
       "    let readLoop = () => {\n",
       "      this.device_.transferIn(5, 64).then(result => {\n",
       "        this.onReceive(result.data);\n",
       "        readLoop();\n",
       "      }, error => {\n",
       "        this.onReceiveError(error);\n",
       "      });\n",
       "    };\n",
       "\n",
       "    return this.device_.open()\n",
       "        .then(() => {\n",
       "          if (this.device_.configuration === null) {\n",
       "            return this.device_.selectConfiguration(1);\n",
       "          }\n",
       "        })\n",
       "        .then(() => this.device_.claimInterface(2))\n",
       "        .then(() => this.device_.selectAlternateInterface(2, 0))\n",
       "        .then(() => this.device_.controlTransferOut({\n",
       "            'requestType': 'class',\n",
       "            'recipient': 'interface',\n",
       "            'request': 0x22,\n",
       "            'value': 0x01,\n",
       "            'index': 0x02}))\n",
       "        .then(() => {\n",
       "          readLoop();\n",
       "        });\n",
       "  };\n",
       "\n",
       "  serial.Port.prototype.disconnect = function() {\n",
       "    return this.device_.controlTransferOut({\n",
       "            'requestType': 'class',\n",
       "            'recipient': 'interface',\n",
       "            'request': 0x22,\n",
       "            'value': 0x00,\n",
       "            'index': 0x02})\n",
       "        .then(() => this.device_.close());\n",
       "  };\n",
       "\n",
       "  serial.Port.prototype.send = function(data) {\n",
       "    return this.device_.transferOut(4, data);\n",
       "  };\n",
       "})();"
      ],
      "text/plain": [
       "<IPython.core.display.Javascript object>"
      ]
     },
     "metadata": {},
     "output_type": "display_data"
    }
   ],
   "source": [
    "%%javascript\n",
    "var serial = {};\n",
    "\n",
    "(function() {\n",
    "  'use strict';\n",
    "\n",
    "  serial.getPorts = function() {\n",
    "    return navigator.usb.getDevices().then(devices => {\n",
    "      return devices.map(device => new serial.Port(device));\n",
    "    });\n",
    "  };\n",
    "\n",
    "  serial.requestPort = function() {\n",
    "    const filters = [\n",
    "      { 'vendorId': 0x2341, 'productId': 0x8036 },\n",
    "      { 'vendorId': 0x2341, 'productId': 0x8037 },\n",
    "      { 'vendorId': 0x2341, 'productId': 0x804d },\n",
    "      { 'vendorId': 0x2341, 'productId': 0x804e },\n",
    "      { 'vendorId': 0x2341, 'productId': 0x804f },\n",
    "      { 'vendorId': 0x2341, 'productId': 0x8050 },\n",
    "    ];\n",
    "    return navigator.usb.requestDevice({ 'filters': filters }).then(\n",
    "      device => new serial.Port(device)\n",
    "    );\n",
    "  }\n",
    "\n",
    "  serial.Port = function(device) {\n",
    "    this.device_ = device;\n",
    "  };\n",
    "\n",
    "  serial.Port.prototype.connect = function() {\n",
    "    let readLoop = () => {\n",
    "      this.device_.transferIn(5, 64).then(result => {\n",
    "        this.onReceive(result.data);\n",
    "        readLoop();\n",
    "      }, error => {\n",
    "        this.onReceiveError(error);\n",
    "      });\n",
    "    };\n",
    "\n",
    "    return this.device_.open()\n",
    "        .then(() => {\n",
    "          if (this.device_.configuration === null) {\n",
    "            return this.device_.selectConfiguration(1);\n",
    "          }\n",
    "        })\n",
    "        .then(() => this.device_.claimInterface(2))\n",
    "        .then(() => this.device_.selectAlternateInterface(2, 0))\n",
    "        .then(() => this.device_.controlTransferOut({\n",
    "            'requestType': 'class',\n",
    "            'recipient': 'interface',\n",
    "            'request': 0x22,\n",
    "            'value': 0x01,\n",
    "            'index': 0x02}))\n",
    "        .then(() => {\n",
    "          readLoop();\n",
    "        });\n",
    "  };\n",
    "\n",
    "  serial.Port.prototype.disconnect = function() {\n",
    "    return this.device_.controlTransferOut({\n",
    "            'requestType': 'class',\n",
    "            'recipient': 'interface',\n",
    "            'request': 0x22,\n",
    "            'value': 0x00,\n",
    "            'index': 0x02})\n",
    "        .then(() => this.device_.close());\n",
    "  };\n",
    "\n",
    "  serial.Port.prototype.send = function(data) {\n",
    "    return this.device_.transferOut(4, data);\n",
    "  };\n",
    "})();"
   ]
  },
  {
   "cell_type": "code",
   "execution_count": 32,
   "metadata": {},
   "outputs": [
    {
     "data": {
      "application/javascript": [
       "print(serial);"
      ],
      "text/plain": [
       "<IPython.core.display.Javascript object>"
      ]
     },
     "metadata": {},
     "output_type": "display_data"
    }
   ],
   "source": [
    "%%javascript\n",
    "print(serial);"
   ]
  },
  {
   "cell_type": "code",
   "execution_count": null,
   "metadata": {
    "collapsed": true
   },
   "outputs": [],
   "source": []
  }
 ],
 "metadata": {
  "kernelspec": {
   "display_name": "Python 3",
   "language": "python",
   "name": "python3"
  },
  "language_info": {
   "codemirror_mode": {
    "name": "ipython",
    "version": 3
   },
   "file_extension": ".py",
   "mimetype": "text/x-python",
   "name": "python",
   "nbconvert_exporter": "python",
   "pygments_lexer": "ipython3",
   "version": "3.6.1"
  }
 },
 "nbformat": 4,
 "nbformat_minor": 2
}
